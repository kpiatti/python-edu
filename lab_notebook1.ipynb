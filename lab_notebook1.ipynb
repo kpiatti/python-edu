{
 "cells": [
  {
   "cell_type": "markdown",
   "metadata": {
    "collapsed": "true"
   },
   "source": [
    "### Imports"
   ]
  },
  {
   "cell_type": "code",
   "execution_count": 1,
   "metadata": {},
   "outputs": [],
   "source": [
    "import pandas as pd\n",
    "import numpy as np\n",
    "import matplotlib.pyplot as plt\n",
    "import seaborn as sns"
   ]
  },
  {
   "cell_type": "code",
   "execution_count": 2,
   "metadata": {},
   "outputs": [
    {
     "data": {
      "text/html": [
       "<div>\n",
       "<style scoped>\n",
       "    .dataframe tbody tr th:only-of-type {\n",
       "        vertical-align: middle;\n",
       "    }\n",
       "\n",
       "    .dataframe tbody tr th {\n",
       "        vertical-align: top;\n",
       "    }\n",
       "\n",
       "    .dataframe thead th {\n",
       "        text-align: right;\n",
       "    }\n",
       "</style>\n",
       "<table border=\"1\" class=\"dataframe\">\n",
       "  <thead>\n",
       "    <tr style=\"text-align: right;\">\n",
       "      <th></th>\n",
       "      <th>in-store</th>\n",
       "      <th>age</th>\n",
       "      <th>items</th>\n",
       "      <th>amount</th>\n",
       "      <th>region</th>\n",
       "    </tr>\n",
       "  </thead>\n",
       "  <tbody>\n",
       "    <tr>\n",
       "      <th>0</th>\n",
       "      <td>0</td>\n",
       "      <td>37</td>\n",
       "      <td>4</td>\n",
       "      <td>281.03</td>\n",
       "      <td>2</td>\n",
       "    </tr>\n",
       "    <tr>\n",
       "      <th>1</th>\n",
       "      <td>0</td>\n",
       "      <td>35</td>\n",
       "      <td>2</td>\n",
       "      <td>219.51</td>\n",
       "      <td>2</td>\n",
       "    </tr>\n",
       "    <tr>\n",
       "      <th>2</th>\n",
       "      <td>1</td>\n",
       "      <td>45</td>\n",
       "      <td>3</td>\n",
       "      <td>1525.70</td>\n",
       "      <td>4</td>\n",
       "    </tr>\n",
       "    <tr>\n",
       "      <th>3</th>\n",
       "      <td>1</td>\n",
       "      <td>46</td>\n",
       "      <td>3</td>\n",
       "      <td>715.25</td>\n",
       "      <td>3</td>\n",
       "    </tr>\n",
       "    <tr>\n",
       "      <th>4</th>\n",
       "      <td>1</td>\n",
       "      <td>33</td>\n",
       "      <td>4</td>\n",
       "      <td>1937.50</td>\n",
       "      <td>1</td>\n",
       "    </tr>\n",
       "  </tbody>\n",
       "</table>\n",
       "</div>"
      ],
      "text/plain": [
       "   in-store  age  items   amount  region\n",
       "0         0   37      4   281.03       2\n",
       "1         0   35      2   219.51       2\n",
       "2         1   45      3  1525.70       4\n",
       "3         1   46      3   715.25       3\n",
       "4         1   33      4  1937.50       1"
      ]
     },
     "execution_count": 2,
     "metadata": {},
     "output_type": "execute_result"
    }
   ],
   "source": [
    "#import data file\n",
    "df = pd.read_csv('Demographic_Data.csv')\n",
    "df.head()"
   ]
  },
  {
   "cell_type": "markdown",
   "metadata": {
    "collapsed": "true"
   },
   "source": [
    "# Working in IPython"
   ]
  },
  {
   "cell_type": "markdown",
   "metadata": {},
   "source": [
    "## Help & Documentation in Python"
   ]
  },
  {
   "cell_type": "code",
   "execution_count": 5,
   "metadata": {},
   "outputs": [
    {
     "data": {
      "text/plain": [
       "\u001b[1;31mType:\u001b[0m        property\n",
       "\u001b[1;31mString form:\u001b[0m <property object at 0x000002576A43C770>\n",
       "\u001b[1;31mDocstring:\u001b[0m  \n",
       "Return a tuple representing the dimensionality of the DataFrame.\n",
       "\n",
       "See Also\n",
       "--------\n",
       "ndarray.shape\n",
       "\n",
       "Examples\n",
       "--------\n",
       ">>> df = pd.DataFrame({'col1': [1, 2], 'col2': [3, 4]})\n",
       ">>> df.shape\n",
       "(2, 2)\n",
       "\n",
       ">>> df = pd.DataFrame({'col1': [1, 2], 'col2': [3, 4],\n",
       "...                    'col3': [5, 6]})\n",
       ">>> df.shape\n",
       "(2, 3)\n"
      ]
     },
     "metadata": {},
     "output_type": "display_data"
    }
   ],
   "source": [
    "#use ? to bring up documentation for Python commands\n",
    "df.shape?"
   ]
  },
  {
   "cell_type": "code",
   "execution_count": 7,
   "metadata": {},
   "outputs": [
    {
     "data": {
      "text/plain": [
       "\u001b[1;31mType:\u001b[0m        property\n",
       "\u001b[1;31mString form:\u001b[0m <property object at 0x000002576A43C770>\n",
       "\u001b[1;31mSource:\u001b[0m     \n",
       "\u001b[1;31m# df.shape.fget\u001b[0m\u001b[1;33m\n",
       "\u001b[0m\u001b[1;33m@\u001b[0m\u001b[0mproperty\u001b[0m\u001b[1;33m\n",
       "\u001b[0m\u001b[1;32mdef\u001b[0m \u001b[0mshape\u001b[0m\u001b[1;33m(\u001b[0m\u001b[0mself\u001b[0m\u001b[1;33m)\u001b[0m \u001b[1;33m->\u001b[0m \u001b[0mTuple\u001b[0m\u001b[1;33m[\u001b[0m\u001b[0mint\u001b[0m\u001b[1;33m,\u001b[0m \u001b[0mint\u001b[0m\u001b[1;33m]\u001b[0m\u001b[1;33m:\u001b[0m\u001b[1;33m\n",
       "\u001b[0m    \u001b[1;34m\"\"\"\n",
       "    Return a tuple representing the dimensionality of the DataFrame.\n",
       "\n",
       "    See Also\n",
       "    --------\n",
       "    ndarray.shape\n",
       "\n",
       "    Examples\n",
       "    --------\n",
       "    >>> df = pd.DataFrame({'col1': [1, 2], 'col2': [3, 4]})\n",
       "    >>> df.shape\n",
       "    (2, 2)\n",
       "\n",
       "    >>> df = pd.DataFrame({'col1': [1, 2], 'col2': [3, 4],\n",
       "    ...                    'col3': [5, 6]})\n",
       "    >>> df.shape\n",
       "    (2, 3)\n",
       "    \"\"\"\u001b[0m\u001b[1;33m\n",
       "\u001b[0m    \u001b[1;32mreturn\u001b[0m \u001b[0mlen\u001b[0m\u001b[1;33m(\u001b[0m\u001b[0mself\u001b[0m\u001b[1;33m.\u001b[0m\u001b[0mindex\u001b[0m\u001b[1;33m)\u001b[0m\u001b[1;33m,\u001b[0m \u001b[0mlen\u001b[0m\u001b[1;33m(\u001b[0m\u001b[0mself\u001b[0m\u001b[1;33m.\u001b[0m\u001b[0mcolumns\u001b[0m\u001b[1;33m)\u001b[0m\u001b[1;33m\u001b[0m\u001b[1;33m\u001b[0m\u001b[0m\n"
      ]
     },
     "metadata": {},
     "output_type": "display_data"
    }
   ],
   "source": [
    "#use ?? to bring up source code\n",
    "df.shape??"
   ]
  },
  {
   "cell_type": "code",
   "execution_count": 8,
   "metadata": {},
   "outputs": [
    {
     "data": {
      "text/plain": [
       "<bound method DataFrame.shift of        in-store  age  items   amount  region\n",
       "0             0   37      4   281.03       2\n",
       "1             0   35      2   219.51       2\n",
       "2             1   45      3  1525.70       4\n",
       "3             1   46      3   715.25       3\n",
       "4             1   33      4  1937.50       1\n",
       "...         ...  ...    ...      ...     ...\n",
       "79995         1   71      3   558.82       1\n",
       "79996         0   59      7  1932.00       3\n",
       "79997         0   54      1   414.16       2\n",
       "79998         1   49      4   335.32       1\n",
       "79999         1   30      1   527.12       3\n",
       "\n",
       "[80000 rows x 5 columns]>"
      ]
     },
     "execution_count": 8,
     "metadata": {},
     "output_type": "execute_result"
    }
   ],
   "source": [
    "#use TAB to bring up list of available functions when you only know first few letters\n",
    "df.shift\n",
    "\n",
    "#you can also use TAB to show what options you have when importing"
   ]
  },
  {
   "cell_type": "code",
   "execution_count": 9,
   "metadata": {},
   "outputs": [
    {
     "data": {
      "text/plain": [
       "\u001b[1;31mSignature:\u001b[0m \u001b[0mdf\u001b[0m\u001b[1;33m.\u001b[0m\u001b[0mshift\u001b[0m\u001b[1;33m(\u001b[0m\u001b[0mperiods\u001b[0m\u001b[1;33m=\u001b[0m\u001b[1;36m1\u001b[0m\u001b[1;33m,\u001b[0m \u001b[0mfreq\u001b[0m\u001b[1;33m=\u001b[0m\u001b[1;32mNone\u001b[0m\u001b[1;33m,\u001b[0m \u001b[0maxis\u001b[0m\u001b[1;33m=\u001b[0m\u001b[1;36m0\u001b[0m\u001b[1;33m,\u001b[0m \u001b[0mfill_value\u001b[0m\u001b[1;33m=\u001b[0m\u001b[1;32mNone\u001b[0m\u001b[1;33m)\u001b[0m \u001b[1;33m->\u001b[0m \u001b[1;34m'DataFrame'\u001b[0m\u001b[1;33m\u001b[0m\u001b[1;33m\u001b[0m\u001b[0m\n",
       "\u001b[1;31mDocstring:\u001b[0m\n",
       "Shift index by desired number of periods with an optional time `freq`.\n",
       "\n",
       "When `freq` is not passed, shift the index without realigning the data.\n",
       "If `freq` is passed (in this case, the index must be date or datetime,\n",
       "or it will raise a `NotImplementedError`), the index will be\n",
       "increased using the periods and the `freq`. `freq` can be inferred\n",
       "when specified as \"infer\" as long as either freq or inferred_freq\n",
       "attribute is set in the index.\n",
       "\n",
       "Parameters\n",
       "----------\n",
       "periods : int\n",
       "    Number of periods to shift. Can be positive or negative.\n",
       "freq : DateOffset, tseries.offsets, timedelta, or str, optional\n",
       "    Offset to use from the tseries module or time rule (e.g. 'EOM').\n",
       "    If `freq` is specified then the index values are shifted but the\n",
       "    data is not realigned. That is, use `freq` if you would like to\n",
       "    extend the index when shifting and preserve the original data.\n",
       "    If `freq` is specified as \"infer\" then it will be inferred from\n",
       "    the freq or inferred_freq attributes of the index. If neither of\n",
       "    those attributes exist, a ValueError is thrown\n",
       "axis : {0 or 'index', 1 or 'columns', None}, default None\n",
       "    Shift direction.\n",
       "fill_value : object, optional\n",
       "    The scalar value to use for newly introduced missing values.\n",
       "    the default depends on the dtype of `self`.\n",
       "    For numeric data, ``np.nan`` is used.\n",
       "    For datetime, timedelta, or period data, etc. :attr:`NaT` is used.\n",
       "    For extension dtypes, ``self.dtype.na_value`` is used.\n",
       "\n",
       "    .. versionchanged:: 1.1.0\n",
       "\n",
       "Returns\n",
       "-------\n",
       "DataFrame\n",
       "    Copy of input object, shifted.\n",
       "\n",
       "See Also\n",
       "--------\n",
       "Index.shift : Shift values of Index.\n",
       "DatetimeIndex.shift : Shift values of DatetimeIndex.\n",
       "PeriodIndex.shift : Shift values of PeriodIndex.\n",
       "tshift : Shift the time index, using the index's frequency if\n",
       "    available.\n",
       "\n",
       "Examples\n",
       "--------\n",
       ">>> df = pd.DataFrame({\"Col1\": [10, 20, 15, 30, 45],\n",
       "...                    \"Col2\": [13, 23, 18, 33, 48],\n",
       "...                    \"Col3\": [17, 27, 22, 37, 52]},\n",
       "...                   index=pd.date_range(\"2020-01-01\", \"2020-01-05\"))\n",
       ">>> df\n",
       "            Col1  Col2  Col3\n",
       "2020-01-01    10    13    17\n",
       "2020-01-02    20    23    27\n",
       "2020-01-03    15    18    22\n",
       "2020-01-04    30    33    37\n",
       "2020-01-05    45    48    52\n",
       "\n",
       ">>> df.shift(periods=3)\n",
       "            Col1  Col2  Col3\n",
       "2020-01-01   NaN   NaN   NaN\n",
       "2020-01-02   NaN   NaN   NaN\n",
       "2020-01-03   NaN   NaN   NaN\n",
       "2020-01-04  10.0  13.0  17.0\n",
       "2020-01-05  20.0  23.0  27.0\n",
       "\n",
       ">>> df.shift(periods=1, axis=\"columns\")\n",
       "            Col1  Col2  Col3\n",
       "2020-01-01   NaN  10.0  13.0\n",
       "2020-01-02   NaN  20.0  23.0\n",
       "2020-01-03   NaN  15.0  18.0\n",
       "2020-01-04   NaN  30.0  33.0\n",
       "2020-01-05   NaN  45.0  48.0\n",
       "\n",
       ">>> df.shift(periods=3, fill_value=0)\n",
       "            Col1  Col2  Col3\n",
       "2020-01-01     0     0     0\n",
       "2020-01-02     0     0     0\n",
       "2020-01-03     0     0     0\n",
       "2020-01-04    10    13    17\n",
       "2020-01-05    20    23    27\n",
       "\n",
       ">>> df.shift(periods=3, freq=\"D\")\n",
       "            Col1  Col2  Col3\n",
       "2020-01-04    10    13    17\n",
       "2020-01-05    20    23    27\n",
       "2020-01-06    15    18    22\n",
       "2020-01-07    30    33    37\n",
       "2020-01-08    45    48    52\n",
       "\n",
       ">>> df.shift(periods=3, freq=\"infer\")\n",
       "            Col1  Col2  Col3\n",
       "2020-01-04    10    13    17\n",
       "2020-01-05    20    23    27\n",
       "2020-01-06    15    18    22\n",
       "2020-01-07    30    33    37\n",
       "2020-01-08    45    48    52\n",
       "\u001b[1;31mFile:\u001b[0m      c:\\users\\kpiat\\anaconda3\\envs\\course1-env\\lib\\site-packages\\pandas\\core\\frame.py\n",
       "\u001b[1;31mType:\u001b[0m      method\n"
      ]
     },
     "metadata": {},
     "output_type": "display_data"
    }
   ],
   "source": [
    "df.shift?"
   ]
  },
  {
   "cell_type": "code",
   "execution_count": 10,
   "metadata": {
    "collapsed": true,
    "jupyter": {
     "outputs_hidden": true
    }
   },
   "outputs": [
    {
     "data": {
      "text/plain": [
       "BytesWarning\n",
       "DeprecationWarning\n",
       "FutureWarning\n",
       "ImportWarning\n",
       "PendingDeprecationWarning\n",
       "ResourceWarning\n",
       "RuntimeWarning\n",
       "SyntaxWarning\n",
       "UnicodeWarning\n",
       "UserWarning\n",
       "Warning"
      ]
     },
     "metadata": {},
     "output_type": "display_data"
    }
   ],
   "source": [
    "#you can also use TAB with wildcard operator if you only know the ending\n",
    "*Warning?"
   ]
  },
  {
   "cell_type": "code",
   "execution_count": 11,
   "metadata": {},
   "outputs": [
    {
     "data": {
      "text/plain": [
       "str.find\n",
       "str.rfind"
      ]
     },
     "metadata": {},
     "output_type": "display_data"
    }
   ],
   "source": [
    "str.*find*?"
   ]
  },
  {
   "cell_type": "code",
   "execution_count": 13,
   "metadata": {
    "collapsed": true,
    "jupyter": {
     "outputs_hidden": true
    }
   },
   "outputs": [
    {
     "name": "stdout",
     "output_type": "stream",
     "text": [
      "#import data file\n",
      "df = pd.read_csv('Demographic_Data.csv')\n",
      "df.head()\n",
      "import pandas as pd\n",
      "import numpy as np\n",
      "import matplotlib.pyplot as plt\n",
      "import seaborn as sns\n",
      "#import data file\n",
      "df = pd.read_csv('Demographic_Data.csv')\n",
      "df.head()\n",
      "#use ? to bring up documentation for Python commands\n",
      "#use ? to bring up documentation for Python commands\n",
      "df.shape?\n",
      "df.shape()?\n",
      "#use ?? to bring up source code\n",
      "df.shape??\n",
      "#use TAB to bring up list of available functions when you don't know\n",
      "df.shift\n",
      "df.shift?\n",
      "#you can also use TAB with wildcard operator if you only know the ending\n",
      "*Warning?\n",
      "str.*find*?\n",
      "%history\n",
      "#to bring up a list of all commands you have previously executed in the nb, along with your comments\n",
      "%history\n"
     ]
    }
   ],
   "source": [
    "#to bring up a list of all commands you have previously executed in the nb, along with your comments\n",
    "%history"
   ]
  },
  {
   "cell_type": "markdown",
   "metadata": {},
   "source": [
    "## Line & Cell Magics"
   ]
  },
  {
   "cell_type": "code",
   "execution_count": 17,
   "metadata": {},
   "outputs": [
    {
     "ename": "SyntaxError",
     "evalue": "invalid syntax (<ipython-input-17-d0b1c1716e88>, line 3)",
     "output_type": "error",
     "traceback": [
      "\u001b[1;36m  File \u001b[1;32m\"<ipython-input-17-d0b1c1716e88>\"\u001b[1;36m, line \u001b[1;32m3\u001b[0m\n\u001b[1;33m    >>> def donothing(x):\u001b[0m\n\u001b[1;37m    ^\u001b[0m\n\u001b[1;31mSyntaxError\u001b[0m\u001b[1;31m:\u001b[0m invalid syntax\n"
     ]
    }
   ],
   "source": [
    "#if you get an error when trying to run code copied and pasted from, e.g. the internet \n",
    "%%paste\n",
    ">>> def donothing(x):\n",
    "...     return x"
   ]
  },
  {
   "cell_type": "code",
   "execution_count": 18,
   "metadata": {},
   "outputs": [],
   "source": [
    "#to execute canned script from saved py file\n",
    "%run myscript_test.py"
   ]
  },
  {
   "cell_type": "code",
   "execution_count": 19,
   "metadata": {
    "collapsed": true,
    "jupyter": {
     "outputs_hidden": true
    }
   },
   "outputs": [
    {
     "data": {
      "text/plain": [
       "\u001b[1;31mDocstring:\u001b[0m\n",
       "Run the named file inside IPython as a program.\n",
       "\n",
       "Usage::\n",
       "\n",
       "  %run [-n -i -e -G]\n",
       "       [( -t [-N<N>] | -d [-b<N>] | -p [profile options] )]\n",
       "       ( -m mod | file ) [args]\n",
       "\n",
       "Parameters after the filename are passed as command-line arguments to\n",
       "the program (put in sys.argv). Then, control returns to IPython's\n",
       "prompt.\n",
       "\n",
       "This is similar to running at a system prompt ``python file args``,\n",
       "but with the advantage of giving you IPython's tracebacks, and of\n",
       "loading all variables into your interactive namespace for further use\n",
       "(unless -p is used, see below).\n",
       "\n",
       "The file is executed in a namespace initially consisting only of\n",
       "``__name__=='__main__'`` and sys.argv constructed as indicated. It thus\n",
       "sees its environment as if it were being run as a stand-alone program\n",
       "(except for sharing global objects such as previously imported\n",
       "modules). But after execution, the IPython interactive namespace gets\n",
       "updated with all variables defined in the program (except for __name__\n",
       "and sys.argv). This allows for very convenient loading of code for\n",
       "interactive work, while giving each program a 'clean sheet' to run in.\n",
       "\n",
       "Arguments are expanded using shell-like glob match.  Patterns\n",
       "'*', '?', '[seq]' and '[!seq]' can be used.  Additionally,\n",
       "tilde '~' will be expanded into user's home directory.  Unlike\n",
       "real shells, quotation does not suppress expansions.  Use\n",
       "*two* back slashes (e.g. ``\\\\*``) to suppress expansions.\n",
       "To completely disable these expansions, you can use -G flag.\n",
       "\n",
       "On Windows systems, the use of single quotes `'` when specifying \n",
       "a file is not supported. Use double quotes `\"`.\n",
       "\n",
       "Options:\n",
       "\n",
       "-n\n",
       "  __name__ is NOT set to '__main__', but to the running file's name\n",
       "  without extension (as python does under import).  This allows running\n",
       "  scripts and reloading the definitions in them without calling code\n",
       "  protected by an ``if __name__ == \"__main__\"`` clause.\n",
       "\n",
       "-i\n",
       "  run the file in IPython's namespace instead of an empty one. This\n",
       "  is useful if you are experimenting with code written in a text editor\n",
       "  which depends on variables defined interactively.\n",
       "\n",
       "-e\n",
       "  ignore sys.exit() calls or SystemExit exceptions in the script\n",
       "  being run.  This is particularly useful if IPython is being used to\n",
       "  run unittests, which always exit with a sys.exit() call.  In such\n",
       "  cases you are interested in the output of the test results, not in\n",
       "  seeing a traceback of the unittest module.\n",
       "\n",
       "-t\n",
       "  print timing information at the end of the run.  IPython will give\n",
       "  you an estimated CPU time consumption for your script, which under\n",
       "  Unix uses the resource module to avoid the wraparound problems of\n",
       "  time.clock().  Under Unix, an estimate of time spent on system tasks\n",
       "  is also given (for Windows platforms this is reported as 0.0).\n",
       "\n",
       "If -t is given, an additional ``-N<N>`` option can be given, where <N>\n",
       "must be an integer indicating how many times you want the script to\n",
       "run.  The final timing report will include total and per run results.\n",
       "\n",
       "For example (testing the script uniq_stable.py)::\n",
       "\n",
       "    In [1]: run -t uniq_stable\n",
       "\n",
       "    IPython CPU timings (estimated):\n",
       "      User  :    0.19597 s.\n",
       "      System:        0.0 s.\n",
       "\n",
       "    In [2]: run -t -N5 uniq_stable\n",
       "\n",
       "    IPython CPU timings (estimated):\n",
       "    Total runs performed: 5\n",
       "      Times :      Total       Per run\n",
       "      User  :   0.910862 s,  0.1821724 s.\n",
       "      System:        0.0 s,        0.0 s.\n",
       "\n",
       "-d\n",
       "  run your program under the control of pdb, the Python debugger.\n",
       "  This allows you to execute your program step by step, watch variables,\n",
       "  etc.  Internally, what IPython does is similar to calling::\n",
       "\n",
       "      pdb.run('execfile(\"YOURFILENAME\")')\n",
       "\n",
       "  with a breakpoint set on line 1 of your file.  You can change the line\n",
       "  number for this automatic breakpoint to be <N> by using the -bN option\n",
       "  (where N must be an integer). For example::\n",
       "\n",
       "      %run -d -b40 myscript\n",
       "\n",
       "  will set the first breakpoint at line 40 in myscript.py.  Note that\n",
       "  the first breakpoint must be set on a line which actually does\n",
       "  something (not a comment or docstring) for it to stop execution.\n",
       "\n",
       "  Or you can specify a breakpoint in a different file::\n",
       "\n",
       "      %run -d -b myotherfile.py:20 myscript\n",
       "\n",
       "  When the pdb debugger starts, you will see a (Pdb) prompt.  You must\n",
       "  first enter 'c' (without quotes) to start execution up to the first\n",
       "  breakpoint.\n",
       "\n",
       "  Entering 'help' gives information about the use of the debugger.  You\n",
       "  can easily see pdb's full documentation with \"import pdb;pdb.help()\"\n",
       "  at a prompt.\n",
       "\n",
       "-p\n",
       "  run program under the control of the Python profiler module (which\n",
       "  prints a detailed report of execution times, function calls, etc).\n",
       "\n",
       "  You can pass other options after -p which affect the behavior of the\n",
       "  profiler itself. See the docs for %prun for details.\n",
       "\n",
       "  In this mode, the program's variables do NOT propagate back to the\n",
       "  IPython interactive namespace (because they remain in the namespace\n",
       "  where the profiler executes them).\n",
       "\n",
       "  Internally this triggers a call to %prun, see its documentation for\n",
       "  details on the options available specifically for profiling.\n",
       "\n",
       "There is one special usage for which the text above doesn't apply:\n",
       "if the filename ends with .ipy[nb], the file is run as ipython script,\n",
       "just as if the commands were written on IPython prompt.\n",
       "\n",
       "-m\n",
       "  specify module name to load instead of script path. Similar to\n",
       "  the -m option for the python interpreter. Use this option last if you\n",
       "  want to combine with other %run options. Unlike the python interpreter\n",
       "  only source modules are allowed no .pyc or .pyo files.\n",
       "  For example::\n",
       "\n",
       "      %run -m example\n",
       "\n",
       "  will run the example module.\n",
       "\n",
       "-G\n",
       "  disable shell-like glob expansion of arguments.\n",
       "\u001b[1;31mFile:\u001b[0m      c:\\users\\kpiat\\anaconda3\\envs\\course1-env\\lib\\site-packages\\ipython\\core\\magics\\execution.py\n"
      ]
     },
     "metadata": {},
     "output_type": "display_data"
    }
   ],
   "source": [
    "%run?"
   ]
  },
  {
   "cell_type": "code",
   "execution_count": 20,
   "metadata": {},
   "outputs": [
    {
     "name": "stdout",
     "output_type": "stream",
     "text": [
      "342 µs ± 4.4 µs per loop (mean ± std. dev. of 7 runs, 1000 loops each)\n"
     ]
    }
   ],
   "source": [
    "#timeit magic to determine execution time of a single line\n",
    "%timeit L = [n ** 2 for n in range(1000)]"
   ]
  },
  {
   "cell_type": "code",
   "execution_count": 29,
   "metadata": {},
   "outputs": [
    {
     "name": "stdout",
     "output_type": "stream",
     "text": [
      "398 µs ± 2.96 µs per loop (mean ± std. dev. of 7 runs, 1000 loops each)\n"
     ]
    }
   ],
   "source": [
    "%%timeit\n",
    "#use %% for multi-line commands, this makes it a cell magic, important: cell magics must be first line \n",
    "L = []\n",
    "for n in range(1000):\n",
    "    L.append(n **2)"
   ]
  },
  {
   "cell_type": "code",
   "execution_count": 27,
   "metadata": {},
   "outputs": [
    {
     "name": "stdout",
     "output_type": "stream",
     "text": [
      "Overwriting hellojupyter.py\n"
     ]
    }
   ],
   "source": [
    "%%writefile hellojupyter.py \n",
    "#writes contents of cell to separate file\n",
    "x=10\n",
    "y=20\n",
    "z= x=y"
   ]
  },
  {
   "cell_type": "code",
   "execution_count": 28,
   "metadata": {},
   "outputs": [
    {
     "data": {
      "application/json": {
       "cell": {
        "!": "OSMagics",
        "HTML": "Other",
        "SVG": "Other",
        "bash": "Other",
        "capture": "ExecutionMagics",
        "cmd": "Other",
        "debug": "ExecutionMagics",
        "file": "Other",
        "html": "DisplayMagics",
        "javascript": "DisplayMagics",
        "js": "DisplayMagics",
        "latex": "DisplayMagics",
        "markdown": "DisplayMagics",
        "perl": "Other",
        "prun": "ExecutionMagics",
        "pypy": "Other",
        "python": "Other",
        "python2": "Other",
        "python3": "Other",
        "ruby": "Other",
        "script": "ScriptMagics",
        "sh": "Other",
        "svg": "DisplayMagics",
        "sx": "OSMagics",
        "system": "OSMagics",
        "time": "ExecutionMagics",
        "timeit": "ExecutionMagics",
        "writefile": "OSMagics"
       },
       "line": {
        "alias": "OSMagics",
        "alias_magic": "BasicMagics",
        "autoawait": "AsyncMagics",
        "autocall": "AutoMagics",
        "automagic": "AutoMagics",
        "autosave": "KernelMagics",
        "bookmark": "OSMagics",
        "cd": "OSMagics",
        "clear": "KernelMagics",
        "cls": "KernelMagics",
        "colors": "BasicMagics",
        "conda": "PackagingMagics",
        "config": "ConfigMagics",
        "connect_info": "KernelMagics",
        "copy": "Other",
        "ddir": "Other",
        "debug": "ExecutionMagics",
        "dhist": "OSMagics",
        "dirs": "OSMagics",
        "doctest_mode": "BasicMagics",
        "echo": "Other",
        "ed": "Other",
        "edit": "KernelMagics",
        "env": "OSMagics",
        "gui": "BasicMagics",
        "hist": "Other",
        "history": "HistoryMagics",
        "killbgscripts": "ScriptMagics",
        "ldir": "Other",
        "less": "KernelMagics",
        "load": "CodeMagics",
        "load_ext": "ExtensionMagics",
        "loadpy": "CodeMagics",
        "logoff": "LoggingMagics",
        "logon": "LoggingMagics",
        "logstart": "LoggingMagics",
        "logstate": "LoggingMagics",
        "logstop": "LoggingMagics",
        "ls": "Other",
        "lsmagic": "BasicMagics",
        "macro": "ExecutionMagics",
        "magic": "BasicMagics",
        "matplotlib": "PylabMagics",
        "mkdir": "Other",
        "more": "KernelMagics",
        "notebook": "BasicMagics",
        "page": "BasicMagics",
        "pastebin": "CodeMagics",
        "pdb": "ExecutionMagics",
        "pdef": "NamespaceMagics",
        "pdoc": "NamespaceMagics",
        "pfile": "NamespaceMagics",
        "pinfo": "NamespaceMagics",
        "pinfo2": "NamespaceMagics",
        "pip": "PackagingMagics",
        "popd": "OSMagics",
        "pprint": "BasicMagics",
        "precision": "BasicMagics",
        "prun": "ExecutionMagics",
        "psearch": "NamespaceMagics",
        "psource": "NamespaceMagics",
        "pushd": "OSMagics",
        "pwd": "OSMagics",
        "pycat": "OSMagics",
        "pylab": "PylabMagics",
        "qtconsole": "KernelMagics",
        "quickref": "BasicMagics",
        "recall": "HistoryMagics",
        "rehashx": "OSMagics",
        "reload_ext": "ExtensionMagics",
        "ren": "Other",
        "rep": "Other",
        "rerun": "HistoryMagics",
        "reset": "NamespaceMagics",
        "reset_selective": "NamespaceMagics",
        "rmdir": "Other",
        "run": "ExecutionMagics",
        "save": "CodeMagics",
        "sc": "OSMagics",
        "set_env": "OSMagics",
        "store": "StoreMagics",
        "sx": "OSMagics",
        "system": "OSMagics",
        "tb": "ExecutionMagics",
        "time": "ExecutionMagics",
        "timeit": "ExecutionMagics",
        "unalias": "OSMagics",
        "unload_ext": "ExtensionMagics",
        "who": "NamespaceMagics",
        "who_ls": "NamespaceMagics",
        "whos": "NamespaceMagics",
        "xdel": "NamespaceMagics",
        "xmode": "BasicMagics"
       }
      },
      "text/plain": [
       "Available line magics:\n",
       "%alias  %alias_magic  %autoawait  %autocall  %automagic  %autosave  %bookmark  %cd  %clear  %cls  %colors  %conda  %config  %connect_info  %copy  %ddir  %debug  %dhist  %dirs  %doctest_mode  %echo  %ed  %edit  %env  %gui  %hist  %history  %killbgscripts  %ldir  %less  %load  %load_ext  %loadpy  %logoff  %logon  %logstart  %logstate  %logstop  %ls  %lsmagic  %macro  %magic  %matplotlib  %mkdir  %more  %notebook  %page  %pastebin  %pdb  %pdef  %pdoc  %pfile  %pinfo  %pinfo2  %pip  %popd  %pprint  %precision  %prun  %psearch  %psource  %pushd  %pwd  %pycat  %pylab  %qtconsole  %quickref  %recall  %rehashx  %reload_ext  %ren  %rep  %rerun  %reset  %reset_selective  %rmdir  %run  %save  %sc  %set_env  %store  %sx  %system  %tb  %time  %timeit  %unalias  %unload_ext  %who  %who_ls  %whos  %xdel  %xmode\n",
       "\n",
       "Available cell magics:\n",
       "%%!  %%HTML  %%SVG  %%bash  %%capture  %%cmd  %%debug  %%file  %%html  %%javascript  %%js  %%latex  %%markdown  %%perl  %%prun  %%pypy  %%python  %%python2  %%python3  %%ruby  %%script  %%sh  %%svg  %%sx  %%system  %%time  %%timeit  %%writefile\n",
       "\n",
       "Automagic is ON, % prefix IS NOT needed for line magics."
      ]
     },
     "execution_count": 28,
     "metadata": {},
     "output_type": "execute_result"
    }
   ],
   "source": [
    "%lsmagic"
   ]
  },
  {
   "cell_type": "code",
   "execution_count": 30,
   "metadata": {
    "collapsed": true,
    "jupyter": {
     "outputs_hidden": true
    }
   },
   "outputs": [
    {
     "data": {
      "text/plain": [
       "\n",
       "IPython's 'magic' functions\n",
       "===========================\n",
       "\n",
       "The magic function system provides a series of functions which allow you to\n",
       "control the behavior of IPython itself, plus a lot of system-type\n",
       "features. There are two kinds of magics, line-oriented and cell-oriented.\n",
       "\n",
       "Line magics are prefixed with the % character and work much like OS\n",
       "command-line calls: they get as an argument the rest of the line, where\n",
       "arguments are passed without parentheses or quotes.  For example, this will\n",
       "time the given statement::\n",
       "\n",
       "        %timeit range(1000)\n",
       "\n",
       "Cell magics are prefixed with a double %%, and they are functions that get as\n",
       "an argument not only the rest of the line, but also the lines below it in a\n",
       "separate argument.  These magics are called with two arguments: the rest of the\n",
       "call line and the body of the cell, consisting of the lines below the first.\n",
       "For example::\n",
       "\n",
       "        %%timeit x = numpy.random.randn((100, 100))\n",
       "        numpy.linalg.svd(x)\n",
       "\n",
       "will time the execution of the numpy svd routine, running the assignment of x\n",
       "as part of the setup phase, which is not timed.\n",
       "\n",
       "In a line-oriented client (the terminal or Qt console IPython), starting a new\n",
       "input with %% will automatically enter cell mode, and IPython will continue\n",
       "reading input until a blank line is given.  In the notebook, simply type the\n",
       "whole cell as one entity, but keep in mind that the %% escape can only be at\n",
       "the very start of the cell.\n",
       "\n",
       "NOTE: If you have 'automagic' enabled (via the command line option or with the\n",
       "%automagic function), you don't need to type in the % explicitly for line\n",
       "magics; cell magics always require an explicit '%%' escape.  By default,\n",
       "IPython ships with automagic on, so you should only rarely need the % escape.\n",
       "\n",
       "Example: typing '%cd mydir' (without the quotes) changes your working directory\n",
       "to 'mydir', if it exists.\n",
       "\n",
       "For a list of the available magic functions, use %lsmagic. For a description\n",
       "of any of them, type %magic_name?, e.g. '%cd?'.\n",
       "\n",
       "Currently the magic system has the following functions:\n",
       "%alias:\n",
       "    Define an alias for a system command.\n",
       "    \n",
       "    '%alias alias_name cmd' defines 'alias_name' as an alias for 'cmd'\n",
       "    \n",
       "    Then, typing 'alias_name params' will execute the system command 'cmd\n",
       "    params' (from your underlying operating system).\n",
       "    \n",
       "    Aliases have lower precedence than magic functions and Python normal\n",
       "    variables, so if 'foo' is both a Python variable and an alias, the\n",
       "    alias can not be executed until 'del foo' removes the Python variable.\n",
       "    \n",
       "    You can use the %l specifier in an alias definition to represent the\n",
       "    whole line when the alias is called.  For example::\n",
       "    \n",
       "      In [2]: alias bracket echo \"Input in brackets: <%l>\"\n",
       "      In [3]: bracket hello world\n",
       "      Input in brackets: <hello world>\n",
       "    \n",
       "    You can also define aliases with parameters using %s specifiers (one\n",
       "    per parameter)::\n",
       "    \n",
       "      In [1]: alias parts echo first %s second %s\n",
       "      In [2]: %parts A B\n",
       "      first A second B\n",
       "      In [3]: %parts A\n",
       "      Incorrect number of arguments: 2 expected.\n",
       "      parts is an alias to: 'echo first %s second %s'\n",
       "    \n",
       "    Note that %l and %s are mutually exclusive.  You can only use one or\n",
       "    the other in your aliases.\n",
       "    \n",
       "    Aliases expand Python variables just like system calls using ! or !!\n",
       "    do: all expressions prefixed with '$' get expanded.  For details of\n",
       "    the semantic rules, see PEP-215:\n",
       "    http://www.python.org/peps/pep-0215.html.  This is the library used by\n",
       "    IPython for variable expansion.  If you want to access a true shell\n",
       "    variable, an extra $ is necessary to prevent its expansion by\n",
       "    IPython::\n",
       "    \n",
       "      In [6]: alias show echo\n",
       "      In [7]: PATH='A Python string'\n",
       "      In [8]: show $PATH\n",
       "      A Python string\n",
       "      In [9]: show $$PATH\n",
       "      /usr/local/lf9560/bin:/usr/local/intel/compiler70/ia32/bin:...\n",
       "    \n",
       "    You can use the alias facility to access all of $PATH.  See the %rehashx\n",
       "    function, which automatically creates aliases for the contents of your\n",
       "    $PATH.\n",
       "    \n",
       "    If called with no parameters, %alias prints the current alias table\n",
       "    for your system.  For posix systems, the default aliases are 'cat',\n",
       "    'cp', 'mv', 'rm', 'rmdir', and 'mkdir', and other platform-specific\n",
       "    aliases are added.  For windows-based systems, the default aliases are\n",
       "    'copy', 'ddir', 'echo', 'ls', 'ldir', 'mkdir', 'ren', and 'rmdir'.\n",
       "    \n",
       "    You can see the definition of alias by adding a question mark in the\n",
       "    end::\n",
       "    \n",
       "      In [1]: cat?\n",
       "      Repr: <alias cat for 'cat'>\n",
       "%alias_magic:\n",
       "    ::\n",
       "    \n",
       "      %alias_magic [-l] [-c] [-p PARAMS] name target\n",
       "    \n",
       "    Create an alias for an existing line or cell magic.\n",
       "    \n",
       "    Examples\n",
       "    --------\n",
       "    ::\n",
       "    \n",
       "      In [1]: %alias_magic t timeit\n",
       "      Created `%t` as an alias for `%timeit`.\n",
       "      Created `%%t` as an alias for `%%timeit`.\n",
       "    \n",
       "      In [2]: %t -n1 pass\n",
       "      1 loops, best of 3: 954 ns per loop\n",
       "    \n",
       "      In [3]: %%t -n1\n",
       "         ...: pass\n",
       "         ...:\n",
       "      1 loops, best of 3: 954 ns per loop\n",
       "    \n",
       "      In [4]: %alias_magic --cell whereami pwd\n",
       "      UsageError: Cell magic function `%%pwd` not found.\n",
       "      In [5]: %alias_magic --line whereami pwd\n",
       "      Created `%whereami` as an alias for `%pwd`.\n",
       "    \n",
       "      In [6]: %whereami\n",
       "      Out[6]: u'/home/testuser'\n",
       "    \n",
       "      In [7]: %alias_magic h history \"-p -l 30\" --line\n",
       "      Created `%h` as an alias for `%history -l 30`.\n",
       "    \n",
       "    positional arguments:\n",
       "      name                  Name of the magic to be created.\n",
       "      target                Name of the existing line or cell magic.\n",
       "    \n",
       "    optional arguments:\n",
       "      -l, --line            Create a line magic alias.\n",
       "      -c, --cell            Create a cell magic alias.\n",
       "      -p PARAMS, --params PARAMS\n",
       "                            Parameters passed to the magic function.\n",
       "%autoawait:\n",
       "    \n",
       "    Allow to change the status of the autoawait option.\n",
       "    \n",
       "    This allow you to set a specific asynchronous code runner.\n",
       "    \n",
       "    If no value is passed, print the currently used asynchronous integration\n",
       "    and whether it is activated.\n",
       "    \n",
       "    It can take a number of value evaluated in the following order:\n",
       "    \n",
       "    - False/false/off deactivate autoawait integration\n",
       "    - True/true/on activate autoawait integration using configured default\n",
       "      loop\n",
       "    - asyncio/curio/trio activate autoawait integration and use integration\n",
       "      with said library.\n",
       "    \n",
       "    - `sync` turn on the pseudo-sync integration (mostly used for\n",
       "      `IPython.embed()` which does not run IPython with a real eventloop and\n",
       "      deactivate running asynchronous code. Turning on Asynchronous code with\n",
       "      the pseudo sync loop is undefined behavior and may lead IPython to crash.\n",
       "    \n",
       "    If the passed parameter does not match any of the above and is a python\n",
       "    identifier, get said object from user namespace and set it as the\n",
       "    runner, and activate autoawait. \n",
       "    \n",
       "    If the object is a fully qualified object name, attempt to import it and\n",
       "    set it as the runner, and activate autoawait.\n",
       "    \n",
       "    \n",
       "    The exact behavior of autoawait is experimental and subject to change\n",
       "    across version of IPython and Python.\n",
       "%autocall:\n",
       "    Make functions callable without having to type parentheses.\n",
       "    \n",
       "    Usage:\n",
       "    \n",
       "       %autocall [mode]\n",
       "    \n",
       "    The mode can be one of: 0->Off, 1->Smart, 2->Full.  If not given, the\n",
       "    value is toggled on and off (remembering the previous state).\n",
       "    \n",
       "    In more detail, these values mean:\n",
       "    \n",
       "    0 -> fully disabled\n",
       "    \n",
       "    1 -> active, but do not apply if there are no arguments on the line.\n",
       "    \n",
       "    In this mode, you get::\n",
       "    \n",
       "      In [1]: callable\n",
       "      Out[1]: <built-in function callable>\n",
       "    \n",
       "      In [2]: callable 'hello'\n",
       "      ------> callable('hello')\n",
       "      Out[2]: False\n",
       "    \n",
       "    2 -> Active always.  Even if no arguments are present, the callable\n",
       "    object is called::\n",
       "    \n",
       "      In [2]: float\n",
       "      ------> float()\n",
       "      Out[2]: 0.0\n",
       "    \n",
       "    Note that even with autocall off, you can still use '/' at the start of\n",
       "    a line to treat the first argument on the command line as a function\n",
       "    and add parentheses to it::\n",
       "    \n",
       "      In [8]: /str 43\n",
       "      ------> str(43)\n",
       "      Out[8]: '43'\n",
       "    \n",
       "    # all-random (note for auto-testing)\n",
       "%automagic:\n",
       "    Make magic functions callable without having to type the initial %.\n",
       "    \n",
       "    Without arguments toggles on/off (when off, you must call it as\n",
       "    %automagic, of course).  With arguments it sets the value, and you can\n",
       "    use any of (case insensitive):\n",
       "    \n",
       "     - on, 1, True: to activate\n",
       "    \n",
       "     - off, 0, False: to deactivate.\n",
       "    \n",
       "    Note that magic functions have lowest priority, so if there's a\n",
       "    variable whose name collides with that of a magic fn, automagic won't\n",
       "    work for that function (you get the variable instead). However, if you\n",
       "    delete the variable (del var), the previously shadowed magic function\n",
       "    becomes visible to automagic again.\n",
       "%autosave:\n",
       "    Set the autosave interval in the notebook (in seconds).\n",
       "    \n",
       "    The default value is 120, or two minutes.\n",
       "    ``%autosave 0`` will disable autosave.\n",
       "    \n",
       "    This magic only has an effect when called from the notebook interface.\n",
       "    It has no effect when called in a startup file.\n",
       "%bookmark:\n",
       "    Manage IPython's bookmark system.\n",
       "    \n",
       "    %bookmark <name>       - set bookmark to current dir\n",
       "    %bookmark <name> <dir> - set bookmark to <dir>\n",
       "    %bookmark -l           - list all bookmarks\n",
       "    %bookmark -d <name>    - remove bookmark\n",
       "    %bookmark -r           - remove all bookmarks\n",
       "    \n",
       "    You can later on access a bookmarked folder with::\n",
       "    \n",
       "      %cd -b <name>\n",
       "    \n",
       "    or simply '%cd <name>' if there is no directory called <name> AND\n",
       "    there is such a bookmark defined.\n",
       "    \n",
       "    Your bookmarks persist through IPython sessions, but they are\n",
       "    associated with each profile.\n",
       "%cd:\n",
       "    Change the current working directory.\n",
       "    \n",
       "    This command automatically maintains an internal list of directories\n",
       "    you visit during your IPython session, in the variable _dh. The\n",
       "    command %dhist shows this history nicely formatted. You can also\n",
       "    do 'cd -<tab>' to see directory history conveniently.\n",
       "    \n",
       "    Usage:\n",
       "    \n",
       "      cd 'dir': changes to directory 'dir'.\n",
       "    \n",
       "      cd -: changes to the last visited directory.\n",
       "    \n",
       "      cd -<n>: changes to the n-th directory in the directory history.\n",
       "    \n",
       "      cd --foo: change to directory that matches 'foo' in history\n",
       "    \n",
       "      cd -b <bookmark_name>: jump to a bookmark set by %bookmark\n",
       "         (note: cd <bookmark_name> is enough if there is no\n",
       "          directory <bookmark_name>, but a bookmark with the name exists.)\n",
       "          'cd -b <tab>' allows you to tab-complete bookmark names.\n",
       "    \n",
       "    Options:\n",
       "    \n",
       "    -q: quiet.  Do not print the working directory after the cd command is\n",
       "    executed.  By default IPython's cd command does print this directory,\n",
       "    since the default prompts do not display path information.\n",
       "    \n",
       "    Note that !cd doesn't work for this purpose because the shell where\n",
       "    !command runs is immediately discarded after executing 'command'.\n",
       "    \n",
       "    Examples\n",
       "    --------\n",
       "    ::\n",
       "    \n",
       "      In [10]: cd parent/child\n",
       "      /home/tsuser/parent/child\n",
       "%clear:\n",
       "    Clear the terminal.\n",
       "%cls:\n",
       "    Clear the terminal.\n",
       "%colors:\n",
       "    Switch color scheme for prompts, info system and exception handlers.\n",
       "    \n",
       "    Currently implemented schemes: NoColor, Linux, LightBG.\n",
       "    \n",
       "    Color scheme names are not case-sensitive.\n",
       "    \n",
       "    Examples\n",
       "    --------\n",
       "    To get a plain black and white terminal::\n",
       "    \n",
       "      %colors nocolor\n",
       "%conda:\n",
       "    Run the conda package manager within the current kernel.\n",
       "    \n",
       "    Usage:\n",
       "      %conda install [pkgs]\n",
       "%config:\n",
       "    configure IPython\n",
       "    \n",
       "        %config Class[.trait=value]\n",
       "    \n",
       "    This magic exposes most of the IPython config system. Any\n",
       "    Configurable class should be able to be configured with the simple\n",
       "    line::\n",
       "    \n",
       "        %config Class.trait=value\n",
       "    \n",
       "    Where `value` will be resolved in the user's namespace, if it is an\n",
       "    expression or variable name.\n",
       "    \n",
       "    Examples\n",
       "    --------\n",
       "    \n",
       "    To see what classes are available for config, pass no arguments::\n",
       "    \n",
       "        In [1]: %config\n",
       "        Available objects for config:\n",
       "            TerminalInteractiveShell\n",
       "            HistoryManager\n",
       "            PrefilterManager\n",
       "            AliasManager\n",
       "            IPCompleter\n",
       "            DisplayFormatter\n",
       "    \n",
       "    To view what is configurable on a given class, just pass the class\n",
       "    name::\n",
       "    \n",
       "        In [2]: %config IPCompleter\n",
       "        IPCompleter options\n",
       "        -----------------\n",
       "        IPCompleter.omit__names=<Enum>\n",
       "            Current: 2\n",
       "            Choices: (0, 1, 2)\n",
       "            Instruct the completer to omit private method names\n",
       "            Specifically, when completing on ``object.<tab>``.\n",
       "            When 2 [default]: all names that start with '_' will be excluded.\n",
       "            When 1: all 'magic' names (``__foo__``) will be excluded.\n",
       "            When 0: nothing will be excluded.\n",
       "        IPCompleter.merge_completions=<CBool>\n",
       "            Current: True\n",
       "            Whether to merge completion results into a single list\n",
       "            If False, only the completion results from the first non-empty\n",
       "            completer will be returned.\n",
       "        IPCompleter.limit_to__all__=<CBool>\n",
       "            Current: False\n",
       "            Instruct the completer to use __all__ for the completion\n",
       "            Specifically, when completing on ``object.<tab>``.\n",
       "            When True: only those names in obj.__all__ will be included.\n",
       "            When False [default]: the __all__ attribute is ignored\n",
       "        IPCompleter.greedy=<CBool>\n",
       "            Current: False\n",
       "            Activate greedy completion\n",
       "            This will enable completion on elements of lists, results of\n",
       "            function calls, etc., but can be unsafe because the code is\n",
       "            actually evaluated on TAB.\n",
       "    \n",
       "    but the real use is in setting values::\n",
       "    \n",
       "        In [3]: %config IPCompleter.greedy = True\n",
       "    \n",
       "    and these values are read from the user_ns if they are variables::\n",
       "    \n",
       "        In [4]: feeling_greedy=False\n",
       "    \n",
       "        In [5]: %config IPCompleter.greedy = feeling_greedy\n",
       "%connect_info:\n",
       "    Print information for connecting other clients to this kernel\n",
       "    \n",
       "    It will print the contents of this session's connection file, as well as\n",
       "    shortcuts for local clients.\n",
       "    \n",
       "    In the simplest case, when called from the most recently launched kernel,\n",
       "    secondary clients can be connected, simply with:\n",
       "    \n",
       "    $> jupyter <app> --existing\n",
       "%copy:\n",
       "    Alias for `!copy`\n",
       "%ddir:\n",
       "    Alias for `!dir /ad /on`\n",
       "%debug:\n",
       "    ::\n",
       "    \n",
       "      %debug [--breakpoint FILE:LINE] [statement [statement ...]]\n",
       "    \n",
       "    Activate the interactive debugger.\n",
       "    \n",
       "    This magic command support two ways of activating debugger.\n",
       "    One is to activate debugger before executing code.  This way, you\n",
       "    can set a break point, to step through the code from the point.\n",
       "    You can use this mode by giving statements to execute and optionally\n",
       "    a breakpoint.\n",
       "    \n",
       "    The other one is to activate debugger in post-mortem mode.  You can\n",
       "    activate this mode simply running %debug without any argument.\n",
       "    If an exception has just occurred, this lets you inspect its stack\n",
       "    frames interactively.  Note that this will always work only on the last\n",
       "    traceback that occurred, so you must call this quickly after an\n",
       "    exception that you wish to inspect has fired, because if another one\n",
       "    occurs, it clobbers the previous one.\n",
       "    \n",
       "    If you want IPython to automatically do this on every exception, see\n",
       "    the %pdb magic for more details.\n",
       "    \n",
       "    .. versionchanged:: 7.3\n",
       "        When running code, user variables are no longer expanded,\n",
       "        the magic line is always left unmodified.\n",
       "    \n",
       "    positional arguments:\n",
       "      statement             Code to run in debugger. You can omit this in cell magic mode.\n",
       "    \n",
       "    optional arguments:\n",
       "      --breakpoint <FILE:LINE>, -b <FILE:LINE>\n",
       "                            Set break point at LINE in FILE.\n",
       "%dhist:\n",
       "    Print your history of visited directories.\n",
       "    \n",
       "    %dhist       -> print full history\n",
       "    %dhist n     -> print last n entries only\n",
       "    %dhist n1 n2 -> print entries between n1 and n2 (n2 not included)\n",
       "    \n",
       "    This history is automatically maintained by the %cd command, and\n",
       "    always available as the global list variable _dh. You can use %cd -<n>\n",
       "    to go to directory number <n>.\n",
       "    \n",
       "    Note that most of time, you should view directory history by entering\n",
       "    cd -<TAB>.\n",
       "%dirs:\n",
       "    Return the current directory stack.\n",
       "%doctest_mode:\n",
       "    Toggle doctest mode on and off.\n",
       "    \n",
       "    This mode is intended to make IPython behave as much as possible like a\n",
       "    plain Python shell, from the perspective of how its prompts, exceptions\n",
       "    and output look.  This makes it easy to copy and paste parts of a\n",
       "    session into doctests.  It does so by:\n",
       "    \n",
       "    - Changing the prompts to the classic ``>>>`` ones.\n",
       "    - Changing the exception reporting mode to 'Plain'.\n",
       "    - Disabling pretty-printing of output.\n",
       "    \n",
       "    Note that IPython also supports the pasting of code snippets that have\n",
       "    leading '>>>' and '...' prompts in them.  This means that you can paste\n",
       "    doctests from files or docstrings (even if they have leading\n",
       "    whitespace), and the code will execute correctly.  You can then use\n",
       "    '%history -t' to see the translated history; this will give you the\n",
       "    input after removal of all the leading prompts and whitespace, which\n",
       "    can be pasted back into an editor.\n",
       "    \n",
       "    With these features, you can switch into this mode easily whenever you\n",
       "    need to do testing and changes to doctests, without having to leave\n",
       "    your existing IPython session.\n",
       "%echo:\n",
       "    Alias for `!echo`\n",
       "%ed:\n",
       "    Alias for `%edit`.\n",
       "%edit:\n",
       "    Bring up an editor and execute the resulting code.\n",
       "    \n",
       "    Usage:\n",
       "      %edit [options] [args]\n",
       "    \n",
       "    %edit runs an external text editor. You will need to set the command for\n",
       "    this editor via the ``TerminalInteractiveShell.editor`` option in your\n",
       "    configuration file before it will work.\n",
       "    \n",
       "    This command allows you to conveniently edit multi-line code right in\n",
       "    your IPython session.\n",
       "    \n",
       "    If called without arguments, %edit opens up an empty editor with a\n",
       "    temporary file and will execute the contents of this file when you\n",
       "    close it (don't forget to save it!).\n",
       "    \n",
       "    Options:\n",
       "    \n",
       "    -n <number>\n",
       "      Open the editor at a specified line number. By default, the IPython\n",
       "      editor hook uses the unix syntax 'editor +N filename', but you can\n",
       "      configure this by providing your own modified hook if your favorite\n",
       "      editor supports line-number specifications with a different syntax.\n",
       "    \n",
       "    -p\n",
       "      Call the editor with the same data as the previous time it was used,\n",
       "      regardless of how long ago (in your current session) it was.\n",
       "    \n",
       "    -r\n",
       "      Use 'raw' input. This option only applies to input taken from the\n",
       "      user's history.  By default, the 'processed' history is used, so that\n",
       "      magics are loaded in their transformed version to valid Python.  If\n",
       "      this option is given, the raw input as typed as the command line is\n",
       "      used instead.  When you exit the editor, it will be executed by\n",
       "      IPython's own processor.\n",
       "    \n",
       "    Arguments:\n",
       "    \n",
       "    If arguments are given, the following possibilities exist:\n",
       "    \n",
       "    - The arguments are numbers or pairs of colon-separated numbers (like\n",
       "      1 4:8 9). These are interpreted as lines of previous input to be\n",
       "      loaded into the editor. The syntax is the same of the %macro command.\n",
       "    \n",
       "    - If the argument doesn't start with a number, it is evaluated as a\n",
       "      variable and its contents loaded into the editor. You can thus edit\n",
       "      any string which contains python code (including the result of\n",
       "      previous edits).\n",
       "    \n",
       "    - If the argument is the name of an object (other than a string),\n",
       "      IPython will try to locate the file where it was defined and open the\n",
       "      editor at the point where it is defined. You can use ``%edit function``\n",
       "      to load an editor exactly at the point where 'function' is defined,\n",
       "      edit it and have the file be executed automatically.\n",
       "    \n",
       "      If the object is a macro (see %macro for details), this opens up your\n",
       "      specified editor with a temporary file containing the macro's data.\n",
       "      Upon exit, the macro is reloaded with the contents of the file.\n",
       "    \n",
       "      Note: opening at an exact line is only supported under Unix, and some\n",
       "      editors (like kedit and gedit up to Gnome 2.8) do not understand the\n",
       "      '+NUMBER' parameter necessary for this feature. Good editors like\n",
       "      (X)Emacs, vi, jed, pico and joe all do.\n",
       "    \n",
       "    - If the argument is not found as a variable, IPython will look for a\n",
       "      file with that name (adding .py if necessary) and load it into the\n",
       "      editor. It will execute its contents with execfile() when you exit,\n",
       "      loading any code in the file into your interactive namespace.\n",
       "    \n",
       "    Unlike in the terminal, this is designed to use a GUI editor, and we do\n",
       "    not know when it has closed. So the file you edit will not be\n",
       "    automatically executed or printed.\n",
       "    \n",
       "    Note that %edit is also available through the alias %ed.\n",
       "%env:\n",
       "    Get, set, or list environment variables.\n",
       "    \n",
       "    Usage:\n",
       "    \n",
       "      %env: lists all environment variables/values\n",
       "      %env var: get value for var\n",
       "      %env var val: set value for var\n",
       "      %env var=val: set value for var\n",
       "      %env var=$val: set value for var, using python expansion if possible\n",
       "%gui:\n",
       "    Enable or disable IPython GUI event loop integration.\n",
       "    \n",
       "    %gui [GUINAME]\n",
       "    \n",
       "    This magic replaces IPython's threaded shells that were activated\n",
       "    using the (pylab/wthread/etc.) command line flags.  GUI toolkits\n",
       "    can now be enabled at runtime and keyboard\n",
       "    interrupts should work without any problems.  The following toolkits\n",
       "    are supported:  wxPython, PyQt4, PyGTK, Tk and Cocoa (OSX)::\n",
       "    \n",
       "        %gui wx      # enable wxPython event loop integration\n",
       "        %gui qt4|qt  # enable PyQt4 event loop integration\n",
       "        %gui qt5     # enable PyQt5 event loop integration\n",
       "        %gui gtk     # enable PyGTK event loop integration\n",
       "        %gui gtk3    # enable Gtk3 event loop integration\n",
       "        %gui tk      # enable Tk event loop integration\n",
       "        %gui osx     # enable Cocoa event loop integration\n",
       "                     # (requires %matplotlib 1.1)\n",
       "        %gui         # disable all event loop integration\n",
       "    \n",
       "    WARNING:  after any of these has been called you can simply create\n",
       "    an application object, but DO NOT start the event loop yourself, as\n",
       "    we have already handled that.\n",
       "%hist:\n",
       "    Alias for `%history`.\n",
       "%history:\n",
       "    ::\n",
       "    \n",
       "      %history [-n] [-o] [-p] [-t] [-f FILENAME] [-g [PATTERN [PATTERN ...]]] [-l [LIMIT]] [-u] [range [range ...]]\n",
       "    \n",
       "    Print input history (_i<n> variables), with most recent last.\n",
       "    \n",
       "    By default, input history is printed without line numbers so it can be\n",
       "    directly pasted into an editor. Use -n to show them.\n",
       "    \n",
       "    By default, all input history from the current session is displayed.\n",
       "    Ranges of history can be indicated using the syntax:\n",
       "    \n",
       "    ``4``\n",
       "        Line 4, current session\n",
       "    ``4-6``\n",
       "        Lines 4-6, current session\n",
       "    ``243/1-5``\n",
       "        Lines 1-5, session 243\n",
       "    ``~2/7``\n",
       "        Line 7, session 2 before current\n",
       "    ``~8/1-~6/5``\n",
       "        From the first line of 8 sessions ago, to the fifth line of 6\n",
       "        sessions ago.\n",
       "    \n",
       "    Multiple ranges can be entered, separated by spaces\n",
       "    \n",
       "    The same syntax is used by %macro, %save, %edit, %rerun\n",
       "    \n",
       "    Examples\n",
       "    --------\n",
       "    ::\n",
       "    \n",
       "      In [6]: %history -n 4-6\n",
       "      4:a = 12\n",
       "      5:print a**2\n",
       "      6:%history -n 4-6\n",
       "    \n",
       "    positional arguments:\n",
       "      range\n",
       "    \n",
       "    optional arguments:\n",
       "      -n                    print line numbers for each input. This feature is only available if numbered prompts are in\n",
       "                            use.\n",
       "      -o                    also print outputs for each input.\n",
       "      -p                    print classic '>>>' python prompts before each input. This is useful for making documentation,\n",
       "                            and in conjunction with -o, for producing doctest-ready output.\n",
       "      -t                    print the 'translated' history, as IPython understands it. IPython filters your input and\n",
       "                            converts it all into valid Python source before executing it (things like magics or aliases\n",
       "                            are turned into function calls, for example). With this option, you'll see the native history\n",
       "                            instead of the user-entered version: '%cd /' will be seen as\n",
       "                            'get_ipython().run_line_magic(\"cd\", \"/\")' instead of '%cd /'.\n",
       "      -f FILENAME           FILENAME: instead of printing the output to the screen, redirect it to the given file. The\n",
       "                            file is always overwritten, though *when it can*, IPython asks for confirmation first. In\n",
       "                            particular, running the command 'history -f FILENAME' from the IPython Notebook interface will\n",
       "                            replace FILENAME even if it already exists *without* confirmation.\n",
       "      -g <[PATTERN [PATTERN ...]]>\n",
       "                            treat the arg as a glob pattern to search for in (full) history. This includes the saved\n",
       "                            history (almost all commands ever written). The pattern may contain '?' to match one unknown\n",
       "                            character and '*' to match any number of unknown characters. Use '%hist -g' to show full saved\n",
       "                            history (may be very long).\n",
       "      -l <[LIMIT]>          get the last n lines from all sessions. Specify n as a single arg, or the default is the last\n",
       "                            10 lines.\n",
       "      -u                    when searching history using `-g`, show only unique history.\n",
       "%killbgscripts:\n",
       "    Kill all BG processes started by %%script and its family.\n",
       "%ldir:\n",
       "    Alias for `!dir /ad /on`\n",
       "%less:\n",
       "    Show a file through the pager.\n",
       "    \n",
       "    Files ending in .py are syntax-highlighted.\n",
       "%load:\n",
       "    Load code into the current frontend.\n",
       "    \n",
       "    Usage:\n",
       "      %load [options] source\n",
       "    \n",
       "      where source can be a filename, URL, input history range, macro, or\n",
       "      element in the user namespace\n",
       "    \n",
       "    Options:\n",
       "    \n",
       "      -r <lines>: Specify lines or ranges of lines to load from the source.\n",
       "      Ranges could be specified as x-y (x..y) or in python-style x:y \n",
       "      (x..(y-1)). Both limits x and y can be left blank (meaning the \n",
       "      beginning and end of the file, respectively).\n",
       "    \n",
       "      -s <symbols>: Specify function or classes to load from python source. \n",
       "    \n",
       "      -y : Don't ask confirmation for loading source above 200 000 characters.\n",
       "    \n",
       "      -n : Include the user's namespace when searching for source code.\n",
       "    \n",
       "    This magic command can either take a local filename, a URL, an history\n",
       "    range (see %history) or a macro as argument, it will prompt for\n",
       "    confirmation before loading source with more than 200 000 characters, unless\n",
       "    -y flag is passed or if the frontend does not support raw_input::\n",
       "    \n",
       "    %load myscript.py\n",
       "    %load 7-27\n",
       "    %load myMacro\n",
       "    %load http://www.example.com/myscript.py\n",
       "    %load -r 5-10 myscript.py\n",
       "    %load -r 10-20,30,40: foo.py\n",
       "    %load -s MyClass,wonder_function myscript.py\n",
       "    %load -n MyClass\n",
       "    %load -n my_module.wonder_function\n",
       "%load_ext:\n",
       "    Load an IPython extension by its module name.\n",
       "%loadpy:\n",
       "    Alias of `%load`\n",
       "    \n",
       "    `%loadpy` has gained some flexibility and dropped the requirement of a `.py`\n",
       "    extension. So it has been renamed simply into %load. You can look at\n",
       "    `%load`'s docstring for more info.\n",
       "%logoff:\n",
       "    Temporarily stop logging.\n",
       "    \n",
       "    You must have previously started logging.\n",
       "%logon:\n",
       "    Restart logging.\n",
       "    \n",
       "    This function is for restarting logging which you've temporarily\n",
       "    stopped with %logoff. For starting logging for the first time, you\n",
       "    must use the %logstart function, which allows you to specify an\n",
       "    optional log filename.\n",
       "%logstart:\n",
       "    Start logging anywhere in a session.\n",
       "    \n",
       "    %logstart [-o|-r|-t|-q] [log_name [log_mode]]\n",
       "    \n",
       "    If no name is given, it defaults to a file named 'ipython_log.py' in your\n",
       "    current directory, in 'rotate' mode (see below).\n",
       "    \n",
       "    '%logstart name' saves to file 'name' in 'backup' mode.  It saves your\n",
       "    history up to that point and then continues logging.\n",
       "    \n",
       "    %logstart takes a second optional parameter: logging mode. This can be one\n",
       "    of (note that the modes are given unquoted):\n",
       "    \n",
       "    append\n",
       "        Keep logging at the end of any existing file.\n",
       "    \n",
       "    backup\n",
       "        Rename any existing file to name~ and start name.\n",
       "    \n",
       "    global\n",
       "        Append to  a single logfile in your home directory.\n",
       "    \n",
       "    over\n",
       "        Overwrite any existing log.\n",
       "    \n",
       "    rotate\n",
       "        Create rotating logs: name.1~, name.2~, etc.\n",
       "    \n",
       "    Options:\n",
       "    \n",
       "      -o\n",
       "        log also IPython's output. In this mode, all commands which\n",
       "        generate an Out[NN] prompt are recorded to the logfile, right after\n",
       "        their corresponding input line. The output lines are always\n",
       "        prepended with a '#[Out]# ' marker, so that the log remains valid\n",
       "        Python code.\n",
       "    \n",
       "      Since this marker is always the same, filtering only the output from\n",
       "      a log is very easy, using for example a simple awk call::\n",
       "    \n",
       "        awk -F'#\\[Out\\]# ' '{if($2) {print $2}}' ipython_log.py\n",
       "    \n",
       "      -r\n",
       "        log 'raw' input.  Normally, IPython's logs contain the processed\n",
       "        input, so that user lines are logged in their final form, converted\n",
       "        into valid Python.  For example, %Exit is logged as\n",
       "        _ip.magic(\"Exit\").  If the -r flag is given, all input is logged\n",
       "        exactly as typed, with no transformations applied.\n",
       "    \n",
       "      -t\n",
       "        put timestamps before each input line logged (these are put in\n",
       "        comments).\n",
       "    \n",
       "      -q \n",
       "        suppress output of logstate message when logging is invoked\n",
       "%logstate:\n",
       "    Print the status of the logging system.\n",
       "%logstop:\n",
       "    Fully stop logging and close log file.\n",
       "    \n",
       "    In order to start logging again, a new %logstart call needs to be made,\n",
       "    possibly (though not necessarily) with a new filename, mode and other\n",
       "    options.\n",
       "%ls:\n",
       "    Alias for `!dir /on`\n",
       "%lsmagic:\n",
       "    List currently available magic functions.\n",
       "%macro:\n",
       "    Define a macro for future re-execution. It accepts ranges of history,\n",
       "    filenames or string objects.\n",
       "    \n",
       "    Usage:\n",
       "      %macro [options] name n1-n2 n3-n4 ... n5 .. n6 ...\n",
       "    \n",
       "    Options:\n",
       "    \n",
       "      -r: use 'raw' input.  By default, the 'processed' history is used,\n",
       "      so that magics are loaded in their transformed version to valid\n",
       "      Python.  If this option is given, the raw input as typed at the\n",
       "      command line is used instead.\n",
       "    \n",
       "      -q: quiet macro definition.  By default, a tag line is printed \n",
       "      to indicate the macro has been created, and then the contents of \n",
       "      the macro are printed.  If this option is given, then no printout\n",
       "      is produced once the macro is created.\n",
       "    \n",
       "    This will define a global variable called `name` which is a string\n",
       "    made of joining the slices and lines you specify (n1,n2,... numbers\n",
       "    above) from your input history into a single string. This variable\n",
       "    acts like an automatic function which re-executes those lines as if\n",
       "    you had typed them. You just type 'name' at the prompt and the code\n",
       "    executes.\n",
       "    \n",
       "    The syntax for indicating input ranges is described in %history.\n",
       "    \n",
       "    Note: as a 'hidden' feature, you can also use traditional python slice\n",
       "    notation, where N:M means numbers N through M-1.\n",
       "    \n",
       "    For example, if your history contains (print using %hist -n )::\n",
       "    \n",
       "      44: x=1\n",
       "      45: y=3\n",
       "      46: z=x+y\n",
       "      47: print x\n",
       "      48: a=5\n",
       "      49: print 'x',x,'y',y\n",
       "    \n",
       "    you can create a macro with lines 44 through 47 (included) and line 49\n",
       "    called my_macro with::\n",
       "    \n",
       "      In [55]: %macro my_macro 44-47 49\n",
       "    \n",
       "    Now, typing `my_macro` (without quotes) will re-execute all this code\n",
       "    in one pass.\n",
       "    \n",
       "    You don't need to give the line-numbers in order, and any given line\n",
       "    number can appear multiple times. You can assemble macros with any\n",
       "    lines from your input history in any order.\n",
       "    \n",
       "    The macro is a simple object which holds its value in an attribute,\n",
       "    but IPython's display system checks for macros and executes them as\n",
       "    code instead of printing them when you type their name.\n",
       "    \n",
       "    You can view a macro's contents by explicitly printing it with::\n",
       "    \n",
       "      print macro_name\n",
       "%magic:\n",
       "    Print information about the magic function system.\n",
       "    \n",
       "    Supported formats: -latex, -brief, -rest\n",
       "%matplotlib:\n",
       "    ::\n",
       "    \n",
       "      %matplotlib [-l] [gui]\n",
       "    \n",
       "    Set up matplotlib to work interactively.\n",
       "    \n",
       "    This function lets you activate matplotlib interactive support\n",
       "    at any point during an IPython session. It does not import anything\n",
       "    into the interactive namespace.\n",
       "    \n",
       "    If you are using the inline matplotlib backend in the IPython Notebook\n",
       "    you can set which figure formats are enabled using the following::\n",
       "    \n",
       "        In [1]: from IPython.display import set_matplotlib_formats\n",
       "    \n",
       "        In [2]: set_matplotlib_formats('pdf', 'svg')\n",
       "    \n",
       "    The default for inline figures sets `bbox_inches` to 'tight'. This can\n",
       "    cause discrepancies between the displayed image and the identical\n",
       "    image created using `savefig`. This behavior can be disabled using the\n",
       "    `%config` magic::\n",
       "    \n",
       "        In [3]: %config InlineBackend.print_figure_kwargs = {'bbox_inches':None}\n",
       "    \n",
       "    In addition, see the docstring of\n",
       "    `IPython.display.set_matplotlib_formats` and\n",
       "    `IPython.display.set_matplotlib_close` for more information on\n",
       "    changing additional behaviors of the inline backend.\n",
       "    \n",
       "    Examples\n",
       "    --------\n",
       "    To enable the inline backend for usage with the IPython Notebook::\n",
       "    \n",
       "        In [1]: %matplotlib inline\n",
       "    \n",
       "    In this case, where the matplotlib default is TkAgg::\n",
       "    \n",
       "        In [2]: %matplotlib\n",
       "        Using matplotlib backend: TkAgg\n",
       "    \n",
       "    But you can explicitly request a different GUI backend::\n",
       "    \n",
       "        In [3]: %matplotlib qt\n",
       "    \n",
       "    You can list the available backends using the -l/--list option::\n",
       "    \n",
       "       In [4]: %matplotlib --list\n",
       "       Available matplotlib backends: ['osx', 'qt4', 'qt5', 'gtk3', 'notebook', 'wx', 'qt', 'nbagg',\n",
       "       'gtk', 'tk', 'inline']\n",
       "    \n",
       "    positional arguments:\n",
       "      gui         Name of the matplotlib backend to use ('agg', 'gtk', 'gtk3', 'inline', 'ipympl', 'nbagg', 'notebook',\n",
       "                  'osx', 'pdf', 'ps', 'qt', 'qt4', 'qt5', 'svg', 'tk', 'widget', 'wx'). If given, the corresponding\n",
       "                  matplotlib backend is used, otherwise it will be matplotlib's default (which you can set in your\n",
       "                  matplotlib config file).\n",
       "    \n",
       "    optional arguments:\n",
       "      -l, --list  Show available matplotlib backends\n",
       "%mkdir:\n",
       "    Alias for `!mkdir`\n",
       "%more:\n",
       "    Show a file through the pager.\n",
       "    \n",
       "    Files ending in .py are syntax-highlighted.\n",
       "%notebook:\n",
       "    ::\n",
       "    \n",
       "      %notebook filename\n",
       "    \n",
       "    Export and convert IPython notebooks.\n",
       "    \n",
       "    This function can export the current IPython history to a notebook file.\n",
       "    For example, to export the history to \"foo.ipynb\" do \"%notebook foo.ipynb\".\n",
       "    \n",
       "    The -e or --export flag is deprecated in IPython 5.2, and will be\n",
       "    removed in the future.\n",
       "    \n",
       "    positional arguments:\n",
       "      filename  Notebook name or filename\n",
       "%page:\n",
       "    Pretty print the object and display it through a pager.\n",
       "    \n",
       "    %page [options] OBJECT\n",
       "    \n",
       "    If no object is given, use _ (last output).\n",
       "    \n",
       "    Options:\n",
       "    \n",
       "      -r: page str(object), don't pretty-print it.\n",
       "%pastebin:\n",
       "    Upload code to dpaste's paste bin, returning the URL.\n",
       "    \n",
       "    Usage:\n",
       "      %pastebin [-d \"Custom description\"] 1-7\n",
       "    \n",
       "    The argument can be an input history range, a filename, or the name of a\n",
       "    string or macro.\n",
       "    \n",
       "    Options:\n",
       "    \n",
       "      -d: Pass a custom description for the gist. The default will say\n",
       "          \"Pasted from IPython\".\n",
       "%pdb:\n",
       "    Control the automatic calling of the pdb interactive debugger.\n",
       "    \n",
       "    Call as '%pdb on', '%pdb 1', '%pdb off' or '%pdb 0'. If called without\n",
       "    argument it works as a toggle.\n",
       "    \n",
       "    When an exception is triggered, IPython can optionally call the\n",
       "    interactive pdb debugger after the traceback printout. %pdb toggles\n",
       "    this feature on and off.\n",
       "    \n",
       "    The initial state of this feature is set in your configuration\n",
       "    file (the option is ``InteractiveShell.pdb``).\n",
       "    \n",
       "    If you want to just activate the debugger AFTER an exception has fired,\n",
       "    without having to type '%pdb on' and rerunning your code, you can use\n",
       "    the %debug magic.\n",
       "%pdef:\n",
       "    Print the call signature for any callable object.\n",
       "    \n",
       "    If the object is a class, print the constructor information.\n",
       "    \n",
       "    Examples\n",
       "    --------\n",
       "    ::\n",
       "    \n",
       "      In [3]: %pdef urllib.urlopen\n",
       "      urllib.urlopen(url, data=None, proxies=None)\n",
       "%pdoc:\n",
       "    Print the docstring for an object.\n",
       "    \n",
       "    If the given object is a class, it will print both the class and the\n",
       "    constructor docstrings.\n",
       "%pfile:\n",
       "    Print (or run through pager) the file where an object is defined.\n",
       "    \n",
       "    The file opens at the line where the object definition begins. IPython\n",
       "    will honor the environment variable PAGER if set, and otherwise will\n",
       "    do its best to print the file in a convenient form.\n",
       "    \n",
       "    If the given argument is not an object currently defined, IPython will\n",
       "    try to interpret it as a filename (automatically adding a .py extension\n",
       "    if needed). You can thus use %pfile as a syntax highlighting code\n",
       "    viewer.\n",
       "%pinfo:\n",
       "    Provide detailed information about an object.\n",
       "    \n",
       "    '%pinfo object' is just a synonym for object? or ?object.\n",
       "%pinfo2:\n",
       "    Provide extra detailed information about an object.\n",
       "    \n",
       "    '%pinfo2 object' is just a synonym for object?? or ??object.\n",
       "%pip:\n",
       "    Run the pip package manager within the current kernel.\n",
       "    \n",
       "    Usage:\n",
       "      %pip install [pkgs]\n",
       "%popd:\n",
       "    Change to directory popped off the top of the stack.\n",
       "%pprint:\n",
       "    Toggle pretty printing on/off.\n",
       "%precision:\n",
       "    Set floating point precision for pretty printing.\n",
       "    \n",
       "    Can set either integer precision or a format string.\n",
       "    \n",
       "    If numpy has been imported and precision is an int,\n",
       "    numpy display precision will also be set, via ``numpy.set_printoptions``.\n",
       "    \n",
       "    If no argument is given, defaults will be restored.\n",
       "    \n",
       "    Examples\n",
       "    --------\n",
       "    ::\n",
       "    \n",
       "        In [1]: from math import pi\n",
       "    \n",
       "        In [2]: %precision 3\n",
       "        Out[2]: u'%.3f'\n",
       "    \n",
       "        In [3]: pi\n",
       "        Out[3]: 3.142\n",
       "    \n",
       "        In [4]: %precision %i\n",
       "        Out[4]: u'%i'\n",
       "    \n",
       "        In [5]: pi\n",
       "        Out[5]: 3\n",
       "    \n",
       "        In [6]: %precision %e\n",
       "        Out[6]: u'%e'\n",
       "    \n",
       "        In [7]: pi**10\n",
       "        Out[7]: 9.364805e+04\n",
       "    \n",
       "        In [8]: %precision\n",
       "        Out[8]: u'%r'\n",
       "    \n",
       "        In [9]: pi**10\n",
       "        Out[9]: 93648.047476082982\n",
       "%prun:\n",
       "    Run a statement through the python code profiler.\n",
       "    \n",
       "    Usage, in line mode:\n",
       "      %prun [options] statement\n",
       "    \n",
       "    Usage, in cell mode:\n",
       "      %%prun [options] [statement]\n",
       "      code...\n",
       "      code...\n",
       "    \n",
       "    In cell mode, the additional code lines are appended to the (possibly\n",
       "    empty) statement in the first line.  Cell mode allows you to easily\n",
       "    profile multiline blocks without having to put them in a separate\n",
       "    function.\n",
       "    \n",
       "    The given statement (which doesn't require quote marks) is run via the\n",
       "    python profiler in a manner similar to the profile.run() function.\n",
       "    Namespaces are internally managed to work correctly; profile.run\n",
       "    cannot be used in IPython because it makes certain assumptions about\n",
       "    namespaces which do not hold under IPython.\n",
       "    \n",
       "    Options:\n",
       "    \n",
       "    -l <limit>\n",
       "      you can place restrictions on what or how much of the\n",
       "      profile gets printed. The limit value can be:\n",
       "    \n",
       "         * A string: only information for function names containing this string\n",
       "           is printed.\n",
       "    \n",
       "         * An integer: only these many lines are printed.\n",
       "    \n",
       "         * A float (between 0 and 1): this fraction of the report is printed\n",
       "           (for example, use a limit of 0.4 to see the topmost 40% only).\n",
       "    \n",
       "      You can combine several limits with repeated use of the option. For\n",
       "      example, ``-l __init__ -l 5`` will print only the topmost 5 lines of\n",
       "      information about class constructors.\n",
       "    \n",
       "    -r\n",
       "      return the pstats.Stats object generated by the profiling. This\n",
       "      object has all the information about the profile in it, and you can\n",
       "      later use it for further analysis or in other functions.\n",
       "    \n",
       "    -s <key>\n",
       "      sort profile by given key. You can provide more than one key\n",
       "      by using the option several times: '-s key1 -s key2 -s key3...'. The\n",
       "      default sorting key is 'time'.\n",
       "    \n",
       "      The following is copied verbatim from the profile documentation\n",
       "      referenced below:\n",
       "    \n",
       "      When more than one key is provided, additional keys are used as\n",
       "      secondary criteria when the there is equality in all keys selected\n",
       "      before them.\n",
       "    \n",
       "      Abbreviations can be used for any key names, as long as the\n",
       "      abbreviation is unambiguous.  The following are the keys currently\n",
       "      defined:\n",
       "    \n",
       "      ============  =====================\n",
       "      Valid Arg     Meaning\n",
       "      ============  =====================\n",
       "      \"calls\"       call count\n",
       "      \"cumulative\"  cumulative time\n",
       "      \"file\"        file name\n",
       "      \"module\"      file name\n",
       "      \"pcalls\"      primitive call count\n",
       "      \"line\"        line number\n",
       "      \"name\"        function name\n",
       "      \"nfl\"         name/file/line\n",
       "      \"stdname\"     standard name\n",
       "      \"time\"        internal time\n",
       "      ============  =====================\n",
       "    \n",
       "      Note that all sorts on statistics are in descending order (placing\n",
       "      most time consuming items first), where as name, file, and line number\n",
       "      searches are in ascending order (i.e., alphabetical). The subtle\n",
       "      distinction between \"nfl\" and \"stdname\" is that the standard name is a\n",
       "      sort of the name as printed, which means that the embedded line\n",
       "      numbers get compared in an odd way.  For example, lines 3, 20, and 40\n",
       "      would (if the file names were the same) appear in the string order\n",
       "      \"20\" \"3\" and \"40\".  In contrast, \"nfl\" does a numeric compare of the\n",
       "      line numbers.  In fact, sort_stats(\"nfl\") is the same as\n",
       "      sort_stats(\"name\", \"file\", \"line\").\n",
       "    \n",
       "    -T <filename>\n",
       "      save profile results as shown on screen to a text\n",
       "      file. The profile is still shown on screen.\n",
       "    \n",
       "    -D <filename>\n",
       "      save (via dump_stats) profile statistics to given\n",
       "      filename. This data is in a format understood by the pstats module, and\n",
       "      is generated by a call to the dump_stats() method of profile\n",
       "      objects. The profile is still shown on screen.\n",
       "    \n",
       "    -q\n",
       "      suppress output to the pager.  Best used with -T and/or -D above.\n",
       "    \n",
       "    If you want to run complete programs under the profiler's control, use\n",
       "    ``%run -p [prof_opts] filename.py [args to program]`` where prof_opts\n",
       "    contains profiler specific options as described here.\n",
       "    \n",
       "    You can read the complete documentation for the profile module with::\n",
       "    \n",
       "      In [1]: import profile; profile.help()\n",
       "    \n",
       "    .. versionchanged:: 7.3\n",
       "        User variables are no longer expanded,\n",
       "        the magic line is always left unmodified.\n",
       "%psearch:\n",
       "    Search for object in namespaces by wildcard.\n",
       "    \n",
       "    %psearch [options] PATTERN [OBJECT TYPE]\n",
       "    \n",
       "    Note: ? can be used as a synonym for %psearch, at the beginning or at\n",
       "    the end: both a*? and ?a* are equivalent to '%psearch a*'.  Still, the\n",
       "    rest of the command line must be unchanged (options come first), so\n",
       "    for example the following forms are equivalent\n",
       "    \n",
       "    %psearch -i a* function\n",
       "    -i a* function?\n",
       "    ?-i a* function\n",
       "    \n",
       "    Arguments:\n",
       "    \n",
       "      PATTERN\n",
       "    \n",
       "      where PATTERN is a string containing * as a wildcard similar to its\n",
       "      use in a shell.  The pattern is matched in all namespaces on the\n",
       "      search path. By default objects starting with a single _ are not\n",
       "      matched, many IPython generated objects have a single\n",
       "      underscore. The default is case insensitive matching. Matching is\n",
       "      also done on the attributes of objects and not only on the objects\n",
       "      in a module.\n",
       "    \n",
       "      [OBJECT TYPE]\n",
       "    \n",
       "      Is the name of a python type from the types module. The name is\n",
       "      given in lowercase without the ending type, ex. StringType is\n",
       "      written string. By adding a type here only objects matching the\n",
       "      given type are matched. Using all here makes the pattern match all\n",
       "      types (this is the default).\n",
       "    \n",
       "    Options:\n",
       "    \n",
       "      -a: makes the pattern match even objects whose names start with a\n",
       "      single underscore.  These names are normally omitted from the\n",
       "      search.\n",
       "    \n",
       "      -i/-c: make the pattern case insensitive/sensitive.  If neither of\n",
       "      these options are given, the default is read from your configuration\n",
       "      file, with the option ``InteractiveShell.wildcards_case_sensitive``.\n",
       "      If this option is not specified in your configuration file, IPython's\n",
       "      internal default is to do a case sensitive search.\n",
       "    \n",
       "      -e/-s NAMESPACE: exclude/search a given namespace.  The pattern you\n",
       "      specify can be searched in any of the following namespaces:\n",
       "      'builtin', 'user', 'user_global','internal', 'alias', where\n",
       "      'builtin' and 'user' are the search defaults.  Note that you should\n",
       "      not use quotes when specifying namespaces.\n",
       "    \n",
       "      -l: List all available object types for object matching. This function\n",
       "      can be used without arguments.\n",
       "    \n",
       "      'Builtin' contains the python module builtin, 'user' contains all\n",
       "      user data, 'alias' only contain the shell aliases and no python\n",
       "      objects, 'internal' contains objects used by IPython.  The\n",
       "      'user_global' namespace is only used by embedded IPython instances,\n",
       "      and it contains module-level globals.  You can add namespaces to the\n",
       "      search with -s or exclude them with -e (these options can be given\n",
       "      more than once).\n",
       "    \n",
       "    Examples\n",
       "    --------\n",
       "    ::\n",
       "    \n",
       "      %psearch a*            -> objects beginning with an a\n",
       "      %psearch -e builtin a* -> objects NOT in the builtin space starting in a\n",
       "      %psearch a* function   -> all functions beginning with an a\n",
       "      %psearch re.e*         -> objects beginning with an e in module re\n",
       "      %psearch r*.e*         -> objects that start with e in modules starting in r\n",
       "      %psearch r*.* string   -> all strings in modules beginning with r\n",
       "    \n",
       "    Case sensitive search::\n",
       "    \n",
       "      %psearch -c a*         list all object beginning with lower case a\n",
       "    \n",
       "    Show objects beginning with a single _::\n",
       "    \n",
       "      %psearch -a _*         list objects beginning with a single underscore\n",
       "    \n",
       "    List available objects::\n",
       "    \n",
       "      %psearch -l            list all available object types\n",
       "%psource:\n",
       "    Print (or run through pager) the source code for an object.\n",
       "%pushd:\n",
       "    Place the current dir on stack and change directory.\n",
       "    \n",
       "    Usage:\n",
       "      %pushd ['dirname']\n",
       "%pwd:\n",
       "    Return the current working directory path.\n",
       "    \n",
       "    Examples\n",
       "    --------\n",
       "    ::\n",
       "    \n",
       "      In [9]: pwd\n",
       "      Out[9]: '/home/tsuser/sprint/ipython'\n",
       "%pycat:\n",
       "    Show a syntax-highlighted file through a pager.\n",
       "    \n",
       "    This magic is similar to the cat utility, but it will assume the file\n",
       "    to be Python source and will show it with syntax highlighting.\n",
       "    \n",
       "    This magic command can either take a local filename, an url,\n",
       "    an history range (see %history) or a macro as argument ::\n",
       "    \n",
       "    %pycat myscript.py\n",
       "    %pycat 7-27\n",
       "    %pycat myMacro\n",
       "    %pycat http://www.example.com/myscript.py\n",
       "%pylab:\n",
       "    ::\n",
       "    \n",
       "      %pylab [--no-import-all] [gui]\n",
       "    \n",
       "    Load numpy and matplotlib to work interactively.\n",
       "    \n",
       "    This function lets you activate pylab (matplotlib, numpy and\n",
       "    interactive support) at any point during an IPython session.\n",
       "    \n",
       "    %pylab makes the following imports::\n",
       "    \n",
       "        import numpy\n",
       "        import matplotlib\n",
       "        from matplotlib import pylab, mlab, pyplot\n",
       "        np = numpy\n",
       "        plt = pyplot\n",
       "    \n",
       "        from IPython.display import display\n",
       "        from IPython.core.pylabtools import figsize, getfigs\n",
       "    \n",
       "        from pylab import *\n",
       "        from numpy import *\n",
       "    \n",
       "    If you pass `--no-import-all`, the last two `*` imports will be excluded.\n",
       "    \n",
       "    See the %matplotlib magic for more details about activating matplotlib\n",
       "    without affecting the interactive namespace.\n",
       "    \n",
       "    positional arguments:\n",
       "      gui              Name of the matplotlib backend to use ('agg', 'gtk', 'gtk3', 'inline', 'ipympl', 'nbagg',\n",
       "                       'notebook', 'osx', 'pdf', 'ps', 'qt', 'qt4', 'qt5', 'svg', 'tk', 'widget', 'wx'). If given, the\n",
       "                       corresponding matplotlib backend is used, otherwise it will be matplotlib's default (which you can\n",
       "                       set in your matplotlib config file).\n",
       "    \n",
       "    optional arguments:\n",
       "      --no-import-all  Prevent IPython from performing ``import *`` into the interactive namespace. You can govern the\n",
       "                       default behavior of this flag with the InteractiveShellApp.pylab_import_all configurable.\n",
       "%qtconsole:\n",
       "    Open a qtconsole connected to this kernel.\n",
       "    \n",
       "    Useful for connecting a qtconsole to running notebooks, for better\n",
       "    debugging.\n",
       "%quickref:\n",
       "    Show a quick reference sheet\n",
       "%recall:\n",
       "    Repeat a command, or get command to input line for editing.\n",
       "    \n",
       "    %recall and %rep are equivalent.\n",
       "    \n",
       "    - %recall (no arguments):\n",
       "    \n",
       "    Place a string version of last computation result (stored in the\n",
       "    special '_' variable) to the next input prompt. Allows you to create\n",
       "    elaborate command lines without using copy-paste::\n",
       "    \n",
       "         In[1]: l = [\"hei\", \"vaan\"]\n",
       "         In[2]: \"\".join(l)\n",
       "        Out[2]: heivaan\n",
       "         In[3]: %recall\n",
       "         In[4]: heivaan_ <== cursor blinking\n",
       "    \n",
       "    %recall 45\n",
       "    \n",
       "    Place history line 45 on the next input prompt. Use %hist to find\n",
       "    out the number.\n",
       "    \n",
       "    %recall 1-4\n",
       "    \n",
       "    Combine the specified lines into one cell, and place it on the next\n",
       "    input prompt. See %history for the slice syntax.\n",
       "    \n",
       "    %recall foo+bar\n",
       "    \n",
       "    If foo+bar can be evaluated in the user namespace, the result is\n",
       "    placed at the next input prompt. Otherwise, the history is searched\n",
       "    for lines which contain that substring, and the most recent one is\n",
       "    placed at the next input prompt.\n",
       "%rehashx:\n",
       "    Update the alias table with all executable files in $PATH.\n",
       "    \n",
       "    rehashx explicitly checks that every entry in $PATH is a file\n",
       "    with execute access (os.X_OK).\n",
       "    \n",
       "    Under Windows, it checks executability as a match against a\n",
       "    '|'-separated string of extensions, stored in the IPython config\n",
       "    variable win_exec_ext.  This defaults to 'exe|com|bat'.\n",
       "    \n",
       "    This function also resets the root module cache of module completer,\n",
       "    used on slow filesystems.\n",
       "%reload_ext:\n",
       "    Reload an IPython extension by its module name.\n",
       "%ren:\n",
       "    Alias for `!ren`\n",
       "%rep:\n",
       "    Alias for `%recall`.\n",
       "%rerun:\n",
       "    Re-run previous input\n",
       "    \n",
       "    By default, you can specify ranges of input history to be repeated\n",
       "    (as with %history). With no arguments, it will repeat the last line.\n",
       "    \n",
       "    Options:\n",
       "    \n",
       "      -l <n> : Repeat the last n lines of input, not including the\n",
       "      current command.\n",
       "    \n",
       "      -g foo : Repeat the most recent line which contains foo\n",
       "%reset:\n",
       "    Resets the namespace by removing all names defined by the user, if\n",
       "    called without arguments, or by removing some types of objects, such\n",
       "    as everything currently in IPython's In[] and Out[] containers (see\n",
       "    the parameters for details).\n",
       "    \n",
       "    Parameters\n",
       "    ----------\n",
       "    -f : force reset without asking for confirmation.\n",
       "    \n",
       "    -s : 'Soft' reset: Only clears your namespace, leaving history intact.\n",
       "        References to objects may be kept. By default (without this option),\n",
       "        we do a 'hard' reset, giving you a new session and removing all\n",
       "        references to objects from the current session.\n",
       "    \n",
       "    in : reset input history\n",
       "    \n",
       "    out : reset output history\n",
       "    \n",
       "    dhist : reset directory history\n",
       "    \n",
       "    array : reset only variables that are NumPy arrays\n",
       "    \n",
       "    See Also\n",
       "    --------\n",
       "    reset_selective : invoked as ``%reset_selective``\n",
       "    \n",
       "    Examples\n",
       "    --------\n",
       "    ::\n",
       "    \n",
       "      In [6]: a = 1\n",
       "    \n",
       "      In [7]: a\n",
       "      Out[7]: 1\n",
       "    \n",
       "      In [8]: 'a' in get_ipython().user_ns\n",
       "      Out[8]: True\n",
       "    \n",
       "      In [9]: %reset -f\n",
       "    \n",
       "      In [1]: 'a' in get_ipython().user_ns\n",
       "      Out[1]: False\n",
       "    \n",
       "      In [2]: %reset -f in\n",
       "      Flushing input history\n",
       "    \n",
       "      In [3]: %reset -f dhist in\n",
       "      Flushing directory history\n",
       "      Flushing input history\n",
       "    \n",
       "    Notes\n",
       "    -----\n",
       "    Calling this magic from clients that do not implement standard input,\n",
       "    such as the ipython notebook interface, will reset the namespace\n",
       "    without confirmation.\n",
       "%reset_selective:\n",
       "    Resets the namespace by removing names defined by the user.\n",
       "    \n",
       "    Input/Output history are left around in case you need them.\n",
       "    \n",
       "    %reset_selective [-f] regex\n",
       "    \n",
       "    No action is taken if regex is not included\n",
       "    \n",
       "    Options\n",
       "      -f : force reset without asking for confirmation.\n",
       "    \n",
       "    See Also\n",
       "    --------\n",
       "    reset : invoked as ``%reset``\n",
       "    \n",
       "    Examples\n",
       "    --------\n",
       "    \n",
       "    We first fully reset the namespace so your output looks identical to\n",
       "    this example for pedagogical reasons; in practice you do not need a\n",
       "    full reset::\n",
       "    \n",
       "      In [1]: %reset -f\n",
       "    \n",
       "    Now, with a clean namespace we can make a few variables and use\n",
       "    ``%reset_selective`` to only delete names that match our regexp::\n",
       "    \n",
       "      In [2]: a=1; b=2; c=3; b1m=4; b2m=5; b3m=6; b4m=7; b2s=8\n",
       "    \n",
       "      In [3]: who_ls\n",
       "      Out[3]: ['a', 'b', 'b1m', 'b2m', 'b2s', 'b3m', 'b4m', 'c']\n",
       "    \n",
       "      In [4]: %reset_selective -f b[2-3]m\n",
       "    \n",
       "      In [5]: who_ls\n",
       "      Out[5]: ['a', 'b', 'b1m', 'b2s', 'b4m', 'c']\n",
       "    \n",
       "      In [6]: %reset_selective -f d\n",
       "    \n",
       "      In [7]: who_ls\n",
       "      Out[7]: ['a', 'b', 'b1m', 'b2s', 'b4m', 'c']\n",
       "    \n",
       "      In [8]: %reset_selective -f c\n",
       "    \n",
       "      In [9]: who_ls\n",
       "      Out[9]: ['a', 'b', 'b1m', 'b2s', 'b4m']\n",
       "    \n",
       "      In [10]: %reset_selective -f b\n",
       "    \n",
       "      In [11]: who_ls\n",
       "      Out[11]: ['a']\n",
       "    \n",
       "    Notes\n",
       "    -----\n",
       "    Calling this magic from clients that do not implement standard input,\n",
       "    such as the ipython notebook interface, will reset the namespace\n",
       "    without confirmation.\n",
       "%rmdir:\n",
       "    Alias for `!rmdir`\n",
       "%run:\n",
       "    Run the named file inside IPython as a program.\n",
       "    \n",
       "    Usage::\n",
       "    \n",
       "      %run [-n -i -e -G]\n",
       "           [( -t [-N<N>] | -d [-b<N>] | -p [profile options] )]\n",
       "           ( -m mod | file ) [args]\n",
       "    \n",
       "    Parameters after the filename are passed as command-line arguments to\n",
       "    the program (put in sys.argv). Then, control returns to IPython's\n",
       "    prompt.\n",
       "    \n",
       "    This is similar to running at a system prompt ``python file args``,\n",
       "    but with the advantage of giving you IPython's tracebacks, and of\n",
       "    loading all variables into your interactive namespace for further use\n",
       "    (unless -p is used, see below).\n",
       "    \n",
       "    The file is executed in a namespace initially consisting only of\n",
       "    ``__name__=='__main__'`` and sys.argv constructed as indicated. It thus\n",
       "    sees its environment as if it were being run as a stand-alone program\n",
       "    (except for sharing global objects such as previously imported\n",
       "    modules). But after execution, the IPython interactive namespace gets\n",
       "    updated with all variables defined in the program (except for __name__\n",
       "    and sys.argv). This allows for very convenient loading of code for\n",
       "    interactive work, while giving each program a 'clean sheet' to run in.\n",
       "    \n",
       "    Arguments are expanded using shell-like glob match.  Patterns\n",
       "    '*', '?', '[seq]' and '[!seq]' can be used.  Additionally,\n",
       "    tilde '~' will be expanded into user's home directory.  Unlike\n",
       "    real shells, quotation does not suppress expansions.  Use\n",
       "    *two* back slashes (e.g. ``\\\\*``) to suppress expansions.\n",
       "    To completely disable these expansions, you can use -G flag.\n",
       "    \n",
       "    On Windows systems, the use of single quotes `'` when specifying \n",
       "    a file is not supported. Use double quotes `\"`.\n",
       "    \n",
       "    Options:\n",
       "    \n",
       "    -n\n",
       "      __name__ is NOT set to '__main__', but to the running file's name\n",
       "      without extension (as python does under import).  This allows running\n",
       "      scripts and reloading the definitions in them without calling code\n",
       "      protected by an ``if __name__ == \"__main__\"`` clause.\n",
       "    \n",
       "    -i\n",
       "      run the file in IPython's namespace instead of an empty one. This\n",
       "      is useful if you are experimenting with code written in a text editor\n",
       "      which depends on variables defined interactively.\n",
       "    \n",
       "    -e\n",
       "      ignore sys.exit() calls or SystemExit exceptions in the script\n",
       "      being run.  This is particularly useful if IPython is being used to\n",
       "      run unittests, which always exit with a sys.exit() call.  In such\n",
       "      cases you are interested in the output of the test results, not in\n",
       "      seeing a traceback of the unittest module.\n",
       "    \n",
       "    -t\n",
       "      print timing information at the end of the run.  IPython will give\n",
       "      you an estimated CPU time consumption for your script, which under\n",
       "      Unix uses the resource module to avoid the wraparound problems of\n",
       "      time.clock().  Under Unix, an estimate of time spent on system tasks\n",
       "      is also given (for Windows platforms this is reported as 0.0).\n",
       "    \n",
       "    If -t is given, an additional ``-N<N>`` option can be given, where <N>\n",
       "    must be an integer indicating how many times you want the script to\n",
       "    run.  The final timing report will include total and per run results.\n",
       "    \n",
       "    For example (testing the script uniq_stable.py)::\n",
       "    \n",
       "        In [1]: run -t uniq_stable\n",
       "    \n",
       "        IPython CPU timings (estimated):\n",
       "          User  :    0.19597 s.\n",
       "          System:        0.0 s.\n",
       "    \n",
       "        In [2]: run -t -N5 uniq_stable\n",
       "    \n",
       "        IPython CPU timings (estimated):\n",
       "        Total runs performed: 5\n",
       "          Times :      Total       Per run\n",
       "          User  :   0.910862 s,  0.1821724 s.\n",
       "          System:        0.0 s,        0.0 s.\n",
       "    \n",
       "    -d\n",
       "      run your program under the control of pdb, the Python debugger.\n",
       "      This allows you to execute your program step by step, watch variables,\n",
       "      etc.  Internally, what IPython does is similar to calling::\n",
       "    \n",
       "          pdb.run('execfile(\"YOURFILENAME\")')\n",
       "    \n",
       "      with a breakpoint set on line 1 of your file.  You can change the line\n",
       "      number for this automatic breakpoint to be <N> by using the -bN option\n",
       "      (where N must be an integer). For example::\n",
       "    \n",
       "          %run -d -b40 myscript\n",
       "    \n",
       "      will set the first breakpoint at line 40 in myscript.py.  Note that\n",
       "      the first breakpoint must be set on a line which actually does\n",
       "      something (not a comment or docstring) for it to stop execution.\n",
       "    \n",
       "      Or you can specify a breakpoint in a different file::\n",
       "    \n",
       "          %run -d -b myotherfile.py:20 myscript\n",
       "    \n",
       "      When the pdb debugger starts, you will see a (Pdb) prompt.  You must\n",
       "      first enter 'c' (without quotes) to start execution up to the first\n",
       "      breakpoint.\n",
       "    \n",
       "      Entering 'help' gives information about the use of the debugger.  You\n",
       "      can easily see pdb's full documentation with \"import pdb;pdb.help()\"\n",
       "      at a prompt.\n",
       "    \n",
       "    -p\n",
       "      run program under the control of the Python profiler module (which\n",
       "      prints a detailed report of execution times, function calls, etc).\n",
       "    \n",
       "      You can pass other options after -p which affect the behavior of the\n",
       "      profiler itself. See the docs for %prun for details.\n",
       "    \n",
       "      In this mode, the program's variables do NOT propagate back to the\n",
       "      IPython interactive namespace (because they remain in the namespace\n",
       "      where the profiler executes them).\n",
       "    \n",
       "      Internally this triggers a call to %prun, see its documentation for\n",
       "      details on the options available specifically for profiling.\n",
       "    \n",
       "    There is one special usage for which the text above doesn't apply:\n",
       "    if the filename ends with .ipy[nb], the file is run as ipython script,\n",
       "    just as if the commands were written on IPython prompt.\n",
       "    \n",
       "    -m\n",
       "      specify module name to load instead of script path. Similar to\n",
       "      the -m option for the python interpreter. Use this option last if you\n",
       "      want to combine with other %run options. Unlike the python interpreter\n",
       "      only source modules are allowed no .pyc or .pyo files.\n",
       "      For example::\n",
       "    \n",
       "          %run -m example\n",
       "    \n",
       "      will run the example module.\n",
       "    \n",
       "    -G\n",
       "      disable shell-like glob expansion of arguments.\n",
       "%save:\n",
       "    Save a set of lines or a macro to a given filename.\n",
       "    \n",
       "    Usage:\n",
       "      %save [options] filename n1-n2 n3-n4 ... n5 .. n6 ...\n",
       "    \n",
       "    Options:\n",
       "    \n",
       "      -r: use 'raw' input.  By default, the 'processed' history is used,\n",
       "      so that magics are loaded in their transformed version to valid\n",
       "      Python.  If this option is given, the raw input as typed as the\n",
       "      command line is used instead.\n",
       "    \n",
       "      -f: force overwrite.  If file exists, %save will prompt for overwrite\n",
       "      unless -f is given.\n",
       "    \n",
       "      -a: append to the file instead of overwriting it.\n",
       "    \n",
       "    This function uses the same syntax as %history for input ranges,\n",
       "    then saves the lines to the filename you specify.\n",
       "    \n",
       "    It adds a '.py' extension to the file if you don't do so yourself, and\n",
       "    it asks for confirmation before overwriting existing files.\n",
       "    \n",
       "    If `-r` option is used, the default extension is `.ipy`.\n",
       "%sc:\n",
       "    Shell capture - run shell command and capture output (DEPRECATED use !).\n",
       "    \n",
       "    DEPRECATED. Suboptimal, retained for backwards compatibility.\n",
       "    \n",
       "    You should use the form 'var = !command' instead. Example:\n",
       "    \n",
       "     \"%sc -l myfiles = ls ~\" should now be written as\n",
       "    \n",
       "     \"myfiles = !ls ~\"\n",
       "    \n",
       "    myfiles.s, myfiles.l and myfiles.n still apply as documented\n",
       "    below.\n",
       "    \n",
       "    --\n",
       "    %sc [options] varname=command\n",
       "    \n",
       "    IPython will run the given command using commands.getoutput(), and\n",
       "    will then update the user's interactive namespace with a variable\n",
       "    called varname, containing the value of the call.  Your command can\n",
       "    contain shell wildcards, pipes, etc.\n",
       "    \n",
       "    The '=' sign in the syntax is mandatory, and the variable name you\n",
       "    supply must follow Python's standard conventions for valid names.\n",
       "    \n",
       "    (A special format without variable name exists for internal use)\n",
       "    \n",
       "    Options:\n",
       "    \n",
       "      -l: list output.  Split the output on newlines into a list before\n",
       "      assigning it to the given variable.  By default the output is stored\n",
       "      as a single string.\n",
       "    \n",
       "      -v: verbose.  Print the contents of the variable.\n",
       "    \n",
       "    In most cases you should not need to split as a list, because the\n",
       "    returned value is a special type of string which can automatically\n",
       "    provide its contents either as a list (split on newlines) or as a\n",
       "    space-separated string.  These are convenient, respectively, either\n",
       "    for sequential processing or to be passed to a shell command.\n",
       "    \n",
       "    For example::\n",
       "    \n",
       "        # Capture into variable a\n",
       "        In [1]: sc a=ls *py\n",
       "    \n",
       "        # a is a string with embedded newlines\n",
       "        In [2]: a\n",
       "        Out[2]: 'setup.py\\nwin32_manual_post_install.py'\n",
       "    \n",
       "        # which can be seen as a list:\n",
       "        In [3]: a.l\n",
       "        Out[3]: ['setup.py', 'win32_manual_post_install.py']\n",
       "    \n",
       "        # or as a whitespace-separated string:\n",
       "        In [4]: a.s\n",
       "        Out[4]: 'setup.py win32_manual_post_install.py'\n",
       "    \n",
       "        # a.s is useful to pass as a single command line:\n",
       "        In [5]: !wc -l $a.s\n",
       "          146 setup.py\n",
       "          130 win32_manual_post_install.py\n",
       "          276 total\n",
       "    \n",
       "        # while the list form is useful to loop over:\n",
       "        In [6]: for f in a.l:\n",
       "          ...:      !wc -l $f\n",
       "          ...:\n",
       "        146 setup.py\n",
       "        130 win32_manual_post_install.py\n",
       "    \n",
       "    Similarly, the lists returned by the -l option are also special, in\n",
       "    the sense that you can equally invoke the .s attribute on them to\n",
       "    automatically get a whitespace-separated string from their contents::\n",
       "    \n",
       "        In [7]: sc -l b=ls *py\n",
       "    \n",
       "        In [8]: b\n",
       "        Out[8]: ['setup.py', 'win32_manual_post_install.py']\n",
       "    \n",
       "        In [9]: b.s\n",
       "        Out[9]: 'setup.py win32_manual_post_install.py'\n",
       "    \n",
       "    In summary, both the lists and strings used for output capture have\n",
       "    the following special attributes::\n",
       "    \n",
       "        .l (or .list) : value as list.\n",
       "        .n (or .nlstr): value as newline-separated string.\n",
       "        .s (or .spstr): value as space-separated string.\n",
       "%set_env:\n",
       "    Set environment variables.  Assumptions are that either \"val\" is a\n",
       "    name in the user namespace, or val is something that evaluates to a\n",
       "    string.\n",
       "    \n",
       "    Usage:\n",
       "      %set_env var val: set value for var\n",
       "      %set_env var=val: set value for var\n",
       "      %set_env var=$val: set value for var, using python expansion if possible\n",
       "%store:\n",
       "    Lightweight persistence for python variables.\n",
       "    \n",
       "    Example::\n",
       "    \n",
       "      In [1]: l = ['hello',10,'world']\n",
       "      In [2]: %store l\n",
       "      In [3]: exit\n",
       "    \n",
       "      (IPython session is closed and started again...)\n",
       "    \n",
       "      ville@badger:~$ ipython\n",
       "      In [1]: l\n",
       "      NameError: name 'l' is not defined\n",
       "      In [2]: %store -r\n",
       "      In [3]: l\n",
       "      Out[3]: ['hello', 10, 'world']\n",
       "    \n",
       "    Usage:\n",
       "    \n",
       "    * ``%store``          - Show list of all variables and their current\n",
       "                            values\n",
       "    * ``%store spam bar`` - Store the *current* value of the variables spam\n",
       "                            and bar to disk\n",
       "    * ``%store -d spam``  - Remove the variable and its value from storage\n",
       "    * ``%store -z``       - Remove all variables from storage\n",
       "    * ``%store -r``       - Refresh all variables, aliases and directory history\n",
       "                            from store (overwrite current vals)\n",
       "    * ``%store -r spam bar`` - Refresh specified variables and aliases from store\n",
       "                               (delete current val)\n",
       "    * ``%store foo >a.txt``  - Store value of foo to new file a.txt\n",
       "    * ``%store foo >>a.txt`` - Append value of foo to file a.txt\n",
       "    \n",
       "    It should be noted that if you change the value of a variable, you\n",
       "    need to %store it again if you want to persist the new value.\n",
       "    \n",
       "    Note also that the variables will need to be pickleable; most basic\n",
       "    python types can be safely %store'd.\n",
       "    \n",
       "    Also aliases can be %store'd across sessions.\n",
       "    To remove an alias from the storage, use the %unalias magic.\n",
       "%sx:\n",
       "    Shell execute - run shell command and capture output (!! is short-hand).\n",
       "    \n",
       "    %sx command\n",
       "    \n",
       "    IPython will run the given command using commands.getoutput(), and\n",
       "    return the result formatted as a list (split on '\\n').  Since the\n",
       "    output is _returned_, it will be stored in ipython's regular output\n",
       "    cache Out[N] and in the '_N' automatic variables.\n",
       "    \n",
       "    Notes:\n",
       "    \n",
       "    1) If an input line begins with '!!', then %sx is automatically\n",
       "    invoked.  That is, while::\n",
       "    \n",
       "      !ls\n",
       "    \n",
       "    causes ipython to simply issue system('ls'), typing::\n",
       "    \n",
       "      !!ls\n",
       "    \n",
       "    is a shorthand equivalent to::\n",
       "    \n",
       "      %sx ls\n",
       "    \n",
       "    2) %sx differs from %sc in that %sx automatically splits into a list,\n",
       "    like '%sc -l'.  The reason for this is to make it as easy as possible\n",
       "    to process line-oriented shell output via further python commands.\n",
       "    %sc is meant to provide much finer control, but requires more\n",
       "    typing.\n",
       "    \n",
       "    3) Just like %sc -l, this is a list with special attributes:\n",
       "    ::\n",
       "    \n",
       "      .l (or .list) : value as list.\n",
       "      .n (or .nlstr): value as newline-separated string.\n",
       "      .s (or .spstr): value as whitespace-separated string.\n",
       "    \n",
       "    This is very useful when trying to use such lists as arguments to\n",
       "    system commands.\n",
       "%system:\n",
       "    Shell execute - run shell command and capture output (!! is short-hand).\n",
       "    \n",
       "    %sx command\n",
       "    \n",
       "    IPython will run the given command using commands.getoutput(), and\n",
       "    return the result formatted as a list (split on '\\n').  Since the\n",
       "    output is _returned_, it will be stored in ipython's regular output\n",
       "    cache Out[N] and in the '_N' automatic variables.\n",
       "    \n",
       "    Notes:\n",
       "    \n",
       "    1) If an input line begins with '!!', then %sx is automatically\n",
       "    invoked.  That is, while::\n",
       "    \n",
       "      !ls\n",
       "    \n",
       "    causes ipython to simply issue system('ls'), typing::\n",
       "    \n",
       "      !!ls\n",
       "    \n",
       "    is a shorthand equivalent to::\n",
       "    \n",
       "      %sx ls\n",
       "    \n",
       "    2) %sx differs from %sc in that %sx automatically splits into a list,\n",
       "    like '%sc -l'.  The reason for this is to make it as easy as possible\n",
       "    to process line-oriented shell output via further python commands.\n",
       "    %sc is meant to provide much finer control, but requires more\n",
       "    typing.\n",
       "    \n",
       "    3) Just like %sc -l, this is a list with special attributes:\n",
       "    ::\n",
       "    \n",
       "      .l (or .list) : value as list.\n",
       "      .n (or .nlstr): value as newline-separated string.\n",
       "      .s (or .spstr): value as whitespace-separated string.\n",
       "    \n",
       "    This is very useful when trying to use such lists as arguments to\n",
       "    system commands.\n",
       "%tb:\n",
       "    Print the last traceback.\n",
       "    \n",
       "    Optionally, specify an exception reporting mode, tuning the\n",
       "    verbosity of the traceback. By default the currently-active exception\n",
       "    mode is used. See %xmode for changing exception reporting modes.\n",
       "    \n",
       "    Valid modes: Plain, Context, Verbose, and Minimal.\n",
       "%time:\n",
       "    Time execution of a Python statement or expression.\n",
       "    \n",
       "    The CPU and wall clock times are printed, and the value of the\n",
       "    expression (if any) is returned.  Note that under Win32, system time\n",
       "    is always reported as 0, since it can not be measured.\n",
       "    \n",
       "    This function can be used both as a line and cell magic:\n",
       "    \n",
       "    - In line mode you can time a single-line statement (though multiple\n",
       "      ones can be chained with using semicolons).\n",
       "    \n",
       "    - In cell mode, you can time the cell body (a directly\n",
       "      following statement raises an error).\n",
       "    \n",
       "    This function provides very basic timing functionality.  Use the timeit\n",
       "    magic for more control over the measurement.\n",
       "    \n",
       "    .. versionchanged:: 7.3\n",
       "        User variables are no longer expanded,\n",
       "        the magic line is always left unmodified.\n",
       "    \n",
       "    Examples\n",
       "    --------\n",
       "    ::\n",
       "    \n",
       "      In [1]: %time 2**128\n",
       "      CPU times: user 0.00 s, sys: 0.00 s, total: 0.00 s\n",
       "      Wall time: 0.00\n",
       "      Out[1]: 340282366920938463463374607431768211456L\n",
       "    \n",
       "      In [2]: n = 1000000\n",
       "    \n",
       "      In [3]: %time sum(range(n))\n",
       "      CPU times: user 1.20 s, sys: 0.05 s, total: 1.25 s\n",
       "      Wall time: 1.37\n",
       "      Out[3]: 499999500000L\n",
       "    \n",
       "      In [4]: %time print 'hello world'\n",
       "      hello world\n",
       "      CPU times: user 0.00 s, sys: 0.00 s, total: 0.00 s\n",
       "      Wall time: 0.00\n",
       "    \n",
       "      Note that the time needed by Python to compile the given expression\n",
       "      will be reported if it is more than 0.1s.  In this example, the\n",
       "      actual exponentiation is done by Python at compilation time, so while\n",
       "      the expression can take a noticeable amount of time to compute, that\n",
       "      time is purely due to the compilation:\n",
       "    \n",
       "      In [5]: %time 3**9999;\n",
       "      CPU times: user 0.00 s, sys: 0.00 s, total: 0.00 s\n",
       "      Wall time: 0.00 s\n",
       "    \n",
       "      In [6]: %time 3**999999;\n",
       "      CPU times: user 0.00 s, sys: 0.00 s, total: 0.00 s\n",
       "      Wall time: 0.00 s\n",
       "      Compiler : 0.78 s\n",
       "%timeit:\n",
       "    Time execution of a Python statement or expression\n",
       "    \n",
       "    Usage, in line mode:\n",
       "      %timeit [-n<N> -r<R> [-t|-c] -q -p<P> -o] statement\n",
       "    or in cell mode:\n",
       "      %%timeit [-n<N> -r<R> [-t|-c] -q -p<P> -o] setup_code\n",
       "      code\n",
       "      code...\n",
       "    \n",
       "    Time execution of a Python statement or expression using the timeit\n",
       "    module.  This function can be used both as a line and cell magic:\n",
       "    \n",
       "    - In line mode you can time a single-line statement (though multiple\n",
       "      ones can be chained with using semicolons).\n",
       "    \n",
       "    - In cell mode, the statement in the first line is used as setup code\n",
       "      (executed but not timed) and the body of the cell is timed.  The cell\n",
       "      body has access to any variables created in the setup code.\n",
       "    \n",
       "    Options:\n",
       "    -n<N>: execute the given statement <N> times in a loop. If <N> is not\n",
       "    provided, <N> is determined so as to get sufficient accuracy.\n",
       "    \n",
       "    -r<R>: number of repeats <R>, each consisting of <N> loops, and take the\n",
       "    best result.\n",
       "    Default: 7\n",
       "    \n",
       "    -t: use time.time to measure the time, which is the default on Unix.\n",
       "    This function measures wall time.\n",
       "    \n",
       "    -c: use time.clock to measure the time, which is the default on\n",
       "    Windows and measures wall time. On Unix, resource.getrusage is used\n",
       "    instead and returns the CPU user time.\n",
       "    \n",
       "    -p<P>: use a precision of <P> digits to display the timing result.\n",
       "    Default: 3\n",
       "    \n",
       "    -q: Quiet, do not print result.\n",
       "    \n",
       "    -o: return a TimeitResult that can be stored in a variable to inspect\n",
       "        the result in more details.\n",
       "    \n",
       "    .. versionchanged:: 7.3\n",
       "        User variables are no longer expanded,\n",
       "        the magic line is always left unmodified.\n",
       "    \n",
       "    Examples\n",
       "    --------\n",
       "    ::\n",
       "    \n",
       "      In [1]: %timeit pass\n",
       "      8.26 ns ± 0.12 ns per loop (mean ± std. dev. of 7 runs, 100000000 loops each)\n",
       "    \n",
       "      In [2]: u = None\n",
       "    \n",
       "      In [3]: %timeit u is None\n",
       "      29.9 ns ± 0.643 ns per loop (mean ± std. dev. of 7 runs, 10000000 loops each)\n",
       "    \n",
       "      In [4]: %timeit -r 4 u == None\n",
       "    \n",
       "      In [5]: import time\n",
       "    \n",
       "      In [6]: %timeit -n1 time.sleep(2)\n",
       "    \n",
       "    \n",
       "    The times reported by %timeit will be slightly higher than those\n",
       "    reported by the timeit.py script when variables are accessed. This is\n",
       "    due to the fact that %timeit executes the statement in the namespace\n",
       "    of the shell, compared with timeit.py, which uses a single setup\n",
       "    statement to import function or create variables. Generally, the bias\n",
       "    does not matter as long as results from timeit.py are not mixed with\n",
       "    those from %timeit.\n",
       "%unalias:\n",
       "    Remove an alias\n",
       "%unload_ext:\n",
       "    Unload an IPython extension by its module name.\n",
       "    \n",
       "    Not all extensions can be unloaded, only those which define an\n",
       "    ``unload_ipython_extension`` function.\n",
       "%who:\n",
       "    Print all interactive variables, with some minimal formatting.\n",
       "    \n",
       "    If any arguments are given, only variables whose type matches one of\n",
       "    these are printed.  For example::\n",
       "    \n",
       "      %who function str\n",
       "    \n",
       "    will only list functions and strings, excluding all other types of\n",
       "    variables.  To find the proper type names, simply use type(var) at a\n",
       "    command line to see how python prints type names.  For example:\n",
       "    \n",
       "    ::\n",
       "    \n",
       "      In [1]: type('hello')\n",
       "      Out[1]: <type 'str'>\n",
       "    \n",
       "    indicates that the type name for strings is 'str'.\n",
       "    \n",
       "    ``%who`` always excludes executed names loaded through your configuration\n",
       "    file and things which are internal to IPython.\n",
       "    \n",
       "    This is deliberate, as typically you may load many modules and the\n",
       "    purpose of %who is to show you only what you've manually defined.\n",
       "    \n",
       "    Examples\n",
       "    --------\n",
       "    \n",
       "    Define two variables and list them with who::\n",
       "    \n",
       "      In [1]: alpha = 123\n",
       "    \n",
       "      In [2]: beta = 'test'\n",
       "    \n",
       "      In [3]: %who\n",
       "      alpha   beta\n",
       "    \n",
       "      In [4]: %who int\n",
       "      alpha\n",
       "    \n",
       "      In [5]: %who str\n",
       "      beta\n",
       "%who_ls:\n",
       "    Return a sorted list of all interactive variables.\n",
       "    \n",
       "    If arguments are given, only variables of types matching these\n",
       "    arguments are returned.\n",
       "    \n",
       "    Examples\n",
       "    --------\n",
       "    \n",
       "    Define two variables and list them with who_ls::\n",
       "    \n",
       "      In [1]: alpha = 123\n",
       "    \n",
       "      In [2]: beta = 'test'\n",
       "    \n",
       "      In [3]: %who_ls\n",
       "      Out[3]: ['alpha', 'beta']\n",
       "    \n",
       "      In [4]: %who_ls int\n",
       "      Out[4]: ['alpha']\n",
       "    \n",
       "      In [5]: %who_ls str\n",
       "      Out[5]: ['beta']\n",
       "%whos:\n",
       "    Like %who, but gives some extra information about each variable.\n",
       "    \n",
       "    The same type filtering of %who can be applied here.\n",
       "    \n",
       "    For all variables, the type is printed. Additionally it prints:\n",
       "    \n",
       "      - For {},[],(): their length.\n",
       "    \n",
       "      - For numpy arrays, a summary with shape, number of\n",
       "        elements, typecode and size in memory.\n",
       "    \n",
       "      - Everything else: a string representation, snipping their middle if\n",
       "        too long.\n",
       "    \n",
       "    Examples\n",
       "    --------\n",
       "    \n",
       "    Define two variables and list them with whos::\n",
       "    \n",
       "      In [1]: alpha = 123\n",
       "    \n",
       "      In [2]: beta = 'test'\n",
       "    \n",
       "      In [3]: %whos\n",
       "      Variable   Type        Data/Info\n",
       "      --------------------------------\n",
       "      alpha      int         123\n",
       "      beta       str         test\n",
       "%xdel:\n",
       "    Delete a variable, trying to clear it from anywhere that\n",
       "    IPython's machinery has references to it. By default, this uses\n",
       "    the identity of the named object in the user namespace to remove\n",
       "    references held under other names. The object is also removed\n",
       "    from the output history.\n",
       "    \n",
       "    Options\n",
       "      -n : Delete the specified name from all namespaces, without\n",
       "      checking their identity.\n",
       "%xmode:\n",
       "    Switch modes for the exception handlers.\n",
       "    \n",
       "    Valid modes: Plain, Context, Verbose, and Minimal.\n",
       "    \n",
       "    If called without arguments, acts as a toggle.\n",
       "    \n",
       "    When in verbose mode the value --show (and --hide) \n",
       "    will respectively show (or hide) frames with ``__tracebackhide__ =\n",
       "    True`` value set.\n",
       "%%!:\n",
       "    Shell execute - run shell command and capture output (!! is short-hand).\n",
       "    \n",
       "    %sx command\n",
       "    \n",
       "    IPython will run the given command using commands.getoutput(), and\n",
       "    return the result formatted as a list (split on '\\n').  Since the\n",
       "    output is _returned_, it will be stored in ipython's regular output\n",
       "    cache Out[N] and in the '_N' automatic variables.\n",
       "    \n",
       "    Notes:\n",
       "    \n",
       "    1) If an input line begins with '!!', then %sx is automatically\n",
       "    invoked.  That is, while::\n",
       "    \n",
       "      !ls\n",
       "    \n",
       "    causes ipython to simply issue system('ls'), typing::\n",
       "    \n",
       "      !!ls\n",
       "    \n",
       "    is a shorthand equivalent to::\n",
       "    \n",
       "      %sx ls\n",
       "    \n",
       "    2) %sx differs from %sc in that %sx automatically splits into a list,\n",
       "    like '%sc -l'.  The reason for this is to make it as easy as possible\n",
       "    to process line-oriented shell output via further python commands.\n",
       "    %sc is meant to provide much finer control, but requires more\n",
       "    typing.\n",
       "    \n",
       "    3) Just like %sc -l, this is a list with special attributes:\n",
       "    ::\n",
       "    \n",
       "      .l (or .list) : value as list.\n",
       "      .n (or .nlstr): value as newline-separated string.\n",
       "      .s (or .spstr): value as whitespace-separated string.\n",
       "    \n",
       "    This is very useful when trying to use such lists as arguments to\n",
       "    system commands.\n",
       "%%HTML:\n",
       "    Alias for `%%html`.\n",
       "%%SVG:\n",
       "    Alias for `%%svg`.\n",
       "%%bash:\n",
       "    %%bash script magic\n",
       "    \n",
       "    Run cells with bash in a subprocess.\n",
       "    \n",
       "    This is a shortcut for `%%script bash`\n",
       "%%capture:\n",
       "    ::\n",
       "    \n",
       "      %capture [--no-stderr] [--no-stdout] [--no-display] [output]\n",
       "    \n",
       "    run the cell, capturing stdout, stderr, and IPython's rich display() calls.\n",
       "    \n",
       "    positional arguments:\n",
       "      output        The name of the variable in which to store output. This is a utils.io.CapturedIO object with\n",
       "                    stdout/err attributes for the text of the captured output. CapturedOutput also has a show() method for\n",
       "                    displaying the output, and __call__ as well, so you can use that to quickly display the output. If\n",
       "                    unspecified, captured output is discarded.\n",
       "    \n",
       "    optional arguments:\n",
       "      --no-stderr   Don't capture stderr.\n",
       "      --no-stdout   Don't capture stdout.\n",
       "      --no-display  Don't capture IPython's rich display.\n",
       "%%cmd:\n",
       "    %%cmd script magic\n",
       "    \n",
       "    Run cells with cmd in a subprocess.\n",
       "    \n",
       "    This is a shortcut for `%%script cmd`\n",
       "%%debug:\n",
       "    ::\n",
       "    \n",
       "      %debug [--breakpoint FILE:LINE] [statement [statement ...]]\n",
       "    \n",
       "    Activate the interactive debugger.\n",
       "    \n",
       "    This magic command support two ways of activating debugger.\n",
       "    One is to activate debugger before executing code.  This way, you\n",
       "    can set a break point, to step through the code from the point.\n",
       "    You can use this mode by giving statements to execute and optionally\n",
       "    a breakpoint.\n",
       "    \n",
       "    The other one is to activate debugger in post-mortem mode.  You can\n",
       "    activate this mode simply running %debug without any argument.\n",
       "    If an exception has just occurred, this lets you inspect its stack\n",
       "    frames interactively.  Note that this will always work only on the last\n",
       "    traceback that occurred, so you must call this quickly after an\n",
       "    exception that you wish to inspect has fired, because if another one\n",
       "    occurs, it clobbers the previous one.\n",
       "    \n",
       "    If you want IPython to automatically do this on every exception, see\n",
       "    the %pdb magic for more details.\n",
       "    \n",
       "    .. versionchanged:: 7.3\n",
       "        When running code, user variables are no longer expanded,\n",
       "        the magic line is always left unmodified.\n",
       "    \n",
       "    positional arguments:\n",
       "      statement             Code to run in debugger. You can omit this in cell magic mode.\n",
       "    \n",
       "    optional arguments:\n",
       "      --breakpoint <FILE:LINE>, -b <FILE:LINE>\n",
       "                            Set break point at LINE in FILE.\n",
       "%%file:\n",
       "    Alias for `%%writefile`.\n",
       "%%html:\n",
       "    ::\n",
       "    \n",
       "      %html [--isolated]\n",
       "    \n",
       "    Render the cell as a block of HTML\n",
       "    \n",
       "    optional arguments:\n",
       "      --isolated  Annotate the cell as 'isolated'. Isolated cells are rendered inside their own <iframe> tag\n",
       "%%javascript:\n",
       "    Run the cell block of Javascript code\n",
       "%%js:\n",
       "    Run the cell block of Javascript code\n",
       "    \n",
       "    Alias of `%%javascript`\n",
       "%%latex:\n",
       "    Render the cell as a block of latex\n",
       "    \n",
       "    The subset of latex which is support depends on the implementation in\n",
       "    the client.  In the Jupyter Notebook, this magic only renders the subset\n",
       "    of latex defined by MathJax\n",
       "    [here](https://docs.mathjax.org/en/v2.5-latest/tex.html).\n",
       "%%markdown:\n",
       "    Render the cell as Markdown text block\n",
       "%%perl:\n",
       "    %%perl script magic\n",
       "    \n",
       "    Run cells with perl in a subprocess.\n",
       "    \n",
       "    This is a shortcut for `%%script perl`\n",
       "%%prun:\n",
       "    Run a statement through the python code profiler.\n",
       "    \n",
       "    Usage, in line mode:\n",
       "      %prun [options] statement\n",
       "    \n",
       "    Usage, in cell mode:\n",
       "      %%prun [options] [statement]\n",
       "      code...\n",
       "      code...\n",
       "    \n",
       "    In cell mode, the additional code lines are appended to the (possibly\n",
       "    empty) statement in the first line.  Cell mode allows you to easily\n",
       "    profile multiline blocks without having to put them in a separate\n",
       "    function.\n",
       "    \n",
       "    The given statement (which doesn't require quote marks) is run via the\n",
       "    python profiler in a manner similar to the profile.run() function.\n",
       "    Namespaces are internally managed to work correctly; profile.run\n",
       "    cannot be used in IPython because it makes certain assumptions about\n",
       "    namespaces which do not hold under IPython.\n",
       "    \n",
       "    Options:\n",
       "    \n",
       "    -l <limit>\n",
       "      you can place restrictions on what or how much of the\n",
       "      profile gets printed. The limit value can be:\n",
       "    \n",
       "         * A string: only information for function names containing this string\n",
       "           is printed.\n",
       "    \n",
       "         * An integer: only these many lines are printed.\n",
       "    \n",
       "         * A float (between 0 and 1): this fraction of the report is printed\n",
       "           (for example, use a limit of 0.4 to see the topmost 40% only).\n",
       "    \n",
       "      You can combine several limits with repeated use of the option. For\n",
       "      example, ``-l __init__ -l 5`` will print only the topmost 5 lines of\n",
       "      information about class constructors.\n",
       "    \n",
       "    -r\n",
       "      return the pstats.Stats object generated by the profiling. This\n",
       "      object has all the information about the profile in it, and you can\n",
       "      later use it for further analysis or in other functions.\n",
       "    \n",
       "    -s <key>\n",
       "      sort profile by given key. You can provide more than one key\n",
       "      by using the option several times: '-s key1 -s key2 -s key3...'. The\n",
       "      default sorting key is 'time'.\n",
       "    \n",
       "      The following is copied verbatim from the profile documentation\n",
       "      referenced below:\n",
       "    \n",
       "      When more than one key is provided, additional keys are used as\n",
       "      secondary criteria when the there is equality in all keys selected\n",
       "      before them.\n",
       "    \n",
       "      Abbreviations can be used for any key names, as long as the\n",
       "      abbreviation is unambiguous.  The following are the keys currently\n",
       "      defined:\n",
       "    \n",
       "      ============  =====================\n",
       "      Valid Arg     Meaning\n",
       "      ============  =====================\n",
       "      \"calls\"       call count\n",
       "      \"cumulative\"  cumulative time\n",
       "      \"file\"        file name\n",
       "      \"module\"      file name\n",
       "      \"pcalls\"      primitive call count\n",
       "      \"line\"        line number\n",
       "      \"name\"        function name\n",
       "      \"nfl\"         name/file/line\n",
       "      \"stdname\"     standard name\n",
       "      \"time\"        internal time\n",
       "      ============  =====================\n",
       "    \n",
       "      Note that all sorts on statistics are in descending order (placing\n",
       "      most time consuming items first), where as name, file, and line number\n",
       "      searches are in ascending order (i.e., alphabetical). The subtle\n",
       "      distinction between \"nfl\" and \"stdname\" is that the standard name is a\n",
       "      sort of the name as printed, which means that the embedded line\n",
       "      numbers get compared in an odd way.  For example, lines 3, 20, and 40\n",
       "      would (if the file names were the same) appear in the string order\n",
       "      \"20\" \"3\" and \"40\".  In contrast, \"nfl\" does a numeric compare of the\n",
       "      line numbers.  In fact, sort_stats(\"nfl\") is the same as\n",
       "      sort_stats(\"name\", \"file\", \"line\").\n",
       "    \n",
       "    -T <filename>\n",
       "      save profile results as shown on screen to a text\n",
       "      file. The profile is still shown on screen.\n",
       "    \n",
       "    -D <filename>\n",
       "      save (via dump_stats) profile statistics to given\n",
       "      filename. This data is in a format understood by the pstats module, and\n",
       "      is generated by a call to the dump_stats() method of profile\n",
       "      objects. The profile is still shown on screen.\n",
       "    \n",
       "    -q\n",
       "      suppress output to the pager.  Best used with -T and/or -D above.\n",
       "    \n",
       "    If you want to run complete programs under the profiler's control, use\n",
       "    ``%run -p [prof_opts] filename.py [args to program]`` where prof_opts\n",
       "    contains profiler specific options as described here.\n",
       "    \n",
       "    You can read the complete documentation for the profile module with::\n",
       "    \n",
       "      In [1]: import profile; profile.help()\n",
       "    \n",
       "    .. versionchanged:: 7.3\n",
       "        User variables are no longer expanded,\n",
       "        the magic line is always left unmodified.\n",
       "%%pypy:\n",
       "    %%pypy script magic\n",
       "    \n",
       "    Run cells with pypy in a subprocess.\n",
       "    \n",
       "    This is a shortcut for `%%script pypy`\n",
       "%%python:\n",
       "    %%python script magic\n",
       "    \n",
       "    Run cells with python in a subprocess.\n",
       "    \n",
       "    This is a shortcut for `%%script python`\n",
       "%%python2:\n",
       "    %%python2 script magic\n",
       "    \n",
       "    Run cells with python2 in a subprocess.\n",
       "    \n",
       "    This is a shortcut for `%%script python2`\n",
       "%%python3:\n",
       "    %%python3 script magic\n",
       "    \n",
       "    Run cells with python3 in a subprocess.\n",
       "    \n",
       "    This is a shortcut for `%%script python3`\n",
       "%%ruby:\n",
       "    %%ruby script magic\n",
       "    \n",
       "    Run cells with ruby in a subprocess.\n",
       "    \n",
       "    This is a shortcut for `%%script ruby`\n",
       "%%script:\n",
       "    ::\n",
       "    \n",
       "      %shebang [--no-raise-error] [--proc PROC] [--bg] [--err ERR] [--out OUT]\n",
       "    \n",
       "    Run a cell via a shell command\n",
       "    \n",
       "    The `%%script` line is like the #! line of script,\n",
       "    specifying a program (bash, perl, ruby, etc.) with which to run.\n",
       "    \n",
       "    The rest of the cell is run by that program.\n",
       "    \n",
       "    Examples\n",
       "    --------\n",
       "    ::\n",
       "    \n",
       "        In [1]: %%script bash\n",
       "           ...: for i in 1 2 3; do\n",
       "           ...:   echo $i\n",
       "           ...: done\n",
       "        1\n",
       "        2\n",
       "        3\n",
       "    \n",
       "    optional arguments:\n",
       "      --no-raise-error  Whether you should raise an error message in addition to a stream on stderr if you get a nonzero\n",
       "                        exit code.\n",
       "      --proc PROC       The variable in which to store Popen instance. This is used only when --bg option is given.\n",
       "      --bg              Whether to run the script in the background. If given, the only way to see the output of the\n",
       "                        command is with --out/err.\n",
       "      --err ERR         The variable in which to store stderr from the script. If the script is backgrounded, this will be\n",
       "                        the stderr *pipe*, instead of the stderr text itself and will not be autoclosed.\n",
       "      --out OUT         The variable in which to store stdout from the script. If the script is backgrounded, this will be\n",
       "                        the stdout *pipe*, instead of the stderr text itself and will not be auto closed.\n",
       "%%sh:\n",
       "    %%sh script magic\n",
       "    \n",
       "    Run cells with sh in a subprocess.\n",
       "    \n",
       "    This is a shortcut for `%%script sh`\n",
       "%%svg:\n",
       "    Render the cell as an SVG literal\n",
       "%%sx:\n",
       "    Shell execute - run shell command and capture output (!! is short-hand).\n",
       "    \n",
       "    %sx command\n",
       "    \n",
       "    IPython will run the given command using commands.getoutput(), and\n",
       "    return the result formatted as a list (split on '\\n').  Since the\n",
       "    output is _returned_, it will be stored in ipython's regular output\n",
       "    cache Out[N] and in the '_N' automatic variables.\n",
       "    \n",
       "    Notes:\n",
       "    \n",
       "    1) If an input line begins with '!!', then %sx is automatically\n",
       "    invoked.  That is, while::\n",
       "    \n",
       "      !ls\n",
       "    \n",
       "    causes ipython to simply issue system('ls'), typing::\n",
       "    \n",
       "      !!ls\n",
       "    \n",
       "    is a shorthand equivalent to::\n",
       "    \n",
       "      %sx ls\n",
       "    \n",
       "    2) %sx differs from %sc in that %sx automatically splits into a list,\n",
       "    like '%sc -l'.  The reason for this is to make it as easy as possible\n",
       "    to process line-oriented shell output via further python commands.\n",
       "    %sc is meant to provide much finer control, but requires more\n",
       "    typing.\n",
       "    \n",
       "    3) Just like %sc -l, this is a list with special attributes:\n",
       "    ::\n",
       "    \n",
       "      .l (or .list) : value as list.\n",
       "      .n (or .nlstr): value as newline-separated string.\n",
       "      .s (or .spstr): value as whitespace-separated string.\n",
       "    \n",
       "    This is very useful when trying to use such lists as arguments to\n",
       "    system commands.\n",
       "%%system:\n",
       "    Shell execute - run shell command and capture output (!! is short-hand).\n",
       "    \n",
       "    %sx command\n",
       "    \n",
       "    IPython will run the given command using commands.getoutput(), and\n",
       "    return the result formatted as a list (split on '\\n').  Since the\n",
       "    output is _returned_, it will be stored in ipython's regular output\n",
       "    cache Out[N] and in the '_N' automatic variables.\n",
       "    \n",
       "    Notes:\n",
       "    \n",
       "    1) If an input line begins with '!!', then %sx is automatically\n",
       "    invoked.  That is, while::\n",
       "    \n",
       "      !ls\n",
       "    \n",
       "    causes ipython to simply issue system('ls'), typing::\n",
       "    \n",
       "      !!ls\n",
       "    \n",
       "    is a shorthand equivalent to::\n",
       "    \n",
       "      %sx ls\n",
       "    \n",
       "    2) %sx differs from %sc in that %sx automatically splits into a list,\n",
       "    like '%sc -l'.  The reason for this is to make it as easy as possible\n",
       "    to process line-oriented shell output via further python commands.\n",
       "    %sc is meant to provide much finer control, but requires more\n",
       "    typing.\n",
       "    \n",
       "    3) Just like %sc -l, this is a list with special attributes:\n",
       "    ::\n",
       "    \n",
       "      .l (or .list) : value as list.\n",
       "      .n (or .nlstr): value as newline-separated string.\n",
       "      .s (or .spstr): value as whitespace-separated string.\n",
       "    \n",
       "    This is very useful when trying to use such lists as arguments to\n",
       "    system commands.\n",
       "%%time:\n",
       "    Time execution of a Python statement or expression.\n",
       "    \n",
       "    The CPU and wall clock times are printed, and the value of the\n",
       "    expression (if any) is returned.  Note that under Win32, system time\n",
       "    is always reported as 0, since it can not be measured.\n",
       "    \n",
       "    This function can be used both as a line and cell magic:\n",
       "    \n",
       "    - In line mode you can time a single-line statement (though multiple\n",
       "      ones can be chained with using semicolons).\n",
       "    \n",
       "    - In cell mode, you can time the cell body (a directly\n",
       "      following statement raises an error).\n",
       "    \n",
       "    This function provides very basic timing functionality.  Use the timeit\n",
       "    magic for more control over the measurement.\n",
       "    \n",
       "    .. versionchanged:: 7.3\n",
       "        User variables are no longer expanded,\n",
       "        the magic line is always left unmodified.\n",
       "    \n",
       "    Examples\n",
       "    --------\n",
       "    ::\n",
       "    \n",
       "      In [1]: %time 2**128\n",
       "      CPU times: user 0.00 s, sys: 0.00 s, total: 0.00 s\n",
       "      Wall time: 0.00\n",
       "      Out[1]: 340282366920938463463374607431768211456L\n",
       "    \n",
       "      In [2]: n = 1000000\n",
       "    \n",
       "      In [3]: %time sum(range(n))\n",
       "      CPU times: user 1.20 s, sys: 0.05 s, total: 1.25 s\n",
       "      Wall time: 1.37\n",
       "      Out[3]: 499999500000L\n",
       "    \n",
       "      In [4]: %time print 'hello world'\n",
       "      hello world\n",
       "      CPU times: user 0.00 s, sys: 0.00 s, total: 0.00 s\n",
       "      Wall time: 0.00\n",
       "    \n",
       "      Note that the time needed by Python to compile the given expression\n",
       "      will be reported if it is more than 0.1s.  In this example, the\n",
       "      actual exponentiation is done by Python at compilation time, so while\n",
       "      the expression can take a noticeable amount of time to compute, that\n",
       "      time is purely due to the compilation:\n",
       "    \n",
       "      In [5]: %time 3**9999;\n",
       "      CPU times: user 0.00 s, sys: 0.00 s, total: 0.00 s\n",
       "      Wall time: 0.00 s\n",
       "    \n",
       "      In [6]: %time 3**999999;\n",
       "      CPU times: user 0.00 s, sys: 0.00 s, total: 0.00 s\n",
       "      Wall time: 0.00 s\n",
       "      Compiler : 0.78 s\n",
       "%%timeit:\n",
       "    Time execution of a Python statement or expression\n",
       "    \n",
       "    Usage, in line mode:\n",
       "      %timeit [-n<N> -r<R> [-t|-c] -q -p<P> -o] statement\n",
       "    or in cell mode:\n",
       "      %%timeit [-n<N> -r<R> [-t|-c] -q -p<P> -o] setup_code\n",
       "      code\n",
       "      code...\n",
       "    \n",
       "    Time execution of a Python statement or expression using the timeit\n",
       "    module.  This function can be used both as a line and cell magic:\n",
       "    \n",
       "    - In line mode you can time a single-line statement (though multiple\n",
       "      ones can be chained with using semicolons).\n",
       "    \n",
       "    - In cell mode, the statement in the first line is used as setup code\n",
       "      (executed but not timed) and the body of the cell is timed.  The cell\n",
       "      body has access to any variables created in the setup code.\n",
       "    \n",
       "    Options:\n",
       "    -n<N>: execute the given statement <N> times in a loop. If <N> is not\n",
       "    provided, <N> is determined so as to get sufficient accuracy.\n",
       "    \n",
       "    -r<R>: number of repeats <R>, each consisting of <N> loops, and take the\n",
       "    best result.\n",
       "    Default: 7\n",
       "    \n",
       "    -t: use time.time to measure the time, which is the default on Unix.\n",
       "    This function measures wall time.\n",
       "    \n",
       "    -c: use time.clock to measure the time, which is the default on\n",
       "    Windows and measures wall time. On Unix, resource.getrusage is used\n",
       "    instead and returns the CPU user time.\n",
       "    \n",
       "    -p<P>: use a precision of <P> digits to display the timing result.\n",
       "    Default: 3\n",
       "    \n",
       "    -q: Quiet, do not print result.\n",
       "    \n",
       "    -o: return a TimeitResult that can be stored in a variable to inspect\n",
       "        the result in more details.\n",
       "    \n",
       "    .. versionchanged:: 7.3\n",
       "        User variables are no longer expanded,\n",
       "        the magic line is always left unmodified.\n",
       "    \n",
       "    Examples\n",
       "    --------\n",
       "    ::\n",
       "    \n",
       "      In [1]: %timeit pass\n",
       "      8.26 ns ± 0.12 ns per loop (mean ± std. dev. of 7 runs, 100000000 loops each)\n",
       "    \n",
       "      In [2]: u = None\n",
       "    \n",
       "      In [3]: %timeit u is None\n",
       "      29.9 ns ± 0.643 ns per loop (mean ± std. dev. of 7 runs, 10000000 loops each)\n",
       "    \n",
       "      In [4]: %timeit -r 4 u == None\n",
       "    \n",
       "      In [5]: import time\n",
       "    \n",
       "      In [6]: %timeit -n1 time.sleep(2)\n",
       "    \n",
       "    \n",
       "    The times reported by %timeit will be slightly higher than those\n",
       "    reported by the timeit.py script when variables are accessed. This is\n",
       "    due to the fact that %timeit executes the statement in the namespace\n",
       "    of the shell, compared with timeit.py, which uses a single setup\n",
       "    statement to import function or create variables. Generally, the bias\n",
       "    does not matter as long as results from timeit.py are not mixed with\n",
       "    those from %timeit.\n",
       "%%writefile:\n",
       "    ::\n",
       "    \n",
       "      %writefile [-a] filename\n",
       "    \n",
       "    Write the contents of the cell to a file.\n",
       "    \n",
       "    The file will be overwritten unless the -a (--append) flag is specified.\n",
       "    \n",
       "    positional arguments:\n",
       "      filename      file to write\n",
       "    \n",
       "    optional arguments:\n",
       "      -a, --append  Append contents of the cell to an existing file. The file will be created if it does not exist.\n",
       "\n",
       "Summary of magic functions (from %lsmagic):\n",
       "Available line magics:\n",
       "%alias  %alias_magic  %autoawait  %autocall  %automagic  %autosave  %bookmark  %cd  %clear  %cls  %colors  %conda  %config  %connect_info  %copy  %ddir  %debug  %dhist  %dirs  %doctest_mode  %echo  %ed  %edit  %env  %gui  %hist  %history  %killbgscripts  %ldir  %less  %load  %load_ext  %loadpy  %logoff  %logon  %logstart  %logstate  %logstop  %ls  %lsmagic  %macro  %magic  %matplotlib  %mkdir  %more  %notebook  %page  %pastebin  %pdb  %pdef  %pdoc  %pfile  %pinfo  %pinfo2  %pip  %popd  %pprint  %precision  %prun  %psearch  %psource  %pushd  %pwd  %pycat  %pylab  %qtconsole  %quickref  %recall  %rehashx  %reload_ext  %ren  %rep  %rerun  %reset  %reset_selective  %rmdir  %run  %save  %sc  %set_env  %store  %sx  %system  %tb  %time  %timeit  %unalias  %unload_ext  %who  %who_ls  %whos  %xdel  %xmode\n",
       "\n",
       "Available cell magics:\n",
       "%%!  %%HTML  %%SVG  %%bash  %%capture  %%cmd  %%debug  %%file  %%html  %%javascript  %%js  %%latex  %%markdown  %%perl  %%prun  %%pypy  %%python  %%python2  %%python3  %%ruby  %%script  %%sh  %%svg  %%sx  %%system  %%time  %%timeit  %%writefile\n",
       "\n",
       "Automagic is ON, % prefix IS NOT needed for line magics."
      ]
     },
     "metadata": {},
     "output_type": "display_data"
    }
   ],
   "source": [
    "%magic"
   ]
  },
  {
   "cell_type": "code",
   "execution_count": 31,
   "metadata": {
    "collapsed": true,
    "jupyter": {
     "outputs_hidden": true
    }
   },
   "outputs": [
    {
     "data": {
      "text/plain": [
       "\u001b[1;31mDocstring:\u001b[0m\n",
       "Time execution of a Python statement or expression\n",
       "\n",
       "Usage, in line mode:\n",
       "  %timeit [-n<N> -r<R> [-t|-c] -q -p<P> -o] statement\n",
       "or in cell mode:\n",
       "  %%timeit [-n<N> -r<R> [-t|-c] -q -p<P> -o] setup_code\n",
       "  code\n",
       "  code...\n",
       "\n",
       "Time execution of a Python statement or expression using the timeit\n",
       "module.  This function can be used both as a line and cell magic:\n",
       "\n",
       "- In line mode you can time a single-line statement (though multiple\n",
       "  ones can be chained with using semicolons).\n",
       "\n",
       "- In cell mode, the statement in the first line is used as setup code\n",
       "  (executed but not timed) and the body of the cell is timed.  The cell\n",
       "  body has access to any variables created in the setup code.\n",
       "\n",
       "Options:\n",
       "-n<N>: execute the given statement <N> times in a loop. If <N> is not\n",
       "provided, <N> is determined so as to get sufficient accuracy.\n",
       "\n",
       "-r<R>: number of repeats <R>, each consisting of <N> loops, and take the\n",
       "best result.\n",
       "Default: 7\n",
       "\n",
       "-t: use time.time to measure the time, which is the default on Unix.\n",
       "This function measures wall time.\n",
       "\n",
       "-c: use time.clock to measure the time, which is the default on\n",
       "Windows and measures wall time. On Unix, resource.getrusage is used\n",
       "instead and returns the CPU user time.\n",
       "\n",
       "-p<P>: use a precision of <P> digits to display the timing result.\n",
       "Default: 3\n",
       "\n",
       "-q: Quiet, do not print result.\n",
       "\n",
       "-o: return a TimeitResult that can be stored in a variable to inspect\n",
       "    the result in more details.\n",
       "\n",
       ".. versionchanged:: 7.3\n",
       "    User variables are no longer expanded,\n",
       "    the magic line is always left unmodified.\n",
       "\n",
       "Examples\n",
       "--------\n",
       "::\n",
       "\n",
       "  In [1]: %timeit pass\n",
       "  8.26 ns ± 0.12 ns per loop (mean ± std. dev. of 7 runs, 100000000 loops each)\n",
       "\n",
       "  In [2]: u = None\n",
       "\n",
       "  In [3]: %timeit u is None\n",
       "  29.9 ns ± 0.643 ns per loop (mean ± std. dev. of 7 runs, 10000000 loops each)\n",
       "\n",
       "  In [4]: %timeit -r 4 u == None\n",
       "\n",
       "  In [5]: import time\n",
       "\n",
       "  In [6]: %timeit -n1 time.sleep(2)\n",
       "\n",
       "\n",
       "The times reported by %timeit will be slightly higher than those\n",
       "reported by the timeit.py script when variables are accessed. This is\n",
       "due to the fact that %timeit executes the statement in the namespace\n",
       "of the shell, compared with timeit.py, which uses a single setup\n",
       "statement to import function or create variables. Generally, the bias\n",
       "does not matter as long as results from timeit.py are not mixed with\n",
       "those from %timeit.\n",
       "\u001b[1;31mFile:\u001b[0m      c:\\users\\kpiat\\anaconda3\\envs\\course1-env\\lib\\site-packages\\ipython\\core\\magics\\execution.py\n"
      ]
     },
     "metadata": {},
     "output_type": "display_data"
    }
   ],
   "source": [
    "#get info on magics using ?\n",
    "%timeit?"
   ]
  },
  {
   "cell_type": "markdown",
   "metadata": {},
   "source": [
    "## Input and Output History"
   ]
  },
  {
   "cell_type": "code",
   "execution_count": 32,
   "metadata": {
    "collapsed": true,
    "jupyter": {
     "outputs_hidden": true
    }
   },
   "outputs": [
    {
     "name": "stdout",
     "output_type": "stream",
     "text": [
      "['', \"#import data file\\ndf = pd.read_csv('Demographic_Data.csv')\\ndf.head()\", 'import pandas as pd\\nimport numpy as np\\nimport matplotlib.pyplot as plt\\nimport seaborn as sns', \"#import data file\\ndf = pd.read_csv('Demographic_Data.csv')\\ndf.head()\", '#use ? to bring up documentation for Python commands', \"#use ? to bring up documentation for Python commands\\nget_ipython().run_line_magic('pinfo', 'df.shape')\", 'df.shape()?', \"#use ?? to bring up source code\\nget_ipython().run_line_magic('pinfo2', 'df.shape')\", \"#use TAB to bring up list of available functions when you don't know\\ndf.shift\", \"get_ipython().run_line_magic('pinfo', 'df.shift')\", \"#you can also use TAB with wildcard operator if you only know the ending\\nget_ipython().run_line_magic('psearch', '*Warning')\", \"get_ipython().run_line_magic('psearch', 'str.*find*')\", \"get_ipython().run_line_magic('history', '')\", \"#to bring up a list of all commands you have previously executed in the nb, along with your comments\\nget_ipython().run_line_magic('history', '')\", '#if you get an error when trying to run code copied and pasted from, e.g. the internet \\ndef donothing(x):\\n    return x', \"#if you get an error when trying to run code copied and pasted from, e.g. the internet \\nget_ipython().run_line_magic('paste', '')\\n>>> def donothing(x):\\n...     return x\", \"#if you get an error when trying to run code copied and pasted from, e.g. the internet \\nget_ipython().run_line_magic('', 'paste')\\n>>> def donothing(x):\\n...     return x\", \"#if you get an error when trying to run code copied and pasted from, e.g. the internet \\nget_ipython().run_line_magic('%paste', '')\\n>>> def donothing(x):\\n...     return x\", \"#to execute canned script from saved py file\\nget_ipython().run_line_magic('run', 'myscript_test.py')\", \"get_ipython().run_line_magic('pinfo', '%run')\", \"#timeit magic to determine execution time of a single line\\nget_ipython().run_line_magic('timeit', 'L = [n ** 2 for n in range(1000)]')\", \"#use %% for multi-line commands, this makes it a cell magic\\nget_ipython().run_line_magic('%', 'timeit')\\nprof = ProfileReport(df, minimal=True)\\nprof.to_file(output_file='output_minimal.html')\", \"#use %% for multi-line commands, this makes it a cell magic\\nget_ipython().run_line_magic('%timeit', '')\\nprof = ProfileReport(df, minimal=True)\\nprof.to_file(output_file='output_minimal.html')\", \"#use %% for multi-line commands, this makes it a cell magic\\nget_ipython().run_line_magic('%timeit', '')\\nL = []\\nfor n in range(1000):\\n    L.append(n **2)\", \"get_ipython().run_cell_magic('writefile', 'hellojupyter.py #writes contents of cell to separate file', 'x=10\\\\ny=20\\\\nz= x=y\\\\n')\", \"#writes contents of cell to separate file\\nget_ipython().run_line_magic('%writefile', 'hellojupyter.py')\\nx=10\\ny=20\\nz= x=y\", \"get_ipython().run_cell_magic('writefile', 'hellojupyter.py', 'x=10\\\\ny=20\\\\nz= x=y\\\\n')\", \"get_ipython().run_cell_magic('writefile', 'hellojupyter.py', '#writes contents of cell to separate file\\\\nx=10\\\\ny=20\\\\nz= x=y\\\\n')\", \"get_ipython().run_line_magic('lsmagic', '')\", \"get_ipython().run_cell_magic('timeit', '', 'L = []\\\\nfor n in range(1000):\\\\n    L.append(n **2)\\\\n')\", \"get_ipython().run_line_magic('magic', '')\", \"#get info on magics using ?\\nget_ipython().run_line_magic('pinfo', '%timeit')\", '#to output a list of all the input commands in your nb\\nprint(In)']\n"
     ]
    }
   ],
   "source": [
    "#to output a list of all the input commands in your nb\n",
    "print(In)"
   ]
  },
  {
   "cell_type": "code",
   "execution_count": 33,
   "metadata": {
    "collapsed": true,
    "jupyter": {
     "outputs_hidden": true
    }
   },
   "outputs": [
    {
     "data": {
      "text/plain": [
       "{3:    in-store  age  items   amount  region\n",
       " 0         0   37      4   281.03       2\n",
       " 1         0   35      2   219.51       2\n",
       " 2         1   45      3  1525.70       4\n",
       " 3         1   46      3   715.25       3\n",
       " 4         1   33      4  1937.50       1,\n",
       " 8: <bound method DataFrame.shift of        in-store  age  items   amount  region\n",
       " 0             0   37      4   281.03       2\n",
       " 1             0   35      2   219.51       2\n",
       " 2             1   45      3  1525.70       4\n",
       " 3             1   46      3   715.25       3\n",
       " 4             1   33      4  1937.50       1\n",
       " ...         ...  ...    ...      ...     ...\n",
       " 79995         1   71      3   558.82       1\n",
       " 79996         0   59      7  1932.00       3\n",
       " 79997         0   54      1   414.16       2\n",
       " 79998         1   49      4   335.32       1\n",
       " 79999         1   30      1   527.12       3\n",
       " \n",
       " [80000 rows x 5 columns]>,\n",
       " 28: Available line magics:\n",
       "%alias  %alias_magic  %autoawait  %autocall  %automagic  %autosave  %bookmark  %cd  %clear  %cls  %colors  %conda  %config  %connect_info  %copy  %ddir  %debug  %dhist  %dirs  %doctest_mode  %echo  %ed  %edit  %env  %gui  %hist  %history  %killbgscripts  %ldir  %less  %load  %load_ext  %loadpy  %logoff  %logon  %logstart  %logstate  %logstop  %ls  %lsmagic  %macro  %magic  %matplotlib  %mkdir  %more  %notebook  %page  %pastebin  %pdb  %pdef  %pdoc  %pfile  %pinfo  %pinfo2  %pip  %popd  %pprint  %precision  %prun  %psearch  %psource  %pushd  %pwd  %pycat  %pylab  %qtconsole  %quickref  %recall  %rehashx  %reload_ext  %ren  %rep  %rerun  %reset  %reset_selective  %rmdir  %run  %save  %sc  %set_env  %store  %sx  %system  %tb  %time  %timeit  %unalias  %unload_ext  %who  %who_ls  %whos  %xdel  %xmode\n",
       "\n",
       "Available cell magics:\n",
       "%%!  %%HTML  %%SVG  %%bash  %%capture  %%cmd  %%debug  %%file  %%html  %%javascript  %%js  %%latex  %%markdown  %%perl  %%prun  %%pypy  %%python  %%python2  %%python3  %%ruby  %%script  %%sh  %%svg  %%sx  %%system  %%time  %%timeit  %%writefile\n",
       "\n",
       "Automagic is ON, % prefix IS NOT needed for line magics.}"
      ]
     },
     "execution_count": 33,
     "metadata": {},
     "output_type": "execute_result"
    }
   ],
   "source": [
    "Out"
   ]
  },
  {
   "cell_type": "code",
   "execution_count": 34,
   "metadata": {},
   "outputs": [
    {
     "name": "stdout",
     "output_type": "stream",
     "text": [
      "   in-store  age  items   amount  region\n",
      "0         0   37      4   281.03       2\n",
      "1         0   35      2   219.51       2\n",
      "2         1   45      3  1525.70       4\n",
      "3         1   46      3   715.25       3\n",
      "4         1   33      4  1937.50       1\n"
     ]
    }
   ],
   "source": [
    "print(Out[3])"
   ]
  },
  {
   "cell_type": "markdown",
   "metadata": {},
   "source": [
    "### Use Previous Outputs in Commands"
   ]
  },
  {
   "cell_type": "code",
   "execution_count": 35,
   "metadata": {},
   "outputs": [],
   "source": [
    "#you can use Out[x] to interact with previous outputs\n",
    "import math"
   ]
  },
  {
   "cell_type": "code",
   "execution_count": 36,
   "metadata": {},
   "outputs": [
    {
     "data": {
      "text/plain": [
       "0.9092974268256817"
      ]
     },
     "execution_count": 36,
     "metadata": {},
     "output_type": "execute_result"
    }
   ],
   "source": [
    "math.sin(2)"
   ]
  },
  {
   "cell_type": "code",
   "execution_count": 37,
   "metadata": {},
   "outputs": [
    {
     "data": {
      "text/plain": [
       "-0.4161468365471424"
      ]
     },
     "execution_count": 37,
     "metadata": {},
     "output_type": "execute_result"
    }
   ],
   "source": [
    "math.cos(2)"
   ]
  },
  {
   "cell_type": "code",
   "execution_count": 38,
   "metadata": {},
   "outputs": [
    {
     "data": {
      "text/plain": [
       "1.0"
      ]
     },
     "execution_count": 38,
     "metadata": {},
     "output_type": "execute_result"
    }
   ],
   "source": [
    "Out[36]**2 + Out[37]**2"
   ]
  },
  {
   "cell_type": "code",
   "execution_count": 39,
   "metadata": {},
   "outputs": [
    {
     "name": "stdout",
     "output_type": "stream",
     "text": [
      "1.0\n"
     ]
    }
   ],
   "source": [
    "#you can also access previous output using _\n",
    "print(_)"
   ]
  },
  {
   "cell_type": "markdown",
   "metadata": {},
   "source": [
    "## Debugging "
   ]
  },
  {
   "cell_type": "code",
   "execution_count": 40,
   "metadata": {},
   "outputs": [],
   "source": [
    "#just sample code to throw an error in next line\n",
    "def func1(a, b):\n",
    "    return a / bjj\n",
    "\n",
    "def func2(x):\n",
    "    a = x\n",
    "    b = x - 1\n",
    "    return func1(a, b)j"
   ]
  },
  {
   "cell_type": "code",
   "execution_count": 41,
   "metadata": {},
   "outputs": [
    {
     "ename": "ZeroDivisionError",
     "evalue": "division by zero",
     "output_type": "error",
     "traceback": [
      "\u001b[1;31m---------------------------------------------------------------------------\u001b[0m",
      "\u001b[1;31mZeroDivisionError\u001b[0m                         Traceback (most recent call last)",
      "\u001b[1;32m<ipython-input-41-7cb498ea7ed1>\u001b[0m in \u001b[0;36m<module>\u001b[1;34m\u001b[0m\n\u001b[1;32m----> 1\u001b[1;33m \u001b[0mfunc2\u001b[0m\u001b[1;33m(\u001b[0m\u001b[1;36m1\u001b[0m\u001b[1;33m)\u001b[0m\u001b[1;33m\u001b[0m\u001b[1;33m\u001b[0m\u001b[0m\n\u001b[0m",
      "\u001b[1;32m<ipython-input-40-586ccabd0db3>\u001b[0m in \u001b[0;36mfunc2\u001b[1;34m(x)\u001b[0m\n\u001b[0;32m      5\u001b[0m     \u001b[0ma\u001b[0m \u001b[1;33m=\u001b[0m \u001b[0mx\u001b[0m\u001b[1;33m\u001b[0m\u001b[1;33m\u001b[0m\u001b[0m\n\u001b[0;32m      6\u001b[0m     \u001b[0mb\u001b[0m \u001b[1;33m=\u001b[0m \u001b[0mx\u001b[0m \u001b[1;33m-\u001b[0m \u001b[1;36m1\u001b[0m\u001b[1;33m\u001b[0m\u001b[1;33m\u001b[0m\u001b[0m\n\u001b[1;32m----> 7\u001b[1;33m     \u001b[1;32mreturn\u001b[0m \u001b[0mfunc1\u001b[0m\u001b[1;33m(\u001b[0m\u001b[0ma\u001b[0m\u001b[1;33m,\u001b[0m \u001b[0mb\u001b[0m\u001b[1;33m)\u001b[0m\u001b[1;33m\u001b[0m\u001b[1;33m\u001b[0m\u001b[0m\n\u001b[0m",
      "\u001b[1;32m<ipython-input-40-586ccabd0db3>\u001b[0m in \u001b[0;36mfunc1\u001b[1;34m(a, b)\u001b[0m\n\u001b[0;32m      1\u001b[0m \u001b[1;32mdef\u001b[0m \u001b[0mfunc1\u001b[0m\u001b[1;33m(\u001b[0m\u001b[0ma\u001b[0m\u001b[1;33m,\u001b[0m \u001b[0mb\u001b[0m\u001b[1;33m)\u001b[0m\u001b[1;33m:\u001b[0m\u001b[1;33m\u001b[0m\u001b[1;33m\u001b[0m\u001b[0m\n\u001b[1;32m----> 2\u001b[1;33m     \u001b[1;32mreturn\u001b[0m \u001b[0ma\u001b[0m \u001b[1;33m/\u001b[0m \u001b[0mb\u001b[0m\u001b[1;33m\u001b[0m\u001b[1;33m\u001b[0m\u001b[0m\n\u001b[0m\u001b[0;32m      3\u001b[0m \u001b[1;33m\u001b[0m\u001b[0m\n\u001b[0;32m      4\u001b[0m \u001b[1;32mdef\u001b[0m \u001b[0mfunc2\u001b[0m\u001b[1;33m(\u001b[0m\u001b[0mx\u001b[0m\u001b[1;33m)\u001b[0m\u001b[1;33m:\u001b[0m\u001b[1;33m\u001b[0m\u001b[1;33m\u001b[0m\u001b[0m\n\u001b[0;32m      5\u001b[0m     \u001b[0ma\u001b[0m \u001b[1;33m=\u001b[0m \u001b[0mx\u001b[0m\u001b[1;33m\u001b[0m\u001b[1;33m\u001b[0m\u001b[0m\n",
      "\u001b[1;31mZeroDivisionError\u001b[0m: division by zero"
     ]
    }
   ],
   "source": [
    "func2(1)"
   ]
  },
  {
   "cell_type": "code",
   "execution_count": 42,
   "metadata": {},
   "outputs": [
    {
     "name": "stdout",
     "output_type": "stream",
     "text": [
      "> \u001b[1;32m<ipython-input-40-586ccabd0db3>\u001b[0m(2)\u001b[0;36mfunc1\u001b[1;34m()\u001b[0m\n",
      "\u001b[1;32m      1 \u001b[1;33m\u001b[1;32mdef\u001b[0m \u001b[0mfunc1\u001b[0m\u001b[1;33m(\u001b[0m\u001b[0ma\u001b[0m\u001b[1;33m,\u001b[0m \u001b[0mb\u001b[0m\u001b[1;33m)\u001b[0m\u001b[1;33m:\u001b[0m\u001b[1;33m\u001b[0m\u001b[1;33m\u001b[0m\u001b[0m\n",
      "\u001b[0m\u001b[1;32m----> 2 \u001b[1;33m    \u001b[1;32mreturn\u001b[0m \u001b[0ma\u001b[0m \u001b[1;33m/\u001b[0m \u001b[0mb\u001b[0m\u001b[1;33m\u001b[0m\u001b[1;33m\u001b[0m\u001b[0m\n",
      "\u001b[0m\u001b[1;32m      3 \u001b[1;33m\u001b[1;33m\u001b[0m\u001b[0m\n",
      "\u001b[0m\u001b[1;32m      4 \u001b[1;33m\u001b[1;32mdef\u001b[0m \u001b[0mfunc2\u001b[0m\u001b[1;33m(\u001b[0m\u001b[0mx\u001b[0m\u001b[1;33m)\u001b[0m\u001b[1;33m:\u001b[0m\u001b[1;33m\u001b[0m\u001b[1;33m\u001b[0m\u001b[0m\n",
      "\u001b[0m\u001b[1;32m      5 \u001b[1;33m    \u001b[0ma\u001b[0m \u001b[1;33m=\u001b[0m \u001b[0mx\u001b[0m\u001b[1;33m\u001b[0m\u001b[1;33m\u001b[0m\u001b[0m\n",
      "\u001b[0m\n"
     ]
    },
    {
     "name": "stdin",
     "output_type": "stream",
     "text": [
      "ipdb>  print(a)\n"
     ]
    },
    {
     "name": "stdout",
     "output_type": "stream",
     "text": [
      "1\n"
     ]
    },
    {
     "name": "stdin",
     "output_type": "stream",
     "text": [
      "ipdb>  print(b)\n"
     ]
    },
    {
     "name": "stdout",
     "output_type": "stream",
     "text": [
      "0\n"
     ]
    },
    {
     "name": "stdin",
     "output_type": "stream",
     "text": [
      "ipdb>  quit\n"
     ]
    }
   ],
   "source": [
    "%debug"
   ]
  },
  {
   "cell_type": "code",
   "execution_count": 43,
   "metadata": {},
   "outputs": [
    {
     "name": "stdout",
     "output_type": "stream",
     "text": [
      "> \u001b[1;32m<ipython-input-40-586ccabd0db3>\u001b[0m(2)\u001b[0;36mfunc1\u001b[1;34m()\u001b[0m\n",
      "\u001b[1;32m      1 \u001b[1;33m\u001b[1;32mdef\u001b[0m \u001b[0mfunc1\u001b[0m\u001b[1;33m(\u001b[0m\u001b[0ma\u001b[0m\u001b[1;33m,\u001b[0m \u001b[0mb\u001b[0m\u001b[1;33m)\u001b[0m\u001b[1;33m:\u001b[0m\u001b[1;33m\u001b[0m\u001b[1;33m\u001b[0m\u001b[0m\n",
      "\u001b[0m\u001b[1;32m----> 2 \u001b[1;33m    \u001b[1;32mreturn\u001b[0m \u001b[0ma\u001b[0m \u001b[1;33m/\u001b[0m \u001b[0mb\u001b[0m\u001b[1;33m\u001b[0m\u001b[1;33m\u001b[0m\u001b[0m\n",
      "\u001b[0m\u001b[1;32m      3 \u001b[1;33m\u001b[1;33m\u001b[0m\u001b[0m\n",
      "\u001b[0m\u001b[1;32m      4 \u001b[1;33m\u001b[1;32mdef\u001b[0m \u001b[0mfunc2\u001b[0m\u001b[1;33m(\u001b[0m\u001b[0mx\u001b[0m\u001b[1;33m)\u001b[0m\u001b[1;33m:\u001b[0m\u001b[1;33m\u001b[0m\u001b[1;33m\u001b[0m\u001b[0m\n",
      "\u001b[0m\u001b[1;32m      5 \u001b[1;33m    \u001b[0ma\u001b[0m \u001b[1;33m=\u001b[0m \u001b[0mx\u001b[0m\u001b[1;33m\u001b[0m\u001b[1;33m\u001b[0m\u001b[0m\n",
      "\u001b[0m\n"
     ]
    },
    {
     "name": "stdin",
     "output_type": "stream",
     "text": [
      "ipdb>  up\n"
     ]
    },
    {
     "name": "stdout",
     "output_type": "stream",
     "text": [
      "> \u001b[1;32m<ipython-input-40-586ccabd0db3>\u001b[0m(7)\u001b[0;36mfunc2\u001b[1;34m()\u001b[0m\n",
      "\u001b[1;32m      3 \u001b[1;33m\u001b[1;33m\u001b[0m\u001b[0m\n",
      "\u001b[0m\u001b[1;32m      4 \u001b[1;33m\u001b[1;32mdef\u001b[0m \u001b[0mfunc2\u001b[0m\u001b[1;33m(\u001b[0m\u001b[0mx\u001b[0m\u001b[1;33m)\u001b[0m\u001b[1;33m:\u001b[0m\u001b[1;33m\u001b[0m\u001b[1;33m\u001b[0m\u001b[0m\n",
      "\u001b[0m\u001b[1;32m      5 \u001b[1;33m    \u001b[0ma\u001b[0m \u001b[1;33m=\u001b[0m \u001b[0mx\u001b[0m\u001b[1;33m\u001b[0m\u001b[1;33m\u001b[0m\u001b[0m\n",
      "\u001b[0m\u001b[1;32m      6 \u001b[1;33m    \u001b[0mb\u001b[0m \u001b[1;33m=\u001b[0m \u001b[0mx\u001b[0m \u001b[1;33m-\u001b[0m \u001b[1;36m1\u001b[0m\u001b[1;33m\u001b[0m\u001b[1;33m\u001b[0m\u001b[0m\n",
      "\u001b[0m\u001b[1;32m----> 7 \u001b[1;33m    \u001b[1;32mreturn\u001b[0m \u001b[0mfunc1\u001b[0m\u001b[1;33m(\u001b[0m\u001b[0ma\u001b[0m\u001b[1;33m,\u001b[0m \u001b[0mb\u001b[0m\u001b[1;33m)\u001b[0m\u001b[1;33m\u001b[0m\u001b[1;33m\u001b[0m\u001b[0m\n",
      "\u001b[0m\n"
     ]
    },
    {
     "name": "stdin",
     "output_type": "stream",
     "text": [
      "ipdb>  print(x)\n"
     ]
    },
    {
     "name": "stdout",
     "output_type": "stream",
     "text": [
      "1\n"
     ]
    },
    {
     "name": "stdin",
     "output_type": "stream",
     "text": [
      "ipdb>  up\n"
     ]
    },
    {
     "name": "stdout",
     "output_type": "stream",
     "text": [
      "> \u001b[1;32m<ipython-input-41-7cb498ea7ed1>\u001b[0m(1)\u001b[0;36m<module>\u001b[1;34m()\u001b[0m\n",
      "\u001b[1;32m----> 1 \u001b[1;33m\u001b[0mfunc2\u001b[0m\u001b[1;33m(\u001b[0m\u001b[1;36m1\u001b[0m\u001b[1;33m)\u001b[0m\u001b[1;33m\u001b[0m\u001b[1;33m\u001b[0m\u001b[0m\n",
      "\u001b[0m\n"
     ]
    },
    {
     "name": "stdin",
     "output_type": "stream",
     "text": [
      "ipdb>  down\n"
     ]
    },
    {
     "name": "stdout",
     "output_type": "stream",
     "text": [
      "> \u001b[1;32m<ipython-input-40-586ccabd0db3>\u001b[0m(7)\u001b[0;36mfunc2\u001b[1;34m()\u001b[0m\n",
      "\u001b[1;32m      3 \u001b[1;33m\u001b[1;33m\u001b[0m\u001b[0m\n",
      "\u001b[0m\u001b[1;32m      4 \u001b[1;33m\u001b[1;32mdef\u001b[0m \u001b[0mfunc2\u001b[0m\u001b[1;33m(\u001b[0m\u001b[0mx\u001b[0m\u001b[1;33m)\u001b[0m\u001b[1;33m:\u001b[0m\u001b[1;33m\u001b[0m\u001b[1;33m\u001b[0m\u001b[0m\n",
      "\u001b[0m\u001b[1;32m      5 \u001b[1;33m    \u001b[0ma\u001b[0m \u001b[1;33m=\u001b[0m \u001b[0mx\u001b[0m\u001b[1;33m\u001b[0m\u001b[1;33m\u001b[0m\u001b[0m\n",
      "\u001b[0m\u001b[1;32m      6 \u001b[1;33m    \u001b[0mb\u001b[0m \u001b[1;33m=\u001b[0m \u001b[0mx\u001b[0m \u001b[1;33m-\u001b[0m \u001b[1;36m1\u001b[0m\u001b[1;33m\u001b[0m\u001b[1;33m\u001b[0m\u001b[0m\n",
      "\u001b[0m\u001b[1;32m----> 7 \u001b[1;33m    \u001b[1;32mreturn\u001b[0m \u001b[0mfunc1\u001b[0m\u001b[1;33m(\u001b[0m\u001b[0ma\u001b[0m\u001b[1;33m,\u001b[0m \u001b[0mb\u001b[0m\u001b[1;33m)\u001b[0m\u001b[1;33m\u001b[0m\u001b[1;33m\u001b[0m\u001b[0m\n",
      "\u001b[0m\n"
     ]
    },
    {
     "name": "stdin",
     "output_type": "stream",
     "text": [
      "ipdb>  quit\n"
     ]
    }
   ],
   "source": [
    "%debug"
   ]
  },
  {
   "cell_type": "code",
   "execution_count": 44,
   "metadata": {},
   "outputs": [
    {
     "name": "stdout",
     "output_type": "stream",
     "text": [
      "Automatic pdb calling has been turned ON\n"
     ]
    }
   ],
   "source": [
    "#you can turn on the function to automatically start the debugger when an excpetion is raised\n",
    "%pdb"
   ]
  },
  {
   "cell_type": "code",
   "execution_count": 47,
   "metadata": {},
   "outputs": [
    {
     "name": "stdout",
     "output_type": "stream",
     "text": [
      "Exception reporting mode: Plain\n"
     ]
    }
   ],
   "source": [
    "#to change how much information exception/error messages produce\n",
    "#by default the mode is set to Context, you can also use Verbose \n",
    "%xmode Plain    "
   ]
  },
  {
   "cell_type": "code",
   "execution_count": 48,
   "metadata": {},
   "outputs": [
    {
     "ename": "ZeroDivisionError",
     "evalue": "division by zero",
     "output_type": "error",
     "traceback": [
      "Traceback \u001b[1;36m(most recent call last)\u001b[0m:\n",
      "  File \u001b[0;32m\"<ipython-input-48-7cb498ea7ed1>\"\u001b[0m, line \u001b[0;32m1\u001b[0m, in \u001b[0;35m<module>\u001b[0m\n    func2(1)\n",
      "  File \u001b[0;32m\"<ipython-input-40-586ccabd0db3>\"\u001b[0m, line \u001b[0;32m7\u001b[0m, in \u001b[0;35mfunc2\u001b[0m\n    return func1(a, b)\n",
      "\u001b[1;36m  File \u001b[1;32m\"<ipython-input-40-586ccabd0db3>\"\u001b[1;36m, line \u001b[1;32m2\u001b[1;36m, in \u001b[1;35mfunc1\u001b[1;36m\u001b[0m\n\u001b[1;33m    return a / b\u001b[0m\n",
      "\u001b[1;31mZeroDivisionError\u001b[0m\u001b[1;31m:\u001b[0m division by zero\n"
     ]
    },
    {
     "name": "stdout",
     "output_type": "stream",
     "text": [
      "> \u001b[1;32m<ipython-input-40-586ccabd0db3>\u001b[0m(2)\u001b[0;36mfunc1\u001b[1;34m()\u001b[0m\n",
      "\u001b[1;32m      1 \u001b[1;33m\u001b[1;32mdef\u001b[0m \u001b[0mfunc1\u001b[0m\u001b[1;33m(\u001b[0m\u001b[0ma\u001b[0m\u001b[1;33m,\u001b[0m \u001b[0mb\u001b[0m\u001b[1;33m)\u001b[0m\u001b[1;33m:\u001b[0m\u001b[1;33m\u001b[0m\u001b[1;33m\u001b[0m\u001b[0m\n",
      "\u001b[0m\u001b[1;32m----> 2 \u001b[1;33m    \u001b[1;32mreturn\u001b[0m \u001b[0ma\u001b[0m \u001b[1;33m/\u001b[0m \u001b[0mb\u001b[0m\u001b[1;33m\u001b[0m\u001b[1;33m\u001b[0m\u001b[0m\n",
      "\u001b[0m\u001b[1;32m      3 \u001b[1;33m\u001b[1;33m\u001b[0m\u001b[0m\n",
      "\u001b[0m\u001b[1;32m      4 \u001b[1;33m\u001b[1;32mdef\u001b[0m \u001b[0mfunc2\u001b[0m\u001b[1;33m(\u001b[0m\u001b[0mx\u001b[0m\u001b[1;33m)\u001b[0m\u001b[1;33m:\u001b[0m\u001b[1;33m\u001b[0m\u001b[1;33m\u001b[0m\u001b[0m\n",
      "\u001b[0m\u001b[1;32m      5 \u001b[1;33m    \u001b[0ma\u001b[0m \u001b[1;33m=\u001b[0m \u001b[0mx\u001b[0m\u001b[1;33m\u001b[0m\u001b[1;33m\u001b[0m\u001b[0m\n",
      "\u001b[0m\n"
     ]
    },
    {
     "name": "stdin",
     "output_type": "stream",
     "text": [
      "ipdb>  list\n"
     ]
    },
    {
     "name": "stdout",
     "output_type": "stream",
     "text": [
      "\u001b[0;32m      1 \u001b[0m\u001b[1;32mdef\u001b[0m \u001b[0mfunc1\u001b[0m\u001b[1;33m(\u001b[0m\u001b[0ma\u001b[0m\u001b[1;33m,\u001b[0m \u001b[0mb\u001b[0m\u001b[1;33m)\u001b[0m\u001b[1;33m:\u001b[0m\u001b[1;33m\u001b[0m\u001b[1;33m\u001b[0m\u001b[0m\n",
      "\u001b[1;32m----> 2 \u001b[1;33m    \u001b[1;32mreturn\u001b[0m \u001b[0ma\u001b[0m \u001b[1;33m/\u001b[0m \u001b[0mb\u001b[0m\u001b[1;33m\u001b[0m\u001b[1;33m\u001b[0m\u001b[0m\n",
      "\u001b[0m\u001b[0;32m      3 \u001b[0m\u001b[1;33m\u001b[0m\u001b[0m\n",
      "\u001b[0;32m      4 \u001b[0m\u001b[1;32mdef\u001b[0m \u001b[0mfunc2\u001b[0m\u001b[1;33m(\u001b[0m\u001b[0mx\u001b[0m\u001b[1;33m)\u001b[0m\u001b[1;33m:\u001b[0m\u001b[1;33m\u001b[0m\u001b[1;33m\u001b[0m\u001b[0m\n",
      "\u001b[0;32m      5 \u001b[0m    \u001b[0ma\u001b[0m \u001b[1;33m=\u001b[0m \u001b[0mx\u001b[0m\u001b[1;33m\u001b[0m\u001b[1;33m\u001b[0m\u001b[0m\n",
      "\u001b[0;32m      6 \u001b[0m    \u001b[0mb\u001b[0m \u001b[1;33m=\u001b[0m \u001b[0mx\u001b[0m \u001b[1;33m-\u001b[0m \u001b[1;36m1\u001b[0m\u001b[1;33m\u001b[0m\u001b[1;33m\u001b[0m\u001b[0m\n",
      "\u001b[0;32m      7 \u001b[0m    \u001b[1;32mreturn\u001b[0m \u001b[0mfunc1\u001b[0m\u001b[1;33m(\u001b[0m\u001b[0ma\u001b[0m\u001b[1;33m,\u001b[0m \u001b[0mb\u001b[0m\u001b[1;33m)\u001b[0m\u001b[1;33m\u001b[0m\u001b[1;33m\u001b[0m\u001b[0m\n",
      "\n"
     ]
    },
    {
     "name": "stdin",
     "output_type": "stream",
     "text": [
      "ipdb>  help\n"
     ]
    },
    {
     "name": "stdout",
     "output_type": "stream",
     "text": [
      "\n",
      "Documented commands (type help <topic>):\n",
      "========================================\n",
      "EOF    cl         disable  interact  next    psource  rv           undisplay\n",
      "a      clear      display  j         p       q        s            unt      \n",
      "alias  commands   down     jump      pdef    quit     skip_hidden  until    \n",
      "args   condition  enable   l         pdoc    r        source       up       \n",
      "b      cont       exit     list      pfile   restart  step         w        \n",
      "break  continue   h        ll        pinfo   return   tbreak       whatis   \n",
      "bt     d          help     longlist  pinfo2  retval   u            where    \n",
      "c      debug      ignore   n         pp      run      unalias    \n",
      "\n",
      "Miscellaneous help topics:\n",
      "==========================\n",
      "exec  pdb\n",
      "\n"
     ]
    },
    {
     "name": "stdin",
     "output_type": "stream",
     "text": [
      "ipdb>  q\n"
     ]
    }
   ],
   "source": [
    "func2(1)"
   ]
  },
  {
   "cell_type": "markdown",
   "metadata": {},
   "source": [
    "## Check Performance Metics on Code "
   ]
  },
  {
   "cell_type": "code",
   "execution_count": 49,
   "metadata": {},
   "outputs": [],
   "source": [
    "def sum_of_lists(N):\n",
    "    total = 0\n",
    "    for i in range(5):\n",
    "        L = [j ^ (j >> i) for j in range(N)]\n",
    "        total += sum(L)\n",
    "    return total"
   ]
  },
  {
   "cell_type": "code",
   "execution_count": 50,
   "metadata": {},
   "outputs": [
    {
     "name": "stdout",
     "output_type": "stream",
     "text": [
      " "
     ]
    },
    {
     "data": {
      "text/plain": [
       "         14 function calls in 0.001 seconds\n",
       "\n",
       "   Ordered by: internal time\n",
       "\n",
       "   ncalls  tottime  percall  cumtime  percall filename:lineno(function)\n",
       "        5    0.001    0.000    0.001    0.000 <ipython-input-49-f105717832a2>:4(<listcomp>)\n",
       "        5    0.000    0.000    0.000    0.000 {built-in method builtins.sum}\n",
       "        1    0.000    0.000    0.001    0.001 {built-in method builtins.exec}\n",
       "        1    0.000    0.000    0.001    0.001 <ipython-input-49-f105717832a2>:1(sum_of_lists)\n",
       "        1    0.000    0.000    0.001    0.001 <string>:1(<module>)\n",
       "        1    0.000    0.000    0.000    0.000 {method 'disable' of '_lsprof.Profiler' objects}"
      ]
     },
     "metadata": {},
     "output_type": "display_data"
    }
   ],
   "source": [
    "%prun sum_of_lists(1000)"
   ]
  },
  {
   "cell_type": "markdown",
   "metadata": {},
   "source": [
    "*Notes*\n",
    "* you can profile the memory use of running code by:\n",
    "    * installing memory_profilier\n",
    "    * loading the profiler extension ```%load_ext memory_profilier```\n",
    "    * using the %memit magic \n",
    "    \n",
    "* there are also line-by-line versions of the %prun and %memit magics\n",
    "    "
   ]
  },
  {
   "cell_type": "markdown",
   "metadata": {},
   "source": [
    "# Numpy "
   ]
  },
  {
   "cell_type": "code",
   "execution_count": 51,
   "metadata": {},
   "outputs": [],
   "source": [
    "import numpy as np"
   ]
  },
  {
   "cell_type": "code",
   "execution_count": 54,
   "metadata": {},
   "outputs": [
    {
     "data": {
      "text/plain": [
       "'1.19.1'"
      ]
     },
     "execution_count": 54,
     "metadata": {},
     "output_type": "execute_result"
    }
   ],
   "source": [
    "#check version of numpy imported\n",
    "np.__version__"
   ]
  },
  {
   "cell_type": "markdown",
   "metadata": {},
   "source": [
    "## Python Lists & Numpy Arrays"
   ]
  },
  {
   "cell_type": "markdown",
   "metadata": {},
   "source": [
    "### Python Integers and Lists "
   ]
  },
  {
   "cell_type": "code",
   "execution_count": 55,
   "metadata": {},
   "outputs": [
    {
     "data": {
      "text/plain": [
       "[0, 1, 2, 3, 4, 5, 6, 7, 8, 9]"
      ]
     },
     "execution_count": 55,
     "metadata": {},
     "output_type": "execute_result"
    }
   ],
   "source": [
    "#in Python integers carry more information than just the integer value\n",
    "L = list(range(10))\n",
    "L"
   ]
  },
  {
   "cell_type": "code",
   "execution_count": 57,
   "metadata": {},
   "outputs": [
    {
     "data": {
      "text/plain": [
       "int"
      ]
     },
     "execution_count": 57,
     "metadata": {},
     "output_type": "execute_result"
    }
   ],
   "source": [
    "#return the type of 0 in L\n",
    "type(L[0])"
   ]
  },
  {
   "cell_type": "code",
   "execution_count": 58,
   "metadata": {},
   "outputs": [
    {
     "data": {
      "text/plain": [
       "['0', '1', '2', '3', '4', '5', '6', '7', '8', '9']"
      ]
     },
     "execution_count": 58,
     "metadata": {},
     "output_type": "execute_result"
    }
   ],
   "source": [
    "L2 = [str(c) for c in L]\n",
    "L2"
   ]
  },
  {
   "cell_type": "code",
   "execution_count": 59,
   "metadata": {},
   "outputs": [
    {
     "data": {
      "text/plain": [
       "str"
      ]
     },
     "execution_count": 59,
     "metadata": {},
     "output_type": "execute_result"
    }
   ],
   "source": [
    "type(L2[0])"
   ]
  },
  {
   "cell_type": "markdown",
   "metadata": {},
   "source": [
    "### Python Lists vs. NumPy Arrays"
   ]
  },
  {
   "cell_type": "code",
   "execution_count": 60,
   "metadata": {},
   "outputs": [
    {
     "data": {
      "text/plain": [
       "[bool, str, float, int]"
      ]
     },
     "execution_count": 60,
     "metadata": {},
     "output_type": "execute_result"
    }
   ],
   "source": [
    "#because python lists are dynamic, we can create heterogeneous lists\n",
    "L3 = [True, '2', 3.0, 4]\n",
    "[type(item) for item in L3]"
   ]
  },
  {
   "cell_type": "code",
   "execution_count": 61,
   "metadata": {},
   "outputs": [],
   "source": [
    "#Numpy arrays, unlike Python lists, are not dynamic types, they are fixed-types\n",
    "#so Numpy arrays are less flexible, but much more efficient"
   ]
  },
  {
   "cell_type": "code",
   "execution_count": 64,
   "metadata": {},
   "outputs": [
    {
     "data": {
      "text/plain": [
       "array([1, 4, 3, 5, 3])"
      ]
     },
     "execution_count": 64,
     "metadata": {},
     "output_type": "execute_result"
    }
   ],
   "source": [
    "#create a numpy array out of a python list\n",
    "np.array([1,4,3,5,3])"
   ]
  },
  {
   "cell_type": "code",
   "execution_count": 65,
   "metadata": {},
   "outputs": [
    {
     "data": {
      "text/plain": [
       "array([1., 4., 2., 5., 3.], dtype=float32)"
      ]
     },
     "execution_count": 65,
     "metadata": {},
     "output_type": "execute_result"
    }
   ],
   "source": [
    "#to explicity set the data type of objects in the array add a dtype argument to the code\n",
    "np.array([1,4,2,5,3], dtype=\"float32\")"
   ]
  },
  {
   "cell_type": "code",
   "execution_count": 66,
   "metadata": {},
   "outputs": [
    {
     "data": {
      "text/plain": [
       "array([[2, 3, 4],\n",
       "       [4, 5, 6],\n",
       "       [6, 7, 8]])"
      ]
     },
     "execution_count": 66,
     "metadata": {},
     "output_type": "execute_result"
    }
   ],
   "source": [
    "#np arrays can be multi-dimensional\n",
    "np.array([range(i, i+3) for i in [2,4,6]])"
   ]
  },
  {
   "cell_type": "markdown",
   "metadata": {},
   "source": [
    "### Creating Arrays from Scratch"
   ]
  },
  {
   "cell_type": "code",
   "execution_count": 67,
   "metadata": {},
   "outputs": [
    {
     "data": {
      "text/plain": [
       "array([0, 0, 0, 0, 0, 0, 0, 0, 0, 0])"
      ]
     },
     "execution_count": 67,
     "metadata": {},
     "output_type": "execute_result"
    }
   ],
   "source": [
    "# Create a length-10 integer array filled with zeros\n",
    "np.zeros(10, dtype=int)"
   ]
  },
  {
   "cell_type": "code",
   "execution_count": 68,
   "metadata": {},
   "outputs": [
    {
     "data": {
      "text/plain": [
       "array([ 0,  2,  4,  6,  8, 10, 12, 14, 16, 18])"
      ]
     },
     "execution_count": 68,
     "metadata": {},
     "output_type": "execute_result"
    }
   ],
   "source": [
    "# Create an array filled with a linear sequence\n",
    "# Starting at 0, ending at 20, stepping by 2\n",
    "# (this is similar to the built-in range() function)\n",
    "np.arange(0, 20, 2)"
   ]
  },
  {
   "cell_type": "code",
   "execution_count": 69,
   "metadata": {},
   "outputs": [
    {
     "data": {
      "text/plain": [
       "array([[0.95852575, 0.76267456, 0.90586662],\n",
       "       [0.75957039, 0.77878687, 0.73211598],\n",
       "       [0.79728514, 0.44235363, 0.27887012]])"
      ]
     },
     "execution_count": 69,
     "metadata": {},
     "output_type": "execute_result"
    }
   ],
   "source": [
    "# Create a 3x3 array of uniformly distributed\n",
    "# random values between 0 and 1\n",
    "np.random.random((3, 3))"
   ]
  },
  {
   "cell_type": "code",
   "execution_count": 70,
   "metadata": {},
   "outputs": [
    {
     "data": {
      "text/plain": [
       "array([[ 0.0473896 , -0.71752586, -1.52411449],\n",
       "       [ 0.33979592, -1.44904432, -1.62209571],\n",
       "       [ 1.52855915,  0.68687744, -0.16819618]])"
      ]
     },
     "execution_count": 70,
     "metadata": {},
     "output_type": "execute_result"
    }
   ],
   "source": [
    "# Create a 3x3 array of normally distributed random values\n",
    "# with mean 0 and standard deviation 1\n",
    "np.random.normal(0, 1, (3, 3))"
   ]
  },
  {
   "cell_type": "code",
   "execution_count": 71,
   "metadata": {},
   "outputs": [
    {
     "data": {
      "text/plain": [
       "array([[5, 3, 9],\n",
       "       [4, 9, 2],\n",
       "       [2, 5, 9]])"
      ]
     },
     "execution_count": 71,
     "metadata": {},
     "output_type": "execute_result"
    }
   ],
   "source": [
    "# Create a 3x3 array of random integers in the interval [0, 10)\n",
    "np.random.randint(0, 10, (3, 3))"
   ]
  },
  {
   "cell_type": "markdown",
   "metadata": {},
   "source": [
    "## Array Attributes"
   ]
  },
  {
   "cell_type": "code",
   "execution_count": 72,
   "metadata": {},
   "outputs": [],
   "source": [
    "np.random.seed(0)  # seed for reproducibility\n",
    "\n",
    "x1 = np.random.randint(10, size=6)  # One-dimensional array\n",
    "x2 = np.random.randint(10, size=(3, 4))  # Two-dimensional array\n",
    "x3 = np.random.randint(10, size=(3, 4, 5))  # Three-dimensional array"
   ]
  },
  {
   "cell_type": "code",
   "execution_count": 73,
   "metadata": {},
   "outputs": [
    {
     "data": {
      "text/plain": [
       "3"
      ]
     },
     "execution_count": 73,
     "metadata": {},
     "output_type": "execute_result"
    }
   ],
   "source": [
    "#to see the number of dimensions in an array\n",
    "x3.ndim"
   ]
  },
  {
   "cell_type": "code",
   "execution_count": 74,
   "metadata": {},
   "outputs": [
    {
     "data": {
      "text/plain": [
       "(3, 4, 5)"
      ]
     },
     "execution_count": 74,
     "metadata": {},
     "output_type": "execute_result"
    }
   ],
   "source": [
    "#to see the shape (i.e. size of each dimension) of an array\n",
    "x3.shape"
   ]
  },
  {
   "cell_type": "code",
   "execution_count": 78,
   "metadata": {},
   "outputs": [
    {
     "data": {
      "text/plain": [
       "\u001b[1;31mType:\u001b[0m        tuple\n",
       "\u001b[1;31mString form:\u001b[0m (3, 4, 5)\n",
       "\u001b[1;31mLength:\u001b[0m      3\n",
       "\u001b[1;31mDocstring:\u001b[0m  \n",
       "Built-in immutable sequence.\n",
       "\n",
       "If no argument is given, the constructor returns an empty tuple.\n",
       "If iterable is specified the tuple is initialized from iterable's items.\n",
       "\n",
       "If the argument is a tuple, the return value is the same object.\n"
      ]
     },
     "metadata": {},
     "output_type": "display_data"
    }
   ],
   "source": [
    "x3.shape??"
   ]
  },
  {
   "cell_type": "code",
   "execution_count": 79,
   "metadata": {},
   "outputs": [],
   "source": [
    "# Create a 3x3 array of normally distributed random values\n",
    "# with mean 0 and standard deviation 1\n",
    "rando = np.random.normal(0, 1, (3, 3))"
   ]
  },
  {
   "cell_type": "code",
   "execution_count": 80,
   "metadata": {},
   "outputs": [
    {
     "data": {
      "text/plain": [
       "(3, 3)"
      ]
     },
     "execution_count": 80,
     "metadata": {},
     "output_type": "execute_result"
    }
   ],
   "source": [
    "rando.shape"
   ]
  },
  {
   "cell_type": "code",
   "execution_count": 76,
   "metadata": {},
   "outputs": [
    {
     "data": {
      "text/plain": [
       "60"
      ]
     },
     "execution_count": 76,
     "metadata": {},
     "output_type": "execute_result"
    }
   ],
   "source": [
    "#to see number of elements in the array\n",
    "x3.size"
   ]
  },
  {
   "cell_type": "code",
   "execution_count": 81,
   "metadata": {},
   "outputs": [
    {
     "data": {
      "text/plain": [
       "4"
      ]
     },
     "execution_count": 81,
     "metadata": {},
     "output_type": "execute_result"
    }
   ],
   "source": [
    "# to see byte size of each item in array\n",
    "x3.itemsize"
   ]
  },
  {
   "cell_type": "markdown",
   "metadata": {},
   "source": [
    "## Working with Arrays "
   ]
  },
  {
   "cell_type": "code",
   "execution_count": 82,
   "metadata": {},
   "outputs": [
    {
     "data": {
      "text/plain": [
       "240"
      ]
     },
     "execution_count": 82,
     "metadata": {},
     "output_type": "execute_result"
    }
   ],
   "source": [
    "# to see byte size of the array\n",
    "x3.nbytes"
   ]
  },
  {
   "cell_type": "markdown",
   "metadata": {},
   "source": [
    "### Indexing"
   ]
  },
  {
   "cell_type": "code",
   "execution_count": 83,
   "metadata": {},
   "outputs": [
    {
     "data": {
      "text/plain": [
       "5"
      ]
     },
     "execution_count": 83,
     "metadata": {},
     "output_type": "execute_result"
    }
   ],
   "source": [
    "#to see the a specific element in an array, you can use it's index\n",
    "x1[0]"
   ]
  },
  {
   "cell_type": "code",
   "execution_count": 88,
   "metadata": {},
   "outputs": [
    {
     "data": {
      "text/plain": [
       "3"
      ]
     },
     "execution_count": 88,
     "metadata": {},
     "output_type": "execute_result"
    }
   ],
   "source": [
    "#in multi-dimensionl array, you have to use it's row and column indices\n",
    "x2[0,0]"
   ]
  },
  {
   "cell_type": "code",
   "execution_count": 89,
   "metadata": {},
   "outputs": [
    {
     "data": {
      "text/plain": [
       "array([[12,  5,  2,  4],\n",
       "       [ 7,  6,  8,  8],\n",
       "       [ 1,  6,  7,  7]])"
      ]
     },
     "execution_count": 89,
     "metadata": {},
     "output_type": "execute_result"
    }
   ],
   "source": [
    "#you can modify an element using index notation\n",
    "x2[0,0]=12\n",
    "x2"
   ]
  },
  {
   "cell_type": "markdown",
   "metadata": {},
   "source": [
    "### Slicing"
   ]
  },
  {
   "cell_type": "code",
   "execution_count": 90,
   "metadata": {},
   "outputs": [
    {
     "data": {
      "text/plain": [
       "array([0, 1, 2, 3, 4, 5, 6, 7, 8, 9])"
      ]
     },
     "execution_count": 90,
     "metadata": {},
     "output_type": "execute_result"
    }
   ],
   "source": [
    "x = np.arange(10)\n",
    "x"
   ]
  },
  {
   "cell_type": "code",
   "execution_count": 91,
   "metadata": {},
   "outputs": [
    {
     "data": {
      "text/plain": [
       "array([0, 1, 2, 3, 4])"
      ]
     },
     "execution_count": 91,
     "metadata": {},
     "output_type": "execute_result"
    }
   ],
   "source": [
    "#to access a slice (or sub-array)\n",
    "x[:5]"
   ]
  },
  {
   "cell_type": "code",
   "execution_count": 92,
   "metadata": {},
   "outputs": [
    {
     "data": {
      "text/plain": [
       "array([4, 5, 6])"
      ]
     },
     "execution_count": 92,
     "metadata": {},
     "output_type": "execute_result"
    }
   ],
   "source": [
    "x[4:7]"
   ]
  },
  {
   "cell_type": "code",
   "execution_count": 93,
   "metadata": {},
   "outputs": [
    {
     "data": {
      "text/plain": [
       "array([1, 3, 5, 7, 9])"
      ]
     },
     "execution_count": 93,
     "metadata": {},
     "output_type": "execute_result"
    }
   ],
   "source": [
    "x[1::2]"
   ]
  },
  {
   "cell_type": "code",
   "execution_count": 94,
   "metadata": {},
   "outputs": [
    {
     "data": {
      "text/plain": [
       "array([[12,  5,  2],\n",
       "       [ 7,  6,  8]])"
      ]
     },
     "execution_count": 94,
     "metadata": {},
     "output_type": "execute_result"
    }
   ],
   "source": [
    "#to access slice of multi-dimensional arrays\n",
    "x2[:2, :3]"
   ]
  },
  {
   "cell_type": "code",
   "execution_count": 95,
   "metadata": {},
   "outputs": [
    {
     "name": "stdout",
     "output_type": "stream",
     "text": [
      "[12  7  1]\n"
     ]
    }
   ],
   "source": [
    "#to access all values in colun 0 of the array\n",
    "print(x2[:, 0])"
   ]
  },
  {
   "cell_type": "code",
   "execution_count": 96,
   "metadata": {},
   "outputs": [],
   "source": [
    "#in above instances we are just viewing a piece of the array. to copy a piece (so it can be modified without changing the underlying array)\n",
    "x2_copy = x2[:2, :2].copy()"
   ]
  },
  {
   "cell_type": "markdown",
   "metadata": {},
   "source": [
    "### Reshaping Arrays"
   ]
  },
  {
   "cell_type": "code",
   "execution_count": 98,
   "metadata": {},
   "outputs": [
    {
     "name": "stdout",
     "output_type": "stream",
     "text": [
      "[[1 2 3]\n",
      " [4 5 6]\n",
      " [7 8 9]]\n"
     ]
    }
   ],
   "source": [
    "#to put numbers 1-9 into a 3x3 grid\n",
    "grid = np.arange(1,10).reshape((3,3))\n",
    "print(grid)"
   ]
  },
  {
   "cell_type": "markdown",
   "metadata": {},
   "source": [
    "### Joining Arrays"
   ]
  },
  {
   "cell_type": "code",
   "execution_count": 99,
   "metadata": {},
   "outputs": [
    {
     "data": {
      "text/plain": [
       "array([1, 2, 3, 3, 2, 1])"
      ]
     },
     "execution_count": 99,
     "metadata": {},
     "output_type": "execute_result"
    }
   ],
   "source": [
    "#to join two arrays\n",
    "x = np.array([1, 2, 3])\n",
    "y = np.array([3, 2, 1])\n",
    "np.concatenate([x, y])"
   ]
  },
  {
   "cell_type": "code",
   "execution_count": 100,
   "metadata": {},
   "outputs": [
    {
     "data": {
      "text/plain": [
       "array([ 1,  2,  3,  3,  2,  1, 99, 99, 99])"
      ]
     },
     "execution_count": 100,
     "metadata": {},
     "output_type": "execute_result"
    }
   ],
   "source": [
    "# you can join three or more arrays as well\n",
    "z = [99,99,99]\n",
    "np.concatenate([x,y,z])"
   ]
  },
  {
   "cell_type": "code",
   "execution_count": 101,
   "metadata": {},
   "outputs": [
    {
     "data": {
      "text/plain": [
       "array([[1, 2, 3],\n",
       "       [4, 5, 6],\n",
       "       [7, 8, 9],\n",
       "       [1, 2, 3],\n",
       "       [4, 5, 6],\n",
       "       [7, 8, 9]])"
      ]
     },
     "execution_count": 101,
     "metadata": {},
     "output_type": "execute_result"
    }
   ],
   "source": [
    "#to join multi-dimensional arrays along the first axis (add additional rows?)\n",
    "np.concatenate([grid,grid])"
   ]
  },
  {
   "cell_type": "code",
   "execution_count": 102,
   "metadata": {},
   "outputs": [
    {
     "data": {
      "text/plain": [
       "array([[1, 2, 3, 1, 2, 3],\n",
       "       [4, 5, 6, 4, 5, 6],\n",
       "       [7, 8, 9, 7, 8, 9]])"
      ]
     },
     "execution_count": 102,
     "metadata": {},
     "output_type": "execute_result"
    }
   ],
   "source": [
    "#to join along the second axis (add additional columns?)\n",
    "np.concatenate([grid, grid], axis=1)"
   ]
  },
  {
   "cell_type": "code",
   "execution_count": 103,
   "metadata": {},
   "outputs": [
    {
     "data": {
      "text/plain": [
       "array([[1, 2, 3],\n",
       "       [9, 8, 7],\n",
       "       [6, 5, 4]])"
      ]
     },
     "execution_count": 103,
     "metadata": {},
     "output_type": "execute_result"
    }
   ],
   "source": [
    "#if joining arrays with different dimensions\n",
    "x = np.array([1, 2, 3])\n",
    "grid = np.array([[9, 8, 7],\n",
    "                 [6, 5, 4]])\n",
    "\n",
    "# vertically stack the arrays\n",
    "np.vstack([x, grid])"
   ]
  },
  {
   "cell_type": "code",
   "execution_count": 104,
   "metadata": {},
   "outputs": [
    {
     "data": {
      "text/plain": [
       "array([[ 9,  8,  7, 99],\n",
       "       [ 6,  5,  4, 99]])"
      ]
     },
     "execution_count": 104,
     "metadata": {},
     "output_type": "execute_result"
    }
   ],
   "source": [
    "# horizontally stack the arrays\n",
    "y = np.array([[99],\n",
    "              [99]])\n",
    "np.hstack([grid, y])"
   ]
  },
  {
   "cell_type": "markdown",
   "metadata": {},
   "source": [
    "### Splitting Arrays"
   ]
  },
  {
   "cell_type": "code",
   "execution_count": 105,
   "metadata": {},
   "outputs": [
    {
     "data": {
      "text/plain": [
       "array([[ 0,  1,  2,  3],\n",
       "       [ 4,  5,  6,  7],\n",
       "       [ 8,  9, 10, 11],\n",
       "       [12, 13, 14, 15]])"
      ]
     },
     "execution_count": 105,
     "metadata": {},
     "output_type": "execute_result"
    }
   ],
   "source": [
    "grid = np.arange(16).reshape((4, 4))\n",
    "grid"
   ]
  },
  {
   "cell_type": "code",
   "execution_count": 106,
   "metadata": {},
   "outputs": [
    {
     "name": "stdout",
     "output_type": "stream",
     "text": [
      "[[0 1 2 3]\n",
      " [4 5 6 7]]\n",
      "[[ 8  9 10 11]\n",
      " [12 13 14 15]]\n"
     ]
    }
   ],
   "source": [
    "upper, lower = np.vsplit(grid, [2])\n",
    "print(upper)\n",
    "print(lower)"
   ]
  },
  {
   "cell_type": "code",
   "execution_count": 107,
   "metadata": {},
   "outputs": [
    {
     "name": "stdout",
     "output_type": "stream",
     "text": [
      "[[ 0  1]\n",
      " [ 4  5]\n",
      " [ 8  9]\n",
      " [12 13]]\n",
      "[[ 2  3]\n",
      " [ 6  7]\n",
      " [10 11]\n",
      " [14 15]]\n"
     ]
    }
   ],
   "source": [
    "left, right = np.hsplit(grid, [2])\n",
    "print(left)\n",
    "print(right)"
   ]
  },
  {
   "cell_type": "code",
   "execution_count": 108,
   "metadata": {},
   "outputs": [
    {
     "ename": "ValueError",
     "evalue": "dsplit only works on arrays of 3 or more dimensions",
     "output_type": "error",
     "traceback": [
      "Traceback \u001b[1;36m(most recent call last)\u001b[0m:\n",
      "  File \u001b[0;32m\"<ipython-input-108-485b47e1890e>\"\u001b[0m, line \u001b[0;32m1\u001b[0m, in \u001b[0;35m<module>\u001b[0m\n    third, axis = np.dsplit(grid, [2])\n",
      "  File \u001b[0;32m\"<__array_function__ internals>\"\u001b[0m, line \u001b[0;32m5\u001b[0m, in \u001b[0;35mdsplit\u001b[0m\n",
      "\u001b[1;36m  File \u001b[1;32m\"C:\\Users\\kpiat\\anaconda3\\envs\\course1-env\\lib\\site-packages\\numpy\\lib\\shape_base.py\"\u001b[1;36m, line \u001b[1;32m1035\u001b[1;36m, in \u001b[1;35mdsplit\u001b[1;36m\u001b[0m\n\u001b[1;33m    raise ValueError('dsplit only works on arrays of 3 or more dimensions')\u001b[0m\n",
      "\u001b[1;31mValueError\u001b[0m\u001b[1;31m:\u001b[0m dsplit only works on arrays of 3 or more dimensions\n"
     ]
    }
   ],
   "source": [
    "third, axis = np.dsplit(grid, [2])\n",
    "print(third)\n",
    "print(axis)"
   ]
  },
  {
   "cell_type": "markdown",
   "metadata": {},
   "source": [
    "## Computation on Arrays"
   ]
  },
  {
   "cell_type": "markdown",
   "metadata": {},
   "source": [
    "### Arithmetic Operations"
   ]
  },
  {
   "cell_type": "code",
   "execution_count": 2,
   "metadata": {},
   "outputs": [
    {
     "name": "stdout",
     "output_type": "stream",
     "text": [
      "x     = [0 1 2 3]\n",
      "x + 5 = [5 6 7 8]\n",
      "x - 5 = [-5 -4 -3 -2]\n",
      "x * 2 = [0 2 4 6]\n",
      "x / 2 = [0.  0.5 1.  1.5]\n",
      "x // 2 = [0 0 1 1]\n"
     ]
    }
   ],
   "source": [
    "#arrays can be added, subtracted, multiplied,etc. \n",
    "x = np.arange(4)\n",
    "print(\"x     =\", x)\n",
    "print(\"x + 5 =\", x + 5)\n",
    "print(\"x - 5 =\", x - 5)\n",
    "print(\"x * 2 =\", x * 2)\n",
    "print(\"x / 2 =\", x / 2)\n",
    "print(\"x // 2 =\", x // 2) "
   ]
  },
  {
   "cell_type": "code",
   "execution_count": 4,
   "metadata": {},
   "outputs": [
    {
     "data": {
      "text/plain": [
       "array([2, 3, 4, 5])"
      ]
     },
     "execution_count": 4,
     "metadata": {},
     "output_type": "execute_result"
    }
   ],
   "source": [
    "#arithmetic operations can also be done using specific numpy functions\n",
    "np.add(x, 2)"
   ]
  },
  {
   "cell_type": "code",
   "execution_count": 5,
   "metadata": {},
   "outputs": [
    {
     "data": {
      "text/plain": [
       "array([2, 1, 0, 1, 2])"
      ]
     },
     "execution_count": 5,
     "metadata": {},
     "output_type": "execute_result"
    }
   ],
   "source": [
    "#to get the absolute value of an array\n",
    "x=np.array([-2,-1,0,1,2])\n",
    "np.absolute(x)"
   ]
  },
  {
   "cell_type": "code",
   "execution_count": 6,
   "metadata": {},
   "outputs": [
    {
     "data": {
      "text/plain": [
       "array([2, 1, 0, 1, 2])"
      ]
     },
     "execution_count": 6,
     "metadata": {},
     "output_type": "execute_result"
    }
   ],
   "source": [
    "#you can also use \n",
    "np.abs(x)"
   ]
  },
  {
   "cell_type": "markdown",
   "metadata": {},
   "source": [
    "### Trigonomic Operations"
   ]
  },
  {
   "cell_type": "code",
   "execution_count": 10,
   "metadata": {},
   "outputs": [
    {
     "name": "stdout",
     "output_type": "stream",
     "text": [
      "theta      =  [0.         1.57079633 3.14159265]\n",
      "sin(theta) =  [0.0000000e+00 1.0000000e+00 1.2246468e-16]\n",
      "cos(theta) =  [ 1.000000e+00  6.123234e-17 -1.000000e+00]\n",
      "tan(theta) =  [ 0.00000000e+00  1.63312394e+16 -1.22464680e-16]\n"
     ]
    }
   ],
   "source": [
    "theta = np.linspace(0, np.pi, 3)\n",
    "\n",
    "print(\"theta      = \", theta)\n",
    "print(\"sin(theta) = \", np.sin(theta))\n",
    "print(\"cos(theta) = \", np.cos(theta))\n",
    "print(\"tan(theta) = \", np.tan(theta))"
   ]
  },
  {
   "cell_type": "code",
   "execution_count": 9,
   "metadata": {},
   "outputs": [
    {
     "name": "stdout",
     "output_type": "stream",
     "text": [
      "Automatic pdb calling has been turned ON\n"
     ]
    }
   ],
   "source": [
    "%pdb"
   ]
  },
  {
   "cell_type": "code",
   "execution_count": 11,
   "metadata": {},
   "outputs": [
    {
     "name": "stdout",
     "output_type": "stream",
     "text": [
      "x         =  [-1, 0, 1]\n",
      "arcsin(x) =  [-1.57079633  0.          1.57079633]\n",
      "arccos(x) =  [3.14159265 1.57079633 0.        ]\n",
      "arctan(x) =  [-0.78539816  0.          0.78539816]\n"
     ]
    }
   ],
   "source": [
    "#for inverse trigonomic functions\n",
    "x = [-1, 0, 1]\n",
    "print(\"x         = \", x)\n",
    "print(\"arcsin(x) = \", np.arcsin(x))\n",
    "print(\"arccos(x) = \", np.arccos(x))\n",
    "print(\"arctan(x) = \", np.arctan(x))"
   ]
  },
  {
   "cell_type": "markdown",
   "metadata": {},
   "source": [
    "### Exponents and Logarithms"
   ]
  },
  {
   "cell_type": "code",
   "execution_count": 12,
   "metadata": {},
   "outputs": [
    {
     "name": "stdout",
     "output_type": "stream",
     "text": [
      "x     = [1, 2, 3]\n",
      "e^x   = [ 2.71828183  7.3890561  20.08553692]\n",
      "2^x   = [2. 4. 8.]\n",
      "3^x   = [ 3  9 27]\n"
     ]
    }
   ],
   "source": [
    "#to get exponents of arrays\n",
    "x = [1, 2, 3]\n",
    "print(\"x     =\", x)\n",
    "print(\"e^x   =\", np.exp(x))\n",
    "print(\"2^x   =\", np.exp2(x))\n",
    "print(\"3^x   =\", np.power(3, x))"
   ]
  },
  {
   "cell_type": "code",
   "execution_count": 13,
   "metadata": {},
   "outputs": [
    {
     "name": "stdout",
     "output_type": "stream",
     "text": [
      "x        = [1, 2, 4, 10]\n",
      "ln(x)    = [0.         0.69314718 1.38629436 2.30258509]\n",
      "log2(x)  = [0.         1.         2.         3.32192809]\n",
      "log10(x) = [0.         0.30103    0.60205999 1.        ]\n"
     ]
    }
   ],
   "source": [
    "#to get the log (i.e. inverse of exponents)\n",
    "x = [1, 2, 4, 10]\n",
    "print(\"x        =\", x)\n",
    "print(\"ln(x)    =\", np.log(x))\n",
    "print(\"log2(x)  =\", np.log2(x))\n",
    "print(\"log10(x) =\", np.log10(x))"
   ]
  },
  {
   "cell_type": "markdown",
   "metadata": {},
   "source": [
    "### Specifying Output"
   ]
  },
  {
   "cell_type": "code",
   "execution_count": 14,
   "metadata": {},
   "outputs": [
    {
     "name": "stdout",
     "output_type": "stream",
     "text": [
      "[ 0. 10. 20. 30. 40.]\n"
     ]
    }
   ],
   "source": [
    "#use out= to specify a var or location to hold the result of calculation\n",
    "x = np.arange(5)\n",
    "y = np.empty(5)\n",
    "np.multiply(x, 10, out=y)\n",
    "print(y)"
   ]
  },
  {
   "cell_type": "code",
   "execution_count": 15,
   "metadata": {},
   "outputs": [
    {
     "name": "stdout",
     "output_type": "stream",
     "text": [
      "[ 1.  0.  2.  0.  4.  0.  8.  0. 16.  0.]\n"
     ]
    }
   ],
   "source": [
    "#to specify how the result is stored\n",
    "y = np.zeros(10)\n",
    "np.power(2, x, out=y[::2])\n",
    "print(y)"
   ]
  },
  {
   "cell_type": "markdown",
   "metadata": {},
   "source": [
    "### Aggregating "
   ]
  },
  {
   "cell_type": "code",
   "execution_count": 18,
   "metadata": {},
   "outputs": [
    {
     "data": {
      "text/plain": [
       "<bound method NDFrame.head of        in-store  age  items   amount  region\n",
       "0             0   37      4   281.03       2\n",
       "1             0   35      2   219.51       2\n",
       "2             1   45      3  1525.70       4\n",
       "3             1   46      3   715.25       3\n",
       "4             1   33      4  1937.50       1\n",
       "...         ...  ...    ...      ...     ...\n",
       "79995         1   71      3   558.82       1\n",
       "79996         0   59      7  1932.00       3\n",
       "79997         0   54      1   414.16       2\n",
       "79998         1   49      4   335.32       1\n",
       "79999         1   30      1   527.12       3\n",
       "\n",
       "[80000 rows x 5 columns]>"
      ]
     },
     "execution_count": 18,
     "metadata": {},
     "output_type": "execute_result"
    }
   ],
   "source": [
    "df.head"
   ]
  },
  {
   "cell_type": "code",
   "execution_count": 19,
   "metadata": {},
   "outputs": [
    {
     "data": {
      "text/html": [
       "<div>\n",
       "<style scoped>\n",
       "    .dataframe tbody tr th:only-of-type {\n",
       "        vertical-align: middle;\n",
       "    }\n",
       "\n",
       "    .dataframe tbody tr th {\n",
       "        vertical-align: top;\n",
       "    }\n",
       "\n",
       "    .dataframe thead th {\n",
       "        text-align: right;\n",
       "    }\n",
       "</style>\n",
       "<table border=\"1\" class=\"dataframe\">\n",
       "  <thead>\n",
       "    <tr style=\"text-align: right;\">\n",
       "      <th></th>\n",
       "      <th>in-store</th>\n",
       "      <th>age</th>\n",
       "      <th>items</th>\n",
       "      <th>amount</th>\n",
       "      <th>region</th>\n",
       "    </tr>\n",
       "  </thead>\n",
       "  <tbody>\n",
       "    <tr>\n",
       "      <th>0</th>\n",
       "      <td>0</td>\n",
       "      <td>37</td>\n",
       "      <td>4</td>\n",
       "      <td>281.03</td>\n",
       "      <td>2</td>\n",
       "    </tr>\n",
       "    <tr>\n",
       "      <th>1</th>\n",
       "      <td>0</td>\n",
       "      <td>35</td>\n",
       "      <td>2</td>\n",
       "      <td>219.51</td>\n",
       "      <td>2</td>\n",
       "    </tr>\n",
       "    <tr>\n",
       "      <th>2</th>\n",
       "      <td>1</td>\n",
       "      <td>45</td>\n",
       "      <td>3</td>\n",
       "      <td>1525.70</td>\n",
       "      <td>4</td>\n",
       "    </tr>\n",
       "    <tr>\n",
       "      <th>3</th>\n",
       "      <td>1</td>\n",
       "      <td>46</td>\n",
       "      <td>3</td>\n",
       "      <td>715.25</td>\n",
       "      <td>3</td>\n",
       "    </tr>\n",
       "    <tr>\n",
       "      <th>4</th>\n",
       "      <td>1</td>\n",
       "      <td>33</td>\n",
       "      <td>4</td>\n",
       "      <td>1937.50</td>\n",
       "      <td>1</td>\n",
       "    </tr>\n",
       "  </tbody>\n",
       "</table>\n",
       "</div>"
      ],
      "text/plain": [
       "   in-store  age  items   amount  region\n",
       "0         0   37      4   281.03       2\n",
       "1         0   35      2   219.51       2\n",
       "2         1   45      3  1525.70       4\n",
       "3         1   46      3   715.25       3\n",
       "4         1   33      4  1937.50       1"
      ]
     },
     "execution_count": 19,
     "metadata": {},
     "output_type": "execute_result"
    }
   ],
   "source": [
    "df.head()"
   ]
  },
  {
   "cell_type": "code",
   "execution_count": 5,
   "metadata": {},
   "outputs": [
    {
     "ename": "TypeError",
     "evalue": "'(slice(None, None, None), 1)' is an invalid key",
     "output_type": "error",
     "traceback": [
      "\u001b[1;31m---------------------------------------------------------------------------\u001b[0m",
      "\u001b[1;31mTypeError\u001b[0m                                 Traceback (most recent call last)",
      "\u001b[1;32m<ipython-input-5-fd58b220534c>\u001b[0m in \u001b[0;36m<module>\u001b[1;34m\u001b[0m\n\u001b[0;32m      1\u001b[0m \u001b[1;31m#to sum all the value in the age column of df\u001b[0m\u001b[1;33m\u001b[0m\u001b[1;33m\u001b[0m\u001b[1;33m\u001b[0m\u001b[0m\n\u001b[1;32m----> 2\u001b[1;33m \u001b[0mrdc\u001b[0m \u001b[1;33m=\u001b[0m \u001b[0mnp\u001b[0m\u001b[1;33m.\u001b[0m\u001b[0madd\u001b[0m\u001b[1;33m.\u001b[0m\u001b[0mreduce\u001b[0m\u001b[1;33m(\u001b[0m\u001b[0mdf\u001b[0m\u001b[1;33m[\u001b[0m\u001b[1;33m:\u001b[0m\u001b[1;33m,\u001b[0m\u001b[1;36m1\u001b[0m\u001b[1;33m]\u001b[0m\u001b[1;33m)\u001b[0m\u001b[1;33m\u001b[0m\u001b[1;33m\u001b[0m\u001b[0m\n\u001b[0m",
      "\u001b[1;32m~\\anaconda3\\envs\\course1-env\\lib\\site-packages\\pandas\\core\\frame.py\u001b[0m in \u001b[0;36m__getitem__\u001b[1;34m(self, key)\u001b[0m\n\u001b[0;32m   2900\u001b[0m             \u001b[1;32mif\u001b[0m \u001b[0mself\u001b[0m\u001b[1;33m.\u001b[0m\u001b[0mcolumns\u001b[0m\u001b[1;33m.\u001b[0m\u001b[0mnlevels\u001b[0m \u001b[1;33m>\u001b[0m \u001b[1;36m1\u001b[0m\u001b[1;33m:\u001b[0m\u001b[1;33m\u001b[0m\u001b[1;33m\u001b[0m\u001b[0m\n\u001b[0;32m   2901\u001b[0m                 \u001b[1;32mreturn\u001b[0m \u001b[0mself\u001b[0m\u001b[1;33m.\u001b[0m\u001b[0m_getitem_multilevel\u001b[0m\u001b[1;33m(\u001b[0m\u001b[0mkey\u001b[0m\u001b[1;33m)\u001b[0m\u001b[1;33m\u001b[0m\u001b[1;33m\u001b[0m\u001b[0m\n\u001b[1;32m-> 2902\u001b[1;33m             \u001b[0mindexer\u001b[0m \u001b[1;33m=\u001b[0m \u001b[0mself\u001b[0m\u001b[1;33m.\u001b[0m\u001b[0mcolumns\u001b[0m\u001b[1;33m.\u001b[0m\u001b[0mget_loc\u001b[0m\u001b[1;33m(\u001b[0m\u001b[0mkey\u001b[0m\u001b[1;33m)\u001b[0m\u001b[1;33m\u001b[0m\u001b[1;33m\u001b[0m\u001b[0m\n\u001b[0m\u001b[0;32m   2903\u001b[0m             \u001b[1;32mif\u001b[0m \u001b[0mis_integer\u001b[0m\u001b[1;33m(\u001b[0m\u001b[0mindexer\u001b[0m\u001b[1;33m)\u001b[0m\u001b[1;33m:\u001b[0m\u001b[1;33m\u001b[0m\u001b[1;33m\u001b[0m\u001b[0m\n\u001b[0;32m   2904\u001b[0m                 \u001b[0mindexer\u001b[0m \u001b[1;33m=\u001b[0m \u001b[1;33m[\u001b[0m\u001b[0mindexer\u001b[0m\u001b[1;33m]\u001b[0m\u001b[1;33m\u001b[0m\u001b[1;33m\u001b[0m\u001b[0m\n",
      "\u001b[1;32m~\\anaconda3\\envs\\course1-env\\lib\\site-packages\\pandas\\core\\indexes\\base.py\u001b[0m in \u001b[0;36mget_loc\u001b[1;34m(self, key, method, tolerance)\u001b[0m\n\u001b[0;32m   2893\u001b[0m             \u001b[0mcasted_key\u001b[0m \u001b[1;33m=\u001b[0m \u001b[0mself\u001b[0m\u001b[1;33m.\u001b[0m\u001b[0m_maybe_cast_indexer\u001b[0m\u001b[1;33m(\u001b[0m\u001b[0mkey\u001b[0m\u001b[1;33m)\u001b[0m\u001b[1;33m\u001b[0m\u001b[1;33m\u001b[0m\u001b[0m\n\u001b[0;32m   2894\u001b[0m             \u001b[1;32mtry\u001b[0m\u001b[1;33m:\u001b[0m\u001b[1;33m\u001b[0m\u001b[1;33m\u001b[0m\u001b[0m\n\u001b[1;32m-> 2895\u001b[1;33m                 \u001b[1;32mreturn\u001b[0m \u001b[0mself\u001b[0m\u001b[1;33m.\u001b[0m\u001b[0m_engine\u001b[0m\u001b[1;33m.\u001b[0m\u001b[0mget_loc\u001b[0m\u001b[1;33m(\u001b[0m\u001b[0mcasted_key\u001b[0m\u001b[1;33m)\u001b[0m\u001b[1;33m\u001b[0m\u001b[1;33m\u001b[0m\u001b[0m\n\u001b[0m\u001b[0;32m   2896\u001b[0m             \u001b[1;32mexcept\u001b[0m \u001b[0mKeyError\u001b[0m \u001b[1;32mas\u001b[0m \u001b[0merr\u001b[0m\u001b[1;33m:\u001b[0m\u001b[1;33m\u001b[0m\u001b[1;33m\u001b[0m\u001b[0m\n\u001b[0;32m   2897\u001b[0m                 \u001b[1;32mraise\u001b[0m \u001b[0mKeyError\u001b[0m\u001b[1;33m(\u001b[0m\u001b[0mkey\u001b[0m\u001b[1;33m)\u001b[0m \u001b[1;32mfrom\u001b[0m \u001b[0merr\u001b[0m\u001b[1;33m\u001b[0m\u001b[1;33m\u001b[0m\u001b[0m\n",
      "\u001b[1;32mpandas\\_libs\\index.pyx\u001b[0m in \u001b[0;36mpandas._libs.index.IndexEngine.get_loc\u001b[1;34m()\u001b[0m\n",
      "\u001b[1;32mpandas\\_libs\\index.pyx\u001b[0m in \u001b[0;36mpandas._libs.index.IndexEngine.get_loc\u001b[1;34m()\u001b[0m\n",
      "\u001b[1;31mTypeError\u001b[0m: '(slice(None, None, None), 1)' is an invalid key"
     ]
    }
   ],
   "source": [
    "#to sum all the value in the age column of df\n",
    "rdc = np.add.reduce(df[:,1])"
   ]
  },
  {
   "cell_type": "code",
   "execution_count": 6,
   "metadata": {},
   "outputs": [
    {
     "data": {
      "text/plain": [
       "15"
      ]
     },
     "execution_count": 6,
     "metadata": {},
     "output_type": "execute_result"
    }
   ],
   "source": [
    "x = np.arange(1, 6)\n",
    "np.add.reduce(x)"
   ]
  },
  {
   "cell_type": "code",
   "execution_count": 8,
   "metadata": {},
   "outputs": [
    {
     "data": {
      "text/plain": [
       "120"
      ]
     },
     "execution_count": 8,
     "metadata": {},
     "output_type": "execute_result"
    }
   ],
   "source": [
    "np.multiply.reduce(x)"
   ]
  },
  {
   "cell_type": "code",
   "execution_count": 9,
   "metadata": {},
   "outputs": [
    {
     "data": {
      "text/plain": [
       "array([ 1,  3,  6, 10, 15], dtype=int32)"
      ]
     },
     "execution_count": 9,
     "metadata": {},
     "output_type": "execute_result"
    }
   ],
   "source": [
    "#to see all the intermediate stages suppressed with reduce, use accumulate\n",
    "np.add.accumulate(x)"
   ]
  },
  {
   "cell_type": "code",
   "execution_count": 10,
   "metadata": {},
   "outputs": [
    {
     "data": {
      "text/plain": [
       "in-store    4.000000e+04\n",
       "age         3.660634e+06\n",
       "items       3.603980e+05\n",
       "amount      6.687357e+07\n",
       "region      2.140000e+05\n",
       "dtype: float64"
      ]
     },
     "execution_count": 10,
     "metadata": {},
     "output_type": "execute_result"
    }
   ],
   "source": [
    "#to get the sum of columns in an array, add axis=0 parameter\n",
    "df.sum(axis=0)"
   ]
  },
  {
   "cell_type": "code",
   "execution_count": 11,
   "metadata": {},
   "outputs": [
    {
     "data": {
      "text/plain": [
       "in-store     0.0000\n",
       "age         18.0000\n",
       "items        1.0000\n",
       "amount       5.0047\n",
       "region       1.0000\n",
       "dtype: float64"
      ]
     },
     "execution_count": 11,
     "metadata": {},
     "output_type": "execute_result"
    }
   ],
   "source": [
    "#to get minimum value in each column\n",
    "df.min(axis=0)"
   ]
  },
  {
   "cell_type": "code",
   "execution_count": 12,
   "metadata": {},
   "outputs": [
    {
     "data": {
      "text/plain": [
       "in-store       1.0\n",
       "age           85.0\n",
       "items          8.0\n",
       "amount      3000.0\n",
       "region         4.0\n",
       "dtype: float64"
      ]
     },
     "execution_count": 12,
     "metadata": {},
     "output_type": "execute_result"
    }
   ],
   "source": [
    "#to get maximum value in each column\n",
    "df.max(axis=0)"
   ]
  },
  {
   "cell_type": "code",
   "execution_count": 13,
   "metadata": {},
   "outputs": [
    {
     "data": {
      "text/plain": [
       "\u001b[1;31mSignature:\u001b[0m \u001b[0mdf\u001b[0m\u001b[1;33m.\u001b[0m\u001b[0mmax\u001b[0m\u001b[1;33m(\u001b[0m\u001b[0maxis\u001b[0m\u001b[1;33m=\u001b[0m\u001b[1;32mNone\u001b[0m\u001b[1;33m,\u001b[0m \u001b[0mskipna\u001b[0m\u001b[1;33m=\u001b[0m\u001b[1;32mNone\u001b[0m\u001b[1;33m,\u001b[0m \u001b[0mlevel\u001b[0m\u001b[1;33m=\u001b[0m\u001b[1;32mNone\u001b[0m\u001b[1;33m,\u001b[0m \u001b[0mnumeric_only\u001b[0m\u001b[1;33m=\u001b[0m\u001b[1;32mNone\u001b[0m\u001b[1;33m,\u001b[0m \u001b[1;33m**\u001b[0m\u001b[0mkwargs\u001b[0m\u001b[1;33m)\u001b[0m\u001b[1;33m\u001b[0m\u001b[1;33m\u001b[0m\u001b[0m\n",
       "\u001b[1;31mDocstring:\u001b[0m\n",
       "Return the maximum of the values for the requested axis.\n",
       "\n",
       "If you want the *index* of the maximum, use ``idxmax``. This isthe equivalent of the ``numpy.ndarray`` method ``argmax``.\n",
       "\n",
       "Parameters\n",
       "----------\n",
       "axis : {index (0), columns (1)}\n",
       "    Axis for the function to be applied on.\n",
       "skipna : bool, default True\n",
       "    Exclude NA/null values when computing the result.\n",
       "level : int or level name, default None\n",
       "    If the axis is a MultiIndex (hierarchical), count along a\n",
       "    particular level, collapsing into a Series.\n",
       "numeric_only : bool, default None\n",
       "    Include only float, int, boolean columns. If None, will attempt to use\n",
       "    everything, then use only numeric data. Not implemented for Series.\n",
       "**kwargs\n",
       "    Additional keyword arguments to be passed to the function.\n",
       "\n",
       "Returns\n",
       "-------\n",
       "Series or DataFrame (if level specified)\n",
       "\n",
       "See Also\n",
       "--------\n",
       "Series.sum : Return the sum.\n",
       "Series.min : Return the minimum.\n",
       "Series.max : Return the maximum.\n",
       "Series.idxmin : Return the index of the minimum.\n",
       "Series.idxmax : Return the index of the maximum.\n",
       "DataFrame.sum : Return the sum over the requested axis.\n",
       "DataFrame.min : Return the minimum over the requested axis.\n",
       "DataFrame.max : Return the maximum over the requested axis.\n",
       "DataFrame.idxmin : Return the index of the minimum over the requested axis.\n",
       "DataFrame.idxmax : Return the index of the maximum over the requested axis.\n",
       "\n",
       "Examples\n",
       "--------\n",
       ">>> idx = pd.MultiIndex.from_arrays([\n",
       "...     ['warm', 'warm', 'cold', 'cold'],\n",
       "...     ['dog', 'falcon', 'fish', 'spider']],\n",
       "...     names=['blooded', 'animal'])\n",
       ">>> s = pd.Series([4, 2, 0, 8], name='legs', index=idx)\n",
       ">>> s\n",
       "blooded  animal\n",
       "warm     dog       4\n",
       "         falcon    2\n",
       "cold     fish      0\n",
       "         spider    8\n",
       "Name: legs, dtype: int64\n",
       "\n",
       ">>> s.max()\n",
       "8\n",
       "\n",
       "Max using level names, as well as indices.\n",
       "\n",
       ">>> s.max(level='blooded')\n",
       "blooded\n",
       "warm    4\n",
       "cold    8\n",
       "Name: legs, dtype: int64\n",
       "\n",
       ">>> s.max(level=0)\n",
       "blooded\n",
       "warm    4\n",
       "cold    8\n",
       "Name: legs, dtype: int64\n",
       "\u001b[1;31mFile:\u001b[0m      c:\\users\\kpiat\\anaconda3\\envs\\course1-env\\lib\\site-packages\\pandas\\core\\generic.py\n",
       "\u001b[1;31mType:\u001b[0m      method\n"
      ]
     },
     "metadata": {},
     "output_type": "display_data"
    }
   ],
   "source": [
    "#to get max value in each row\n",
    "df.max?"
   ]
  },
  {
   "cell_type": "code",
   "execution_count": 14,
   "metadata": {},
   "outputs": [
    {
     "data": {
      "text/plain": [
       "0         281.03\n",
       "1         219.51\n",
       "2        1525.70\n",
       "3         715.25\n",
       "4        1937.50\n",
       "          ...   \n",
       "79995     558.82\n",
       "79996    1932.00\n",
       "79997     414.16\n",
       "79998     335.32\n",
       "79999     527.12\n",
       "Length: 80000, dtype: float64"
      ]
     },
     "execution_count": 14,
     "metadata": {},
     "output_type": "execute_result"
    }
   ],
   "source": [
    "df.max(axis=1)"
   ]
  },
  {
   "cell_type": "code",
   "execution_count": 18,
   "metadata": {},
   "outputs": [
    {
     "data": {
      "text/plain": [
       "82393"
      ]
     },
     "execution_count": 18,
     "metadata": {},
     "output_type": "execute_result"
    }
   ],
   "source": [
    "#to return index with max value\n",
    "np.argmax(df)"
   ]
  },
  {
   "cell_type": "code",
   "execution_count": 22,
   "metadata": {},
   "outputs": [
    {
     "data": {
      "text/plain": [
       "45.0"
      ]
     },
     "execution_count": 22,
     "metadata": {},
     "output_type": "execute_result"
    }
   ],
   "source": [
    "#this gives you the median of the age column in the df\n",
    "np.median(df['age'])"
   ]
  },
  {
   "cell_type": "code",
   "execution_count": 25,
   "metadata": {},
   "outputs": [
    {
     "name": "stdout",
     "output_type": "stream",
     "text": [
      "mean 45.757925\n"
     ]
    },
    {
     "ename": "AttributeError",
     "evalue": "'numpy.ndarray' object has no attribute 'median'",
     "output_type": "error",
     "traceback": [
      "\u001b[1;31m---------------------------------------------------------------------------\u001b[0m",
      "\u001b[1;31mAttributeError\u001b[0m                            Traceback (most recent call last)",
      "\u001b[1;32m<ipython-input-25-9a15b717b06b>\u001b[0m in \u001b[0;36m<module>\u001b[1;34m\u001b[0m\n\u001b[0;32m      2\u001b[0m \u001b[0mage\u001b[0m \u001b[1;33m=\u001b[0m \u001b[0mnp\u001b[0m\u001b[1;33m.\u001b[0m\u001b[0marray\u001b[0m\u001b[1;33m(\u001b[0m\u001b[0mdf\u001b[0m\u001b[1;33m[\u001b[0m\u001b[1;34m'age'\u001b[0m\u001b[1;33m]\u001b[0m\u001b[1;33m)\u001b[0m\u001b[1;33m\u001b[0m\u001b[1;33m\u001b[0m\u001b[0m\n\u001b[0;32m      3\u001b[0m \u001b[0mprint\u001b[0m\u001b[1;33m(\u001b[0m\u001b[1;34m'mean'\u001b[0m\u001b[1;33m,\u001b[0m \u001b[0mage\u001b[0m\u001b[1;33m.\u001b[0m\u001b[0mmean\u001b[0m\u001b[1;33m(\u001b[0m\u001b[1;33m)\u001b[0m\u001b[1;33m)\u001b[0m\u001b[1;33m\u001b[0m\u001b[1;33m\u001b[0m\u001b[0m\n\u001b[1;32m----> 4\u001b[1;33m \u001b[0mprint\u001b[0m\u001b[1;33m(\u001b[0m\u001b[1;34m'median'\u001b[0m\u001b[1;33m,\u001b[0m \u001b[0mage\u001b[0m\u001b[1;33m.\u001b[0m\u001b[0mmedian\u001b[0m\u001b[1;33m(\u001b[0m\u001b[1;33m)\u001b[0m\u001b[1;33m)\u001b[0m\u001b[1;33m\u001b[0m\u001b[1;33m\u001b[0m\u001b[0m\n\u001b[0m\u001b[0;32m      5\u001b[0m \u001b[0mprint\u001b[0m\u001b[1;33m(\u001b[0m\u001b[1;34m'std'\u001b[0m\u001b[1;33m,\u001b[0m \u001b[0mage\u001b[0m\u001b[1;33m.\u001b[0m\u001b[0mstd\u001b[0m\u001b[1;33m(\u001b[0m\u001b[1;33m)\u001b[0m\u001b[1;33m)\u001b[0m\u001b[1;33m\u001b[0m\u001b[1;33m\u001b[0m\u001b[0m\n",
      "\u001b[1;31mAttributeError\u001b[0m: 'numpy.ndarray' object has no attribute 'median'"
     ]
    }
   ],
   "source": [
    "#you can also get stats of column by creating a variable = to column, then calculating\n",
    "age = np.array(df['age'])\n",
    "print('mean', age.mean())\n",
    "print('median', age.median())\n",
    "print('std', age.std())"
   ]
  },
  {
   "cell_type": "code",
   "execution_count": 26,
   "metadata": {},
   "outputs": [
    {
     "data": {
      "text/plain": [
       "45.0"
      ]
     },
     "execution_count": 26,
     "metadata": {},
     "output_type": "execute_result"
    }
   ],
   "source": [
    "np.median(age)"
   ]
  },
  {
   "cell_type": "code",
   "execution_count": 17,
   "metadata": {},
   "outputs": [
    {
     "data": {
      "text/plain": [
       "array([4.00000000e+04, 3.66063400e+06, 3.60398000e+05, 6.68735736e+07,\n",
       "       2.14000000e+05])"
      ]
     },
     "execution_count": 17,
     "metadata": {},
     "output_type": "execute_result"
    }
   ],
   "source": [
    "#missing value-safe aggregating functions are the same, but ignore missing values\n",
    "np.nansum(df, axis=0)"
   ]
  },
  {
   "cell_type": "code",
   "execution_count": 28,
   "metadata": {},
   "outputs": [
    {
     "data": {
      "text/plain": [
       "\u001b[1;31mDocstring:\u001b[0m\n",
       "::\n",
       "\n",
       "  %matplotlib [-l] [gui]\n",
       "\n",
       "Set up matplotlib to work interactively.\n",
       "\n",
       "This function lets you activate matplotlib interactive support\n",
       "at any point during an IPython session. It does not import anything\n",
       "into the interactive namespace.\n",
       "\n",
       "If you are using the inline matplotlib backend in the IPython Notebook\n",
       "you can set which figure formats are enabled using the following::\n",
       "\n",
       "    In [1]: from IPython.display import set_matplotlib_formats\n",
       "\n",
       "    In [2]: set_matplotlib_formats('pdf', 'svg')\n",
       "\n",
       "The default for inline figures sets `bbox_inches` to 'tight'. This can\n",
       "cause discrepancies between the displayed image and the identical\n",
       "image created using `savefig`. This behavior can be disabled using the\n",
       "`%config` magic::\n",
       "\n",
       "    In [3]: %config InlineBackend.print_figure_kwargs = {'bbox_inches':None}\n",
       "\n",
       "In addition, see the docstring of\n",
       "`IPython.display.set_matplotlib_formats` and\n",
       "`IPython.display.set_matplotlib_close` for more information on\n",
       "changing additional behaviors of the inline backend.\n",
       "\n",
       "Examples\n",
       "--------\n",
       "To enable the inline backend for usage with the IPython Notebook::\n",
       "\n",
       "    In [1]: %matplotlib inline\n",
       "\n",
       "In this case, where the matplotlib default is TkAgg::\n",
       "\n",
       "    In [2]: %matplotlib\n",
       "    Using matplotlib backend: TkAgg\n",
       "\n",
       "But you can explicitly request a different GUI backend::\n",
       "\n",
       "    In [3]: %matplotlib qt\n",
       "\n",
       "You can list the available backends using the -l/--list option::\n",
       "\n",
       "   In [4]: %matplotlib --list\n",
       "   Available matplotlib backends: ['osx', 'qt4', 'qt5', 'gtk3', 'notebook', 'wx', 'qt', 'nbagg',\n",
       "   'gtk', 'tk', 'inline']\n",
       "\n",
       "positional arguments:\n",
       "  gui         Name of the matplotlib backend to use ('agg', 'gtk', 'gtk3', 'inline', 'ipympl', 'nbagg', 'notebook',\n",
       "              'osx', 'pdf', 'ps', 'qt', 'qt4', 'qt5', 'svg', 'tk', 'widget', 'wx'). If given, the corresponding\n",
       "              matplotlib backend is used, otherwise it will be matplotlib's default (which you can set in your\n",
       "              matplotlib config file).\n",
       "\n",
       "optional arguments:\n",
       "  -l, --list  Show available matplotlib backends\n",
       "\u001b[1;31mFile:\u001b[0m      c:\\users\\kpiat\\anaconda3\\envs\\course1-env\\lib\\site-packages\\ipython\\core\\magics\\pylab.py\n"
      ]
     },
     "metadata": {},
     "output_type": "display_data"
    }
   ],
   "source": [
    "%matplotlib?"
   ]
  },
  {
   "cell_type": "code",
   "execution_count": null,
   "metadata": {},
   "outputs": [],
   "source": []
  }
 ],
 "metadata": {
  "kernelspec": {
   "display_name": "course1-env",
   "language": "python",
   "name": "course1-env"
  },
  "language_info": {
   "codemirror_mode": {
    "name": "ipython",
    "version": 3
   },
   "file_extension": ".py",
   "mimetype": "text/x-python",
   "name": "python",
   "nbconvert_exporter": "python",
   "pygments_lexer": "ipython3",
   "version": "3.8.5"
  },
  "toc-autonumbering": true
 },
 "nbformat": 4,
 "nbformat_minor": 4
}
