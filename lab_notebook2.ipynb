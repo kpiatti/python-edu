{
 "cells": [
  {
   "cell_type": "markdown",
   "metadata": {
    "toc": true
   },
   "source": [
    "<h1>Table of Contents<span class=\"tocSkip\"></span></h1>\n",
    "<div class=\"toc\"><ul class=\"toc-item\"><li><span><a href=\"#why-aren't-the-numbers-coming-up?\" data-toc-modified-id=\"why-aren't-the-numbers-coming-up?-1\"><span class=\"toc-item-num\">1&nbsp;&nbsp;</span>why aren't the numbers coming up?</a></span></li><li><span><a href=\"#i-don't-get-it\" data-toc-modified-id=\"i-don't-get-it-2\"><span class=\"toc-item-num\">2&nbsp;&nbsp;</span>i don't get it</a></span><ul class=\"toc-item\"><li><span><a href=\"#maybe-it's-because-i-didn't-start-with-a-number\" data-toc-modified-id=\"maybe-it's-because-i-didn't-start-with-a-number-2.1\"><span class=\"toc-item-num\">2.1&nbsp;&nbsp;</span>maybe it's because i didn't start with a number</a></span></li><li><span><a href=\"#yes!-that-appears-to-be-the-ticket\" data-toc-modified-id=\"yes!-that-appears-to-be-the-ticket-2.2\"><span class=\"toc-item-num\">2.2&nbsp;&nbsp;</span>yes! that appears to be the ticket</a></span></li></ul></li><li><span><a href=\"#don't-start-the-title-with-a-number\" data-toc-modified-id=\"don't-start-the-title-with-a-number-3\"><span class=\"toc-item-num\">3&nbsp;&nbsp;</span>don't start the title with a number</a></span></li><li><span><a href=\"#so-press-2-to-get-top-level\" data-toc-modified-id=\"so-press-2-to-get-top-level-4\"><span class=\"toc-item-num\">4&nbsp;&nbsp;</span>so press 2 to get top level</a></span><ul class=\"toc-item\"><li><ul class=\"toc-item\"><li><span><a href=\"#press-3-to-get-2.1-etc\" data-toc-modified-id=\"press-3-to-get-2.1-etc-4.0.1\"><span class=\"toc-item-num\">4.0.1&nbsp;&nbsp;</span>press 3 to get 2.1 etc</a></span></li><li><span><a href=\"#oh-i-see-i-pressed-4-instead-of-3\" data-toc-modified-id=\"oh-i-see-i-pressed-4-instead-of-3-4.0.2\"><span class=\"toc-item-num\">4.0.2&nbsp;&nbsp;</span>oh i see i pressed 4 instead of 3</a></span></li></ul></li><li><span><a href=\"#that-doesnt-make-sense\" data-toc-modified-id=\"that-doesnt-make-sense-4.1\"><span class=\"toc-item-num\">4.1&nbsp;&nbsp;</span>that doesnt make sense</a></span></li></ul></li></ul></div>"
   ]
  },
  {
   "cell_type": "markdown",
   "metadata": {},
   "source": [
    "# this is a test "
   ]
  },
  {
   "cell_type": "markdown",
   "metadata": {},
   "source": [
    "# 1 this is a test"
   ]
  },
  {
   "cell_type": "markdown",
   "metadata": {},
   "source": [
    "## why aren't the numbers coming up?"
   ]
  },
  {
   "cell_type": "markdown",
   "metadata": {},
   "source": [
    "# that is strange"
   ]
  },
  {
   "cell_type": "markdown",
   "metadata": {},
   "source": []
  },
  {
   "cell_type": "markdown",
   "metadata": {},
   "source": [
    "## i don't get it"
   ]
  },
  {
   "cell_type": "markdown",
   "metadata": {},
   "source": [
    "### maybe it's because i didn't start with a number"
   ]
  },
  {
   "cell_type": "markdown",
   "metadata": {},
   "source": [
    "### yes! that appears to be the ticket"
   ]
  },
  {
   "cell_type": "markdown",
   "metadata": {},
   "source": [
    "## don't start the title with a number"
   ]
  },
  {
   "cell_type": "markdown",
   "metadata": {},
   "source": [
    "# if pressing 2 gives you top level, what about 2"
   ]
  },
  {
   "cell_type": "markdown",
   "metadata": {},
   "source": [
    "## so press 2 to get top level"
   ]
  },
  {
   "cell_type": "markdown",
   "metadata": {},
   "source": [
    "#### oh i see i pressed 4 instead of 3"
   ]
  },
  {
   "cell_type": "markdown",
   "metadata": {},
   "source": [
    "#### press 3 to get 2.1 etc "
   ]
  },
  {
   "cell_type": "code",
   "execution_count": 2,
   "metadata": {},
   "outputs": [],
   "source": [
    "#testing the tab function to see if it brings up a list of code completion \n",
    "import pandas as pd"
   ]
  },
  {
   "cell_type": "code",
   "execution_count": 3,
   "metadata": {},
   "outputs": [
    {
     "ename": "SyntaxError",
     "evalue": "invalid syntax (<ipython-input-3-75e0165cf2ce>, line 1)",
     "output_type": "error",
     "traceback": [
      "\u001b[1;36m  File \u001b[1;32m\"<ipython-input-3-75e0165cf2ce>\"\u001b[1;36m, line \u001b[1;32m1\u001b[0m\n\u001b[1;33m    pd.read_csv iris\u001b[0m\n\u001b[1;37m                ^\u001b[0m\n\u001b[1;31mSyntaxError\u001b[0m\u001b[1;31m:\u001b[0m invalid syntax\n"
     ]
    }
   ],
   "source": [
    "pd.read_csv iris"
   ]
  },
  {
   "cell_type": "markdown",
   "metadata": {},
   "source": [
    "### that doesnt make sense"
   ]
  }
 ],
 "metadata": {
  "kernelspec": {
   "display_name": "course1-env",
   "language": "python",
   "name": "course1-env"
  },
  "language_info": {
   "codemirror_mode": {
    "name": "ipython",
    "version": 3
   },
   "file_extension": ".py",
   "mimetype": "text/x-python",
   "name": "python",
   "nbconvert_exporter": "python",
   "pygments_lexer": "ipython3",
   "version": "3.8.5"
  },
  "toc": {
   "base_numbering": 1,
   "nav_menu": {},
   "number_sections": true,
   "sideBar": true,
   "skip_h1_title": true,
   "title_cell": "Table of Contents",
   "title_sidebar": "Contents",
   "toc_cell": true,
   "toc_position": {},
   "toc_section_display": true,
   "toc_window_display": true
  }
 },
 "nbformat": 4,
 "nbformat_minor": 4
}
